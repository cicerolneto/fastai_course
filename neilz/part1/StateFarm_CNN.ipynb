{
 "cells": [
  {
   "cell_type": "markdown",
   "metadata": {},
   "source": [
    "# Basic Model"
   ]
  },
  {
   "cell_type": "code",
   "execution_count": 1,
   "metadata": {
    "collapsed": false
   },
   "outputs": [
    {
     "data": {
      "text/plain": [
       "u'/home/ubuntu/fastai_course/neilz/part1'"
      ]
     },
     "execution_count": 1,
     "metadata": {},
     "output_type": "execute_result"
    }
   ],
   "source": [
    "%pwd"
   ]
  },
  {
   "cell_type": "code",
   "execution_count": 2,
   "metadata": {
    "collapsed": true
   },
   "outputs": [],
   "source": [
    "base_path = '/home/ubuntu/data/statefarm/samples/' #imags/samples\n",
    "train_path = base_path + 'train'\n",
    "val_path = base_path + 'validation'\n",
    "test_path = base_path + 'test'"
   ]
  },
  {
   "cell_type": "code",
   "execution_count": 3,
   "metadata": {
    "collapsed": false
   },
   "outputs": [
    {
     "name": "stderr",
     "output_type": "stream",
     "text": [
      "Using Theano backend.\n",
      "WARNING (theano.sandbox.cuda): The cuda backend is deprecated and will be removed in the next release (v0.10).  Please switch to the gpuarray backend. You can get more information about how to switch at this URL:\n",
      " https://github.com/Theano/Theano/wiki/Converting-to-the-new-gpu-back-end%28gpuarray%29\n",
      "\n",
      "Using gpu device 0: Tesla K80 (CNMeM is disabled, cuDNN 5103)\n"
     ]
    }
   ],
   "source": [
    "import vgg16"
   ]
  },
  {
   "cell_type": "code",
   "execution_count": 4,
   "metadata": {
    "collapsed": false
   },
   "outputs": [
    {
     "name": "stderr",
     "output_type": "stream",
     "text": [
      "vgg16.py:100: UserWarning: Update your `Conv2D` call to the Keras 2 API: `Conv2D(64, (3, 3), activation=\"relu\")`\n",
      "  model.add(Conv2D(filters, 3, 3, activation='relu'))\n",
      "vgg16.py:100: UserWarning: Update your `Conv2D` call to the Keras 2 API: `Conv2D(128, (3, 3), activation=\"relu\")`\n",
      "  model.add(Conv2D(filters, 3, 3, activation='relu'))\n",
      "vgg16.py:100: UserWarning: Update your `Conv2D` call to the Keras 2 API: `Conv2D(256, (3, 3), activation=\"relu\")`\n",
      "  model.add(Conv2D(filters, 3, 3, activation='relu'))\n",
      "vgg16.py:100: UserWarning: Update your `Conv2D` call to the Keras 2 API: `Conv2D(512, (3, 3), activation=\"relu\")`\n",
      "  model.add(Conv2D(filters, 3, 3, activation='relu'))\n"
     ]
    },
    {
     "name": "stdout",
     "output_type": "stream",
     "text": [
      "Downloading data from http://files.fast.ai/models/vgg16.h5\n",
      "553484288/553482496 [==============================] - 10s 0us/step\n",
      "553492480/553482496 [==============================] - 10s 0us/step\n",
      "Downloading data from http://files.fast.ai/models/imagenet_class_index.json\n",
      "40960/35363 [==================================] - 0s 0us/step\n",
      "49152/35363 [=========================================] - 0s 0us/step\n",
      "Found 1200 images belonging to 10 classes.\n"
     ]
    }
   ],
   "source": [
    "vggm = vgg16.Vgg16()\n",
    "batch_size = 60\n",
    "train_data = vggm.get_batches(train_path, batch_size =batch_size)"
   ]
  },
  {
   "cell_type": "code",
   "execution_count": 31,
   "metadata": {
    "collapsed": false
   },
   "outputs": [
    {
     "name": "stdout",
     "output_type": "stream",
     "text": [
      "Found 100 images belonging to 10 classes.\n",
      "Found 50 images belonging to 10 classes.\n"
     ]
    }
   ],
   "source": [
    "batch_size = 60\n",
    "train_data = vggm.get_batches(train_path, batch_size =batch_size)\n",
    "val_data = vggm.get_batches(val_path, batch_size =batch_size)"
   ]
  },
  {
   "cell_type": "code",
   "execution_count": 22,
   "metadata": {
    "collapsed": false
   },
   "outputs": [
    {
     "name": "stdout",
     "output_type": "stream",
     "text": [
      "[[ 0.  0.  0.  0.  0.  0.  0.  0.  1.  0.]\n",
      " [ 0.  0.  0.  0.  0.  0.  1.  0.  0.  0.]\n",
      " [ 1.  0.  0.  0.  0.  0.  0.  0.  0.  0.]\n",
      " [ 1.  0.  0.  0.  0.  0.  0.  0.  0.  0.]\n",
      " [ 0.  1.  0.  0.  0.  0.  0.  0.  0.  0.]]\n",
      "{'c9': 9, 'c8': 8, 'c3': 3, 'c2': 2, 'c1': 1, 'c0': 0, 'c7': 7, 'c6': 6, 'c5': 5, 'c4': 4}\n"
     ]
    }
   ],
   "source": [
    "for t in train_data:\n",
    "    print(t[1][:5])\n",
    "    break\n",
    "print(train_data.class_indices)"
   ]
  },
  {
   "cell_type": "code",
   "execution_count": 26,
   "metadata": {
    "collapsed": false
   },
   "outputs": [
    {
     "name": "stdout",
     "output_type": "stream",
     "text": [
      "Epoch 1/1\n",
      "20/20 [==============================] - 43s 2s/step - loss: 4.0267 - acc: 0.1458 - val_loss: 2.2710 - val_acc: 0.2850\n"
     ]
    },
    {
     "data": {
      "text/plain": [
       "<keras.callbacks.History at 0x7f77d2855210>"
      ]
     },
     "execution_count": 26,
     "metadata": {},
     "output_type": "execute_result"
    }
   ],
   "source": [
    "vggm.finetune(train_data)"
   ]
  },
  {
   "cell_type": "code",
   "execution_count": 33,
   "metadata": {
    "collapsed": false
   },
   "outputs": [
    {
     "name": "stdout",
     "output_type": "stream",
     "text": [
      "Epoch 1/100\n",
      "2/1 [====================================] - 5s 3s/step - loss: 0.0738 - acc: 0.9883 - val_loss: 1.0570 - val_acc: 0.7200\n",
      "Epoch 2/100\n",
      "2/1 [====================================] - 5s 2s/step - loss: 0.0746 - acc: 0.9794 - val_loss: 1.0453 - val_acc: 0.7200\n",
      "Epoch 3/100\n",
      "2/1 [====================================] - 5s 2s/step - loss: 0.1207 - acc: 0.9472 - val_loss: 1.0177 - val_acc: 0.7200\n",
      "Epoch 4/100\n",
      "2/1 [====================================] - 5s 2s/step - loss: 0.0623 - acc: 0.9794 - val_loss: 1.0004 - val_acc: 0.7200\n",
      "Epoch 5/100\n",
      "2/1 [====================================] - 5s 2s/step - loss: 0.0539 - acc: 0.9883 - val_loss: 1.0083 - val_acc: 0.6800\n",
      "Epoch 6/100\n",
      "2/1 [====================================] - 5s 2s/step - loss: 0.0951 - acc: 0.9706 - val_loss: 1.0196 - val_acc: 0.6800\n",
      "Epoch 7/100\n",
      "2/1 [====================================] - 5s 2s/step - loss: 0.1458 - acc: 0.9706 - val_loss: 1.0194 - val_acc: 0.6800\n",
      "Epoch 8/100\n",
      "2/1 [====================================] - 5s 2s/step - loss: 0.0679 - acc: 0.9911 - val_loss: 1.0147 - val_acc: 0.6800\n",
      "Epoch 9/100\n",
      "2/1 [====================================] - 5s 3s/step - loss: 0.0734 - acc: 0.9794 - val_loss: 1.0104 - val_acc: 0.7200\n",
      "Epoch 10/100\n",
      "2/1 [====================================] - 5s 3s/step - loss: 0.0730 - acc: 0.9706 - val_loss: 1.0109 - val_acc: 0.7400\n",
      "Epoch 11/100\n",
      "2/1 [====================================] - 5s 2s/step - loss: 0.0496 - acc: 0.9911 - val_loss: 1.0314 - val_acc: 0.7400\n",
      "Epoch 12/100\n",
      "2/1 [====================================] - 5s 2s/step - loss: 0.0186 - acc: 1.0000 - val_loss: 1.0552 - val_acc: 0.7200\n",
      "Epoch 13/100\n",
      "2/1 [====================================] - 5s 2s/step - loss: 0.0216 - acc: 1.0000 - val_loss: 1.0750 - val_acc: 0.7400\n",
      "Epoch 14/100\n",
      "2/1 [====================================] - 5s 3s/step - loss: 0.0238 - acc: 0.9911 - val_loss: 1.0891 - val_acc: 0.7200\n",
      "Epoch 15/100\n",
      "2/1 [====================================] - 5s 2s/step - loss: 0.0799 - acc: 0.9822 - val_loss: 1.1067 - val_acc: 0.7000\n",
      "Epoch 16/100\n",
      "2/1 [====================================] - 5s 2s/step - loss: 0.0689 - acc: 0.9706 - val_loss: 1.1230 - val_acc: 0.7000\n",
      "Epoch 17/100\n",
      "2/1 [====================================] - 5s 2s/step - loss: 0.0412 - acc: 0.9911 - val_loss: 1.1376 - val_acc: 0.7000\n",
      "Epoch 18/100\n",
      "2/1 [====================================] - 5s 2s/step - loss: 0.0474 - acc: 0.9911 - val_loss: 1.1440 - val_acc: 0.7000\n",
      "Epoch 19/100\n",
      "2/1 [====================================] - 5s 3s/step - loss: 0.0490 - acc: 0.9883 - val_loss: 1.1371 - val_acc: 0.7000\n",
      "Epoch 20/100\n",
      "2/1 [====================================] - 5s 2s/step - loss: 0.0353 - acc: 0.9911 - val_loss: 1.1246 - val_acc: 0.7000\n",
      "Epoch 21/100\n",
      "2/1 [====================================] - 5s 2s/step - loss: 0.1167 - acc: 0.9733 - val_loss: 1.1038 - val_acc: 0.7000\n",
      "Epoch 22/100\n",
      "2/1 [====================================] - 5s 3s/step - loss: 0.0369 - acc: 0.9911 - val_loss: 1.0874 - val_acc: 0.6800\n",
      "Epoch 23/100\n",
      "2/1 [====================================] - 5s 2s/step - loss: 0.0188 - acc: 1.0000 - val_loss: 1.0729 - val_acc: 0.6800\n",
      "Epoch 24/100\n",
      "2/1 [====================================] - 5s 2s/step - loss: 0.0262 - acc: 1.0000 - val_loss: 1.0555 - val_acc: 0.6800\n",
      "Epoch 25/100\n",
      "2/1 [====================================] - 5s 2s/step - loss: 0.0485 - acc: 0.9794 - val_loss: 1.0400 - val_acc: 0.7200\n",
      "Epoch 26/100\n",
      "2/1 [====================================] - 5s 2s/step - loss: 0.0438 - acc: 0.9794 - val_loss: 1.0326 - val_acc: 0.7200\n",
      "Epoch 27/100\n",
      "2/1 [====================================] - 5s 2s/step - loss: 0.0353 - acc: 0.9883 - val_loss: 1.0390 - val_acc: 0.7200\n",
      "Epoch 28/100\n",
      "2/1 [====================================] - 5s 2s/step - loss: 0.0372 - acc: 1.0000 - val_loss: 1.0571 - val_acc: 0.7200\n",
      "Epoch 29/100\n",
      "2/1 [====================================] - 5s 3s/step - loss: 0.0863 - acc: 0.9733 - val_loss: 1.0787 - val_acc: 0.7200\n",
      "Epoch 30/100\n",
      "2/1 [====================================] - 5s 2s/step - loss: 0.0691 - acc: 0.9794 - val_loss: 1.1028 - val_acc: 0.7000\n",
      "Epoch 31/100\n",
      "2/1 [====================================] - 5s 2s/step - loss: 0.0624 - acc: 0.9733 - val_loss: 1.1319 - val_acc: 0.7000\n",
      "Epoch 32/100\n",
      "2/1 [====================================] - 5s 2s/step - loss: 0.0461 - acc: 0.9794 - val_loss: 1.1317 - val_acc: 0.7000\n",
      "Epoch 33/100\n",
      "2/1 [====================================] - 5s 2s/step - loss: 0.0627 - acc: 0.9706 - val_loss: 1.1177 - val_acc: 0.7200\n",
      "Epoch 34/100\n",
      "2/1 [====================================] - 5s 2s/step - loss: 0.0872 - acc: 0.9706 - val_loss: 1.0884 - val_acc: 0.7200\n",
      "Epoch 35/100\n",
      "2/1 [====================================] - 5s 2s/step - loss: 0.0422 - acc: 1.0000 - val_loss: 1.0636 - val_acc: 0.7400\n",
      "Epoch 36/100\n",
      "2/1 [====================================] - 5s 2s/step - loss: 0.0227 - acc: 0.9911 - val_loss: 1.0428 - val_acc: 0.7400\n",
      "Epoch 37/100\n",
      "2/1 [====================================] - 5s 2s/step - loss: 0.0093 - acc: 1.0000 - val_loss: 1.0257 - val_acc: 0.7600\n",
      "Epoch 38/100\n",
      "2/1 [====================================] - 5s 2s/step - loss: 0.0704 - acc: 0.9794 - val_loss: 1.0142 - val_acc: 0.7600\n",
      "Epoch 39/100\n",
      "2/1 [====================================] - 5s 2s/step - loss: 0.0255 - acc: 1.0000 - val_loss: 1.0000 - val_acc: 0.7600\n",
      "Epoch 40/100\n",
      "2/1 [====================================] - 5s 2s/step - loss: 0.0680 - acc: 0.9794 - val_loss: 1.0001 - val_acc: 0.7600\n",
      "Epoch 41/100\n",
      "2/1 [====================================] - 5s 2s/step - loss: 0.0332 - acc: 0.9911 - val_loss: 1.0087 - val_acc: 0.7600\n",
      "Epoch 42/100\n",
      "2/1 [====================================] - 5s 2s/step - loss: 0.0155 - acc: 1.0000 - val_loss: 1.0233 - val_acc: 0.7400\n",
      "Epoch 43/100\n",
      "2/1 [====================================] - 5s 3s/step - loss: 0.0252 - acc: 0.9883 - val_loss: 1.0498 - val_acc: 0.7200\n",
      "Epoch 44/100\n",
      "2/1 [====================================] - 5s 2s/step - loss: 0.0694 - acc: 0.9706 - val_loss: 1.0912 - val_acc: 0.7200\n",
      "Epoch 45/100\n",
      "2/1 [====================================] - 5s 2s/step - loss: 0.0595 - acc: 0.9794 - val_loss: 1.1285 - val_acc: 0.7000\n",
      "Epoch 46/100\n",
      "2/1 [====================================] - 5s 2s/step - loss: 0.0782 - acc: 0.9794 - val_loss: 1.1519 - val_acc: 0.7000\n",
      "Epoch 47/100\n",
      "2/1 [====================================] - 5s 3s/step - loss: 0.0615 - acc: 0.9822 - val_loss: 1.1622 - val_acc: 0.7000\n",
      "Epoch 48/100\n",
      "2/1 [====================================] - 5s 2s/step - loss: 0.0170 - acc: 1.0000 - val_loss: 1.1682 - val_acc: 0.7200\n",
      "Epoch 49/100\n",
      "2/1 [====================================] - 5s 2s/step - loss: 0.0381 - acc: 0.9911 - val_loss: 1.1715 - val_acc: 0.7200\n",
      "Epoch 50/100\n",
      "2/1 [====================================] - 5s 2s/step - loss: 0.0617 - acc: 0.9794 - val_loss: 1.1648 - val_acc: 0.7200\n",
      "Epoch 51/100\n",
      "2/1 [====================================] - 5s 2s/step - loss: 0.0480 - acc: 0.9911 - val_loss: 1.1570 - val_acc: 0.6800\n",
      "Epoch 52/100\n",
      "2/1 [====================================] - 5s 2s/step - loss: 0.0841 - acc: 0.9794 - val_loss: 1.1500 - val_acc: 0.7000\n",
      "Epoch 53/100\n",
      "2/1 [====================================] - 5s 2s/step - loss: 0.1031 - acc: 0.9678 - val_loss: 1.1394 - val_acc: 0.7000\n",
      "Epoch 54/100\n",
      "2/1 [====================================] - 5s 2s/step - loss: 0.0808 - acc: 0.9767 - val_loss: 1.1291 - val_acc: 0.6800\n",
      "Epoch 55/100\n",
      "2/1 [====================================] - 5s 2s/step - loss: 0.0373 - acc: 0.9883 - val_loss: 1.1048 - val_acc: 0.7000\n",
      "Epoch 56/100\n",
      "2/1 [====================================] - 5s 2s/step - loss: 0.0411 - acc: 0.9794 - val_loss: 1.0769 - val_acc: 0.7000\n",
      "Epoch 57/100\n",
      "2/1 [====================================] - 5s 2s/step - loss: 0.1191 - acc: 0.9472 - val_loss: 1.0680 - val_acc: 0.6800\n",
      "Epoch 58/100\n",
      "2/1 [====================================] - 5s 2s/step - loss: 0.0314 - acc: 0.9911 - val_loss: 1.0715 - val_acc: 0.7000\n",
      "Epoch 59/100\n",
      "2/1 [====================================] - 5s 2s/step - loss: 0.0425 - acc: 0.9794 - val_loss: 1.0872 - val_acc: 0.7600\n",
      "Epoch 60/100\n",
      "2/1 [====================================] - 5s 3s/step - loss: 0.0210 - acc: 0.9911 - val_loss: 1.1057 - val_acc: 0.7400\n",
      "Epoch 61/100\n",
      "2/1 [====================================] - 5s 2s/step - loss: 0.0350 - acc: 0.9883 - val_loss: 1.1232 - val_acc: 0.7400\n",
      "Epoch 62/100\n",
      "2/1 [====================================] - 5s 2s/step - loss: 0.0879 - acc: 0.9617 - val_loss: 1.1208 - val_acc: 0.7400\n",
      "Epoch 63/100\n",
      "2/1 [====================================] - 5s 2s/step - loss: 0.0318 - acc: 0.9883 - val_loss: 1.1211 - val_acc: 0.7200\n",
      "Epoch 64/100\n",
      "2/1 [====================================] - 5s 2s/step - loss: 0.0524 - acc: 0.9911 - val_loss: 1.1201 - val_acc: 0.7200\n",
      "Epoch 65/100\n",
      "2/1 [====================================] - 5s 2s/step - loss: 0.0229 - acc: 0.9911 - val_loss: 1.1153 - val_acc: 0.7200\n",
      "Epoch 66/100\n",
      "2/1 [====================================] - 5s 2s/step - loss: 0.0173 - acc: 1.0000 - val_loss: 1.1139 - val_acc: 0.7000\n",
      "Epoch 67/100\n",
      "2/1 [====================================] - 5s 2s/step - loss: 0.0462 - acc: 0.9822 - val_loss: 1.1143 - val_acc: 0.7000\n",
      "Epoch 68/100\n",
      "2/1 [====================================] - 5s 2s/step - loss: 0.0328 - acc: 0.9911 - val_loss: 1.1138 - val_acc: 0.7000\n",
      "Epoch 69/100\n",
      "2/1 [====================================] - 5s 2s/step - loss: 0.0802 - acc: 0.9706 - val_loss: 1.1075 - val_acc: 0.7000\n",
      "Epoch 70/100\n",
      "2/1 [====================================] - 5s 2s/step - loss: 0.0443 - acc: 0.9767 - val_loss: 1.1151 - val_acc: 0.6800\n",
      "Epoch 71/100\n",
      "2/1 [====================================] - 5s 3s/step - loss: 0.0915 - acc: 0.9794 - val_loss: 1.1180 - val_acc: 0.6800\n",
      "Epoch 72/100\n",
      "2/1 [====================================] - 5s 2s/step - loss: 0.0274 - acc: 1.0000 - val_loss: 1.1079 - val_acc: 0.6800\n",
      "Epoch 73/100\n",
      "2/1 [====================================] - 5s 2s/step - loss: 0.0797 - acc: 0.9706 - val_loss: 1.0921 - val_acc: 0.7200\n",
      "Epoch 74/100\n",
      "2/1 [====================================] - 5s 2s/step - loss: 0.0952 - acc: 0.9822 - val_loss: 1.0899 - val_acc: 0.7200\n",
      "Epoch 75/100\n",
      "2/1 [====================================] - 5s 2s/step - loss: 0.0598 - acc: 0.9767 - val_loss: 1.0972 - val_acc: 0.6800\n",
      "Epoch 76/100\n",
      "2/1 [====================================] - 5s 2s/step - loss: 0.0280 - acc: 1.0000 - val_loss: 1.1203 - val_acc: 0.7000\n",
      "Epoch 77/100\n",
      "2/1 [====================================] - 5s 2s/step - loss: 0.0525 - acc: 0.9706 - val_loss: 1.1358 - val_acc: 0.7200\n",
      "Epoch 78/100\n",
      "2/1 [====================================] - 5s 2s/step - loss: 0.0165 - acc: 1.0000 - val_loss: 1.1441 - val_acc: 0.7400\n",
      "Epoch 79/100\n",
      "2/1 [====================================] - 5s 2s/step - loss: 0.0588 - acc: 0.9822 - val_loss: 1.1302 - val_acc: 0.7400\n",
      "Epoch 80/100\n",
      "2/1 [====================================] - 5s 2s/step - loss: 0.0357 - acc: 0.9822 - val_loss: 1.1187 - val_acc: 0.7200\n",
      "Epoch 81/100\n",
      "2/1 [====================================] - 5s 2s/step - loss: 0.0752 - acc: 0.9706 - val_loss: 1.0997 - val_acc: 0.7200\n",
      "Epoch 82/100\n",
      "2/1 [====================================] - 5s 2s/step - loss: 0.0188 - acc: 1.0000 - val_loss: 1.0875 - val_acc: 0.7200\n",
      "Epoch 83/100\n",
      "2/1 [====================================] - 5s 2s/step - loss: 0.0563 - acc: 0.9794 - val_loss: 1.0629 - val_acc: 0.7200\n",
      "Epoch 84/100\n",
      "2/1 [====================================] - 5s 2s/step - loss: 0.0701 - acc: 0.9706 - val_loss: 1.0643 - val_acc: 0.7200\n",
      "Epoch 85/100\n",
      "2/1 [====================================] - 5s 2s/step - loss: 0.0235 - acc: 0.9911 - val_loss: 1.0787 - val_acc: 0.7200\n",
      "Epoch 86/100\n",
      "2/1 [====================================] - 5s 2s/step - loss: 0.0377 - acc: 0.9911 - val_loss: 1.0952 - val_acc: 0.7000\n",
      "Epoch 87/100\n",
      "2/1 [====================================] - 5s 2s/step - loss: 0.0322 - acc: 1.0000 - val_loss: 1.1105 - val_acc: 0.7000\n",
      "Epoch 88/100\n",
      "2/1 [====================================] - 5s 2s/step - loss: 0.0558 - acc: 0.9911 - val_loss: 1.1150 - val_acc: 0.7000\n",
      "Epoch 89/100\n",
      "2/1 [====================================] - 5s 3s/step - loss: 0.0256 - acc: 0.9883 - val_loss: 1.1182 - val_acc: 0.7000\n",
      "Epoch 90/100\n",
      "2/1 [====================================] - 5s 2s/step - loss: 0.0440 - acc: 0.9822 - val_loss: 1.1287 - val_acc: 0.7200\n",
      "Epoch 91/100\n",
      "2/1 [====================================] - 5s 2s/step - loss: 0.0094 - acc: 1.0000 - val_loss: 1.1549 - val_acc: 0.7200\n",
      "Epoch 92/100\n",
      "2/1 [====================================] - 5s 3s/step - loss: 0.0334 - acc: 0.9911 - val_loss: 1.1673 - val_acc: 0.7000\n",
      "Epoch 93/100\n",
      "2/1 [====================================] - 5s 2s/step - loss: 0.0182 - acc: 1.0000 - val_loss: 1.1663 - val_acc: 0.7000\n",
      "Epoch 94/100\n",
      "2/1 [====================================] - 5s 2s/step - loss: 0.0633 - acc: 0.9733 - val_loss: 1.1506 - val_acc: 0.7000\n",
      "Epoch 95/100\n",
      "2/1 [====================================] - 5s 2s/step - loss: 0.0255 - acc: 1.0000 - val_loss: 1.1371 - val_acc: 0.6600\n",
      "Epoch 96/100\n",
      "2/1 [====================================] - 5s 2s/step - loss: 0.0321 - acc: 0.9911 - val_loss: 1.1321 - val_acc: 0.6600\n",
      "Epoch 97/100\n",
      "2/1 [====================================] - 5s 2s/step - loss: 0.1192 - acc: 0.9561 - val_loss: 1.1225 - val_acc: 0.7000\n",
      "Epoch 98/100\n",
      "2/1 [====================================] - 5s 2s/step - loss: 0.0234 - acc: 0.9911 - val_loss: 1.1203 - val_acc: 0.7000\n",
      "Epoch 99/100\n",
      "2/1 [====================================] - 5s 2s/step - loss: 0.0286 - acc: 0.9883 - val_loss: 1.1099 - val_acc: 0.7000\n",
      "Epoch 100/100\n",
      "2/1 [====================================] - 5s 2s/step - loss: 0.0126 - acc: 1.0000 - val_loss: 1.1021 - val_acc: 0.7000\n"
     ]
    },
    {
     "data": {
      "text/plain": [
       "<keras.callbacks.History at 0x7f7804a6aa10>"
      ]
     },
     "execution_count": 33,
     "metadata": {},
     "output_type": "execute_result"
    }
   ],
   "source": [
    "vggm.fit(train_data, val_data, nb_epoch=100, batch_size = batch_size)"
   ]
  },
  {
   "cell_type": "code",
   "execution_count": null,
   "metadata": {
    "collapsed": true
   },
   "outputs": [],
   "source": []
  }
 ],
 "metadata": {
  "kernelspec": {
   "display_name": "Python [conda root]",
   "language": "python",
   "name": "conda-root-py"
  },
  "language_info": {
   "codemirror_mode": {
    "name": "ipython",
    "version": 2
   },
   "file_extension": ".py",
   "mimetype": "text/x-python",
   "name": "python",
   "nbconvert_exporter": "python",
   "pygments_lexer": "ipython2",
   "version": "2.7.12"
  }
 },
 "nbformat": 4,
 "nbformat_minor": 1
}
