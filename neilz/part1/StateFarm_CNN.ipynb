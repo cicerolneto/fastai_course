{
 "cells": [
  {
   "cell_type": "markdown",
   "metadata": {},
   "source": [
    "# Basic Model"
   ]
  },
  {
   "cell_type": "code",
   "execution_count": 1,
   "metadata": {
    "collapsed": false
   },
   "outputs": [
    {
     "data": {
      "text/plain": [
       "u'/home/ubuntu/fastai_course/neilz/part1'"
      ]
     },
     "execution_count": 1,
     "metadata": {},
     "output_type": "execute_result"
    }
   ],
   "source": [
    "%pwd"
   ]
  },
  {
   "cell_type": "code",
   "execution_count": 72,
   "metadata": {
    "collapsed": true
   },
   "outputs": [],
   "source": [
    "base_path = '/home/ubuntu/data/statefarm/samples/' #imags/samples\n",
    "train_path = base_path + 'train'\n",
    "val_path = base_path + 'validation'\n",
    "test_path = base_path + 'test'\n",
    "weight_path = '/home/ubuntu/data/weights/statefarm/'\n",
    "sub_path = '/home/ubuntu/fastai_course/neilz/part1/sub/statefarm/'"
   ]
  },
  {
   "cell_type": "code",
   "execution_count": 100,
   "metadata": {
    "collapsed": false
   },
   "outputs": [],
   "source": [
    "import vgg16"
   ]
  },
  {
   "cell_type": "code",
   "execution_count": 16,
   "metadata": {
    "collapsed": false
   },
   "outputs": [],
   "source": [
    "vggm = vgg16.Vgg16()\n",
    "#batch_size = 60\n",
    "#train_data = vggm.get_batches(train_path, batch_size =batch_size)"
   ]
  },
  {
   "cell_type": "code",
   "execution_count": 17,
   "metadata": {
    "collapsed": false
   },
   "outputs": [
    {
     "name": "stdout",
     "output_type": "stream",
     "text": [
      "Found 100 images belonging to 10 classes.\n",
      "Found 50 images belonging to 10 classes.\n"
     ]
    }
   ],
   "source": [
    "batch_size = 60\n",
    "train_data = vggm.get_batches(train_path, batch_size =batch_size)\n",
    "val_data = vggm.get_batches(val_path, batch_size =batch_size)"
   ]
  },
  {
   "cell_type": "code",
   "execution_count": 18,
   "metadata": {
    "collapsed": false
   },
   "outputs": [
    {
     "name": "stdout",
     "output_type": "stream",
     "text": [
      "[[ 0.  1.  0.  0.  0.  0.  0.  0.  0.  0.]\n",
      " [ 0.  0.  0.  0.  0.  0.  0.  0.  0.  1.]\n",
      " [ 0.  0.  0.  0.  0.  1.  0.  0.  0.  0.]\n",
      " [ 0.  0.  0.  0.  0.  1.  0.  0.  0.  0.]\n",
      " [ 0.  0.  0.  0.  0.  0.  0.  0.  0.  1.]]\n",
      "{'c9': 9, 'c8': 8, 'c3': 3, 'c2': 2, 'c1': 1, 'c0': 0, 'c7': 7, 'c6': 6, 'c5': 5, 'c4': 4}\n"
     ]
    }
   ],
   "source": [
    "for t in train_data:\n",
    "    print(t[1][:5])\n",
    "    break\n",
    "print(train_data.class_indices)"
   ]
  },
  {
   "cell_type": "code",
   "execution_count": 19,
   "metadata": {
    "collapsed": false
   },
   "outputs": [],
   "source": [
    "vggm.finetune(train_data)"
   ]
  },
  {
   "cell_type": "code",
   "execution_count": 20,
   "metadata": {
    "collapsed": false
   },
   "outputs": [
    {
     "name": "stdout",
     "output_type": "stream",
     "text": [
      "Epoch 1/200\n",
      "2/1 [====================================] - 5s 3s/step - loss: 4.5399 - acc: 0.0822 - val_loss: 2.6728 - val_acc: 0.0400\n",
      "Epoch 2/200\n",
      "2/1 [====================================] - 5s 2s/step - loss: 4.2556 - acc: 0.1267 - val_loss: 2.7076 - val_acc: 0.1200\n",
      "Epoch 3/200\n",
      "2/1 [====================================] - 5s 2s/step - loss: 3.5007 - acc: 0.1800 - val_loss: 2.5032 - val_acc: 0.0800\n",
      "Epoch 4/200\n",
      "2/1 [====================================] - 5s 2s/step - loss: 3.2381 - acc: 0.1911 - val_loss: 2.4356 - val_acc: 0.2000\n",
      "Epoch 5/200\n",
      "2/1 [====================================] - 5s 3s/step - loss: 2.9735 - acc: 0.2183 - val_loss: 2.2957 - val_acc: 0.1800\n",
      "Epoch 6/200\n",
      "2/1 [====================================] - 5s 3s/step - loss: 2.8661 - acc: 0.2294 - val_loss: 2.2278 - val_acc: 0.1800\n",
      "Epoch 7/200\n",
      "2/1 [====================================] - 5s 3s/step - loss: 2.5098 - acc: 0.3678 - val_loss: 2.2633 - val_acc: 0.2400\n",
      "Epoch 8/200\n",
      "2/1 [====================================] - 5s 2s/step - loss: 2.2515 - acc: 0.3467 - val_loss: 2.3019 - val_acc: 0.2400\n",
      "Epoch 9/200\n",
      "2/1 [====================================] - 5s 3s/step - loss: 2.0836 - acc: 0.3739 - val_loss: 2.2729 - val_acc: 0.2000\n",
      "Epoch 10/200\n",
      "2/1 [====================================] - 5s 3s/step - loss: 2.2547 - acc: 0.3972 - val_loss: 2.1756 - val_acc: 0.2600\n",
      "Epoch 11/200\n",
      "2/1 [====================================] - 5s 3s/step - loss: 2.2881 - acc: 0.3822 - val_loss: 2.0795 - val_acc: 0.2800\n",
      "Epoch 12/200\n",
      "2/1 [====================================] - 5s 2s/step - loss: 1.7092 - acc: 0.4883 - val_loss: 2.0685 - val_acc: 0.2800\n",
      "Epoch 13/200\n",
      "2/1 [====================================] - 5s 2s/step - loss: 1.9264 - acc: 0.5122 - val_loss: 2.0347 - val_acc: 0.2800\n",
      "Epoch 14/200\n",
      "2/1 [====================================] - 5s 3s/step - loss: 1.4413 - acc: 0.5328 - val_loss: 2.0332 - val_acc: 0.3800\n",
      "Epoch 15/200\n",
      "2/1 [====================================] - 5s 3s/step - loss: 1.3997 - acc: 0.5417 - val_loss: 2.0540 - val_acc: 0.3400\n",
      "Epoch 16/200\n",
      "2/1 [====================================] - 5s 3s/step - loss: 1.4445 - acc: 0.5711 - val_loss: 2.0137 - val_acc: 0.3600\n",
      "Epoch 17/200\n",
      "2/1 [====================================] - 5s 3s/step - loss: 1.2059 - acc: 0.6533 - val_loss: 1.9752 - val_acc: 0.3600\n",
      "Epoch 18/200\n",
      "2/1 [====================================] - 5s 3s/step - loss: 1.1436 - acc: 0.6678 - val_loss: 1.9681 - val_acc: 0.3600\n",
      "Epoch 19/200\n",
      "2/1 [====================================] - 5s 3s/step - loss: 1.0639 - acc: 0.6711 - val_loss: 1.9294 - val_acc: 0.3400\n",
      "Epoch 20/200\n",
      "2/1 [====================================] - 6s 3s/step - loss: 1.2680 - acc: 0.6589 - val_loss: 1.9268 - val_acc: 0.3600\n",
      "Epoch 21/200\n",
      "2/1 [====================================] - 5s 3s/step - loss: 0.8862 - acc: 0.6772 - val_loss: 1.9804 - val_acc: 0.4000\n",
      "Epoch 22/200\n",
      "2/1 [====================================] - 5s 2s/step - loss: 1.1256 - acc: 0.6583 - val_loss: 2.0101 - val_acc: 0.4400\n",
      "Epoch 23/200\n",
      "2/1 [====================================] - 5s 3s/step - loss: 0.9092 - acc: 0.6828 - val_loss: 1.9660 - val_acc: 0.4400\n",
      "Epoch 24/200\n",
      "2/1 [====================================] - 5s 3s/step - loss: 0.9095 - acc: 0.7117 - val_loss: 1.9625 - val_acc: 0.5000\n",
      "Epoch 25/200\n",
      "2/1 [====================================] - 5s 3s/step - loss: 0.8529 - acc: 0.6789 - val_loss: 1.9235 - val_acc: 0.5200\n",
      "Epoch 26/200\n",
      "2/1 [====================================] - 5s 3s/step - loss: 0.7763 - acc: 0.7733 - val_loss: 1.8744 - val_acc: 0.5200\n",
      "Epoch 27/200\n",
      "2/1 [====================================] - 5s 3s/step - loss: 0.8254 - acc: 0.6939 - val_loss: 1.8314 - val_acc: 0.4800\n",
      "Epoch 28/200\n",
      "2/1 [====================================] - 5s 3s/step - loss: 0.6614 - acc: 0.8028 - val_loss: 1.8092 - val_acc: 0.4800\n",
      "Epoch 29/200\n",
      "2/1 [====================================] - 5s 3s/step - loss: 0.6857 - acc: 0.7911 - val_loss: 1.8425 - val_acc: 0.4600\n",
      "Epoch 30/200\n",
      "2/1 [====================================] - 5s 3s/step - loss: 0.7125 - acc: 0.7550 - val_loss: 1.9540 - val_acc: 0.4400\n",
      "Epoch 31/200\n",
      "2/1 [====================================] - 5s 3s/step - loss: 0.6829 - acc: 0.7439 - val_loss: 2.0504 - val_acc: 0.4400\n",
      "Epoch 32/200\n",
      "2/1 [====================================] - 5s 3s/step - loss: 0.6737 - acc: 0.7322 - val_loss: 2.0849 - val_acc: 0.4600\n",
      "Epoch 33/200\n",
      "2/1 [====================================] - 5s 3s/step - loss: 0.7087 - acc: 0.7122 - val_loss: 2.0126 - val_acc: 0.4800\n",
      "Epoch 34/200\n",
      "2/1 [====================================] - 5s 3s/step - loss: 0.5361 - acc: 0.7883 - val_loss: 1.9080 - val_acc: 0.4400\n",
      "Epoch 35/200\n",
      "2/1 [====================================] - 5s 3s/step - loss: 0.4646 - acc: 0.7967 - val_loss: 1.8392 - val_acc: 0.4400\n",
      "Epoch 36/200\n",
      "2/1 [====================================] - 5s 3s/step - loss: 0.5465 - acc: 0.8089 - val_loss: 1.8044 - val_acc: 0.4600\n",
      "Epoch 37/200\n",
      "2/1 [====================================] - 5s 3s/step - loss: 0.4017 - acc: 0.8478 - val_loss: 1.7960 - val_acc: 0.4800\n",
      "Epoch 38/200\n",
      "2/1 [====================================] - 5s 3s/step - loss: 0.4851 - acc: 0.8178 - val_loss: 1.8218 - val_acc: 0.4800\n",
      "Epoch 39/200\n",
      "2/1 [====================================] - 5s 3s/step - loss: 0.5531 - acc: 0.8206 - val_loss: 1.8172 - val_acc: 0.5000\n",
      "Epoch 40/200\n",
      "2/1 [====================================] - 6s 3s/step - loss: 0.4703 - acc: 0.8528 - val_loss: 1.8208 - val_acc: 0.4600\n",
      "Epoch 41/200\n",
      "2/1 [====================================] - 5s 3s/step - loss: 0.4358 - acc: 0.7883 - val_loss: 1.8447 - val_acc: 0.4600\n",
      "Epoch 42/200\n",
      "2/1 [====================================] - 5s 3s/step - loss: 0.4812 - acc: 0.8350 - val_loss: 1.8598 - val_acc: 0.4600\n",
      "Epoch 43/200\n",
      "2/1 [====================================] - 5s 3s/step - loss: 0.4217 - acc: 0.8411 - val_loss: 1.8861 - val_acc: 0.5200\n",
      "Epoch 44/200\n",
      "2/1 [====================================] - 5s 3s/step - loss: 0.3933 - acc: 0.8733 - val_loss: 1.8865 - val_acc: 0.5000\n",
      "Epoch 45/200\n",
      "2/1 [====================================] - 5s 3s/step - loss: 0.3779 - acc: 0.8389 - val_loss: 1.9170 - val_acc: 0.4800\n",
      "Epoch 46/200\n",
      "2/1 [====================================] - 5s 3s/step - loss: 0.4134 - acc: 0.7972 - val_loss: 1.9602 - val_acc: 0.5200\n",
      "Epoch 47/200\n",
      "2/1 [====================================] - 5s 3s/step - loss: 0.3691 - acc: 0.8794 - val_loss: 1.9798 - val_acc: 0.5200\n",
      "Epoch 48/200\n",
      "2/1 [====================================] - 5s 3s/step - loss: 0.3584 - acc: 0.8444 - val_loss: 1.9637 - val_acc: 0.5200\n",
      "Epoch 49/200\n",
      "2/1 [====================================] - 5s 3s/step - loss: 0.3395 - acc: 0.8678 - val_loss: 1.9109 - val_acc: 0.5000\n",
      "Epoch 50/200\n",
      "2/1 [====================================] - 5s 3s/step - loss: 0.4191 - acc: 0.8500 - val_loss: 1.8743 - val_acc: 0.5000\n",
      "Epoch 51/200\n",
      "2/1 [====================================] - 5s 3s/step - loss: 0.4796 - acc: 0.7683 - val_loss: 1.8564 - val_acc: 0.5000\n",
      "Epoch 52/200\n",
      "2/1 [====================================] - 5s 3s/step - loss: 0.4389 - acc: 0.8289 - val_loss: 1.8488 - val_acc: 0.4800\n",
      "Epoch 53/200\n",
      "2/1 [====================================] - 5s 3s/step - loss: 0.3053 - acc: 0.9294 - val_loss: 1.8361 - val_acc: 0.5000\n",
      "Epoch 54/200\n",
      "2/1 [====================================] - 5s 3s/step - loss: 0.1908 - acc: 0.9472 - val_loss: 1.8149 - val_acc: 0.4600\n",
      "Epoch 55/200\n",
      "2/1 [====================================] - 5s 3s/step - loss: 0.4575 - acc: 0.8411 - val_loss: 1.7908 - val_acc: 0.4800\n",
      "Epoch 56/200\n",
      "2/1 [====================================] - 5s 3s/step - loss: 0.3295 - acc: 0.9056 - val_loss: 1.8108 - val_acc: 0.5000\n",
      "Epoch 57/200\n",
      "2/1 [====================================] - 5s 3s/step - loss: 0.3089 - acc: 0.9028 - val_loss: 1.8632 - val_acc: 0.5000\n",
      "Epoch 58/200\n",
      "2/1 [====================================] - 5s 3s/step - loss: 0.2578 - acc: 0.9028 - val_loss: 1.9094 - val_acc: 0.5200\n",
      "Epoch 59/200\n",
      "2/1 [====================================] - 5s 3s/step - loss: 0.3126 - acc: 0.9144 - val_loss: 1.9234 - val_acc: 0.5600\n",
      "Epoch 60/200\n",
      "2/1 [====================================] - 6s 3s/step - loss: 0.2440 - acc: 0.8944 - val_loss: 1.9292 - val_acc: 0.6000\n",
      "Epoch 61/200\n",
      "2/1 [====================================] - 5s 3s/step - loss: 0.4266 - acc: 0.8294 - val_loss: 1.8862 - val_acc: 0.6000\n",
      "Epoch 62/200\n",
      "2/1 [====================================] - 5s 3s/step - loss: 0.2680 - acc: 0.9172 - val_loss: 1.8456 - val_acc: 0.5600\n",
      "Epoch 63/200\n",
      "2/1 [====================================] - 5s 3s/step - loss: 0.2899 - acc: 0.9000 - val_loss: 1.8532 - val_acc: 0.5400\n",
      "Epoch 64/200\n",
      "2/1 [====================================] - 5s 3s/step - loss: 0.3554 - acc: 0.8644 - val_loss: 1.8612 - val_acc: 0.5200\n",
      "Epoch 65/200\n",
      "2/1 [====================================] - 5s 3s/step - loss: 0.2868 - acc: 0.9089 - val_loss: 1.9032 - val_acc: 0.5200\n",
      "Epoch 66/200\n",
      "2/1 [====================================] - 5s 3s/step - loss: 0.2535 - acc: 0.9089 - val_loss: 1.9310 - val_acc: 0.5400\n",
      "Epoch 67/200\n",
      "2/1 [====================================] - 5s 3s/step - loss: 0.2902 - acc: 0.9117 - val_loss: 1.9277 - val_acc: 0.5400\n",
      "Epoch 68/200\n",
      "2/1 [====================================] - 5s 3s/step - loss: 0.2574 - acc: 0.9000 - val_loss: 1.8954 - val_acc: 0.5400\n",
      "Epoch 69/200\n",
      "2/1 [====================================] - 5s 3s/step - loss: 0.3352 - acc: 0.8856 - val_loss: 1.8562 - val_acc: 0.5400\n",
      "Epoch 70/200\n",
      "2/1 [====================================] - 5s 3s/step - loss: 0.3026 - acc: 0.8878 - val_loss: 1.8320 - val_acc: 0.5400\n",
      "Epoch 71/200\n",
      "2/1 [====================================] - 5s 3s/step - loss: 0.2995 - acc: 0.9294 - val_loss: 1.7914 - val_acc: 0.5800\n",
      "Epoch 72/200\n",
      "2/1 [====================================] - 5s 3s/step - loss: 0.1626 - acc: 0.9439 - val_loss: 1.7789 - val_acc: 0.5800\n",
      "Epoch 73/200\n",
      "2/1 [====================================] - 5s 3s/step - loss: 0.2488 - acc: 0.8883 - val_loss: 1.7683 - val_acc: 0.5600\n",
      "Epoch 74/200\n",
      "2/1 [====================================] - 5s 3s/step - loss: 0.1951 - acc: 0.9061 - val_loss: 1.7811 - val_acc: 0.5400\n",
      "Epoch 75/200\n",
      "2/1 [====================================] - 5s 3s/step - loss: 0.2007 - acc: 0.9472 - val_loss: 1.8323 - val_acc: 0.5400\n",
      "Epoch 76/200\n",
      "2/1 [====================================] - 5s 3s/step - loss: 0.2671 - acc: 0.9294 - val_loss: 1.8823 - val_acc: 0.5000\n",
      "Epoch 77/200\n",
      "2/1 [====================================] - 5s 2s/step - loss: 0.3364 - acc: 0.8978 - val_loss: 1.9771 - val_acc: 0.5000\n",
      "Epoch 78/200\n",
      "2/1 [====================================] - 5s 3s/step - loss: 0.1871 - acc: 0.9089 - val_loss: 2.0414 - val_acc: 0.5200\n",
      "Epoch 79/200\n",
      "2/1 [====================================] - 5s 3s/step - loss: 0.2602 - acc: 0.9056 - val_loss: 2.0500 - val_acc: 0.5400\n",
      "Epoch 80/200\n",
      "2/1 [====================================] - 6s 3s/step - loss: 0.1982 - acc: 0.9467 - val_loss: 2.0147 - val_acc: 0.5000\n",
      "Epoch 81/200\n",
      "2/1 [====================================] - 5s 3s/step - loss: 0.1685 - acc: 0.9444 - val_loss: 1.9888 - val_acc: 0.5000\n",
      "Epoch 82/200\n",
      "2/1 [====================================] - 5s 3s/step - loss: 0.1259 - acc: 0.9644 - val_loss: 1.9529 - val_acc: 0.5200\n",
      "Epoch 83/200\n",
      "2/1 [====================================] - 5s 3s/step - loss: 0.1799 - acc: 0.9350 - val_loss: 1.9289 - val_acc: 0.5200\n",
      "Epoch 84/200\n",
      "2/1 [====================================] - 5s 3s/step - loss: 0.1746 - acc: 0.9528 - val_loss: 1.9335 - val_acc: 0.5600\n",
      "Epoch 85/200\n",
      "2/1 [====================================] - 5s 3s/step - loss: 0.1617 - acc: 0.9528 - val_loss: 1.9630 - val_acc: 0.5800\n",
      "Epoch 86/200\n",
      "2/1 [====================================] - 5s 3s/step - loss: 0.1804 - acc: 0.9294 - val_loss: 1.9993 - val_acc: 0.5600\n",
      "Epoch 87/200\n",
      "2/1 [====================================] - 5s 3s/step - loss: 0.1627 - acc: 0.9561 - val_loss: 2.0337 - val_acc: 0.5400\n",
      "Epoch 88/200\n",
      "2/1 [====================================] - 5s 3s/step - loss: 0.1432 - acc: 0.9556 - val_loss: 2.0485 - val_acc: 0.5400\n",
      "Epoch 89/200\n",
      "2/1 [====================================] - 5s 3s/step - loss: 0.2785 - acc: 0.8911 - val_loss: 2.0250 - val_acc: 0.5400\n",
      "Epoch 90/200\n",
      "2/1 [====================================] - 5s 3s/step - loss: 0.1003 - acc: 0.9472 - val_loss: 2.0026 - val_acc: 0.5200\n",
      "Epoch 91/200\n",
      "2/1 [====================================] - 5s 3s/step - loss: 0.0854 - acc: 0.9883 - val_loss: 2.0048 - val_acc: 0.5200\n",
      "Epoch 92/200\n",
      "2/1 [====================================] - 5s 3s/step - loss: 0.1772 - acc: 0.9528 - val_loss: 2.0034 - val_acc: 0.5200\n",
      "Epoch 93/200\n",
      "2/1 [====================================] - 5s 3s/step - loss: 0.1581 - acc: 0.9617 - val_loss: 1.9928 - val_acc: 0.5200\n",
      "Epoch 94/200\n",
      "2/1 [====================================] - 5s 3s/step - loss: 0.1528 - acc: 0.9472 - val_loss: 1.9645 - val_acc: 0.5000\n",
      "Epoch 95/200\n",
      "2/1 [====================================] - 5s 3s/step - loss: 0.1964 - acc: 0.9294 - val_loss: 1.9296 - val_acc: 0.5000\n",
      "Epoch 96/200\n",
      "2/1 [====================================] - 5s 3s/step - loss: 0.0936 - acc: 0.9678 - val_loss: 1.9417 - val_acc: 0.5200\n",
      "Epoch 97/200\n",
      "2/1 [====================================] - 5s 3s/step - loss: 0.2181 - acc: 0.9444 - val_loss: 1.9561 - val_acc: 0.5200\n",
      "Epoch 98/200\n",
      "2/1 [====================================] - 5s 3s/step - loss: 0.1593 - acc: 0.9528 - val_loss: 1.9632 - val_acc: 0.5200\n",
      "Epoch 99/200\n",
      "2/1 [====================================] - 5s 3s/step - loss: 0.1152 - acc: 0.9644 - val_loss: 1.9669 - val_acc: 0.5200\n",
      "Epoch 100/200\n",
      "2/1 [====================================] - 6s 3s/step - loss: 0.1888 - acc: 0.9411 - val_loss: 1.9786 - val_acc: 0.5200\n",
      "Epoch 101/200\n",
      "2/1 [====================================] - 5s 3s/step - loss: 0.1303 - acc: 0.9500 - val_loss: 1.9922 - val_acc: 0.5200\n",
      "Epoch 102/200\n",
      "2/1 [====================================] - 5s 3s/step - loss: 0.1684 - acc: 0.9561 - val_loss: 2.0101 - val_acc: 0.5000\n",
      "Epoch 103/200\n",
      "2/1 [====================================] - 5s 3s/step - loss: 0.1618 - acc: 0.9294 - val_loss: 2.0252 - val_acc: 0.5200\n",
      "Epoch 104/200\n",
      "2/1 [====================================] - 5s 3s/step - loss: 0.1357 - acc: 0.9322 - val_loss: 2.0288 - val_acc: 0.5200\n",
      "Epoch 105/200\n",
      "2/1 [====================================] - 5s 3s/step - loss: 0.1066 - acc: 0.9678 - val_loss: 2.0192 - val_acc: 0.5400\n",
      "Epoch 106/200\n",
      "2/1 [====================================] - 5s 3s/step - loss: 0.0812 - acc: 0.9883 - val_loss: 1.9981 - val_acc: 0.5200\n",
      "Epoch 107/200\n",
      "2/1 [====================================] - 5s 3s/step - loss: 0.1206 - acc: 0.9644 - val_loss: 1.9660 - val_acc: 0.5400\n",
      "Epoch 108/200\n",
      "2/1 [====================================] - 5s 3s/step - loss: 0.0969 - acc: 0.9706 - val_loss: 1.9491 - val_acc: 0.5400\n",
      "Epoch 109/200\n",
      "2/1 [====================================] - 5s 3s/step - loss: 0.2010 - acc: 0.9178 - val_loss: 1.9351 - val_acc: 0.5600\n",
      "Epoch 110/200\n",
      "2/1 [====================================] - 5s 3s/step - loss: 0.1765 - acc: 0.9350 - val_loss: 1.9178 - val_acc: 0.5400\n",
      "Epoch 111/200\n",
      "2/1 [====================================] - 5s 3s/step - loss: 0.0780 - acc: 0.9822 - val_loss: 1.9043 - val_acc: 0.5400\n",
      "Epoch 112/200\n",
      "2/1 [====================================] - 5s 3s/step - loss: 0.0909 - acc: 0.9589 - val_loss: 1.8994 - val_acc: 0.5200\n",
      "Epoch 113/200\n",
      "2/1 [====================================] - 5s 3s/step - loss: 0.1392 - acc: 0.9589 - val_loss: 1.9058 - val_acc: 0.5200\n",
      "Epoch 114/200\n",
      "2/1 [====================================] - 5s 3s/step - loss: 0.0839 - acc: 0.9883 - val_loss: 1.9425 - val_acc: 0.5200\n",
      "Epoch 115/200\n",
      "2/1 [====================================] - 5s 3s/step - loss: 0.1034 - acc: 0.9528 - val_loss: 1.9904 - val_acc: 0.5000\n",
      "Epoch 116/200\n",
      "2/1 [====================================] - 5s 3s/step - loss: 0.2341 - acc: 0.9122 - val_loss: 2.0114 - val_acc: 0.5200\n",
      "Epoch 117/200\n",
      "2/1 [====================================] - 5s 3s/step - loss: 0.1312 - acc: 0.9706 - val_loss: 2.0215 - val_acc: 0.5200\n",
      "Epoch 118/200\n",
      "2/1 [====================================] - 5s 3s/step - loss: 0.0910 - acc: 0.9589 - val_loss: 2.0128 - val_acc: 0.5200\n",
      "Epoch 119/200\n",
      "2/1 [====================================] - 5s 3s/step - loss: 0.0731 - acc: 0.9822 - val_loss: 2.0074 - val_acc: 0.5400\n",
      "Epoch 120/200\n",
      "2/1 [====================================] - 6s 3s/step - loss: 0.0883 - acc: 0.9589 - val_loss: 2.0060 - val_acc: 0.5400\n",
      "Epoch 121/200\n",
      "2/1 [====================================] - 5s 3s/step - loss: 0.1162 - acc: 0.9383 - val_loss: 2.0231 - val_acc: 0.5400\n",
      "Epoch 122/200\n",
      "2/1 [====================================] - 5s 3s/step - loss: 0.0735 - acc: 0.9822 - val_loss: 2.0387 - val_acc: 0.5400\n",
      "Epoch 123/200\n",
      "2/1 [====================================] - 5s 3s/step - loss: 0.0912 - acc: 0.9794 - val_loss: 2.0398 - val_acc: 0.5400\n",
      "Epoch 124/200\n",
      "2/1 [====================================] - 5s 3s/step - loss: 0.1247 - acc: 0.9472 - val_loss: 2.0399 - val_acc: 0.5400\n",
      "Epoch 125/200\n",
      "2/1 [====================================] - 5s 3s/step - loss: 0.0746 - acc: 0.9822 - val_loss: 2.0518 - val_acc: 0.5400\n",
      "Epoch 126/200\n",
      "2/1 [====================================] - 5s 3s/step - loss: 0.1455 - acc: 0.9528 - val_loss: 2.0614 - val_acc: 0.5400\n",
      "Epoch 127/200\n",
      "2/1 [====================================] - 5s 3s/step - loss: 0.1779 - acc: 0.9178 - val_loss: 2.0891 - val_acc: 0.5200\n",
      "Epoch 128/200\n",
      "2/1 [====================================] - 5s 3s/step - loss: 0.1319 - acc: 0.9411 - val_loss: 2.1017 - val_acc: 0.5200\n",
      "Epoch 129/200\n",
      "2/1 [====================================] - 5s 3s/step - loss: 0.1058 - acc: 0.9472 - val_loss: 2.1147 - val_acc: 0.5400\n",
      "Epoch 130/200\n",
      "2/1 [====================================] - 5s 3s/step - loss: 0.1190 - acc: 0.9644 - val_loss: 2.1135 - val_acc: 0.5400\n",
      "Epoch 131/200\n",
      "2/1 [====================================] - 5s 3s/step - loss: 0.1514 - acc: 0.9178 - val_loss: 2.0969 - val_acc: 0.5400\n",
      "Epoch 132/200\n",
      "2/1 [====================================] - 5s 3s/step - loss: 0.1907 - acc: 0.9350 - val_loss: 2.0727 - val_acc: 0.5200\n",
      "Epoch 133/200\n",
      "2/1 [====================================] - 5s 3s/step - loss: 0.0971 - acc: 0.9883 - val_loss: 2.0774 - val_acc: 0.5000\n",
      "Epoch 134/200\n",
      "2/1 [====================================] - 5s 3s/step - loss: 0.1254 - acc: 0.9706 - val_loss: 2.0723 - val_acc: 0.5200\n",
      "Epoch 135/200\n",
      "2/1 [====================================] - 5s 3s/step - loss: 0.0829 - acc: 0.9644 - val_loss: 2.0705 - val_acc: 0.5200\n",
      "Epoch 136/200\n",
      "2/1 [====================================] - 5s 3s/step - loss: 0.1605 - acc: 0.9356 - val_loss: 2.0935 - val_acc: 0.5000\n",
      "Epoch 137/200\n",
      "2/1 [====================================] - 5s 3s/step - loss: 0.2072 - acc: 0.9383 - val_loss: 2.1252 - val_acc: 0.5000\n",
      "Epoch 138/200\n",
      "2/1 [====================================] - 5s 3s/step - loss: 0.1435 - acc: 0.9439 - val_loss: 2.1337 - val_acc: 0.5000\n",
      "Epoch 139/200\n",
      "2/1 [====================================] - 5s 3s/step - loss: 0.0708 - acc: 0.9733 - val_loss: 2.1153 - val_acc: 0.5400\n",
      "Epoch 140/200\n",
      "2/1 [====================================] - 6s 3s/step - loss: 0.1291 - acc: 0.9294 - val_loss: 2.0814 - val_acc: 0.5400\n",
      "Epoch 141/200\n",
      "2/1 [====================================] - 5s 3s/step - loss: 0.1147 - acc: 0.9617 - val_loss: 2.0388 - val_acc: 0.5400\n",
      "Epoch 142/200\n",
      "2/1 [====================================] - 5s 3s/step - loss: 0.1205 - acc: 0.9294 - val_loss: 2.0370 - val_acc: 0.5000\n",
      "Epoch 143/200\n",
      "2/1 [====================================] - 5s 3s/step - loss: 0.1014 - acc: 0.9767 - val_loss: 2.0561 - val_acc: 0.5000\n",
      "Epoch 144/200\n",
      "2/1 [====================================] - 5s 3s/step - loss: 0.1304 - acc: 0.9617 - val_loss: 2.0930 - val_acc: 0.5000\n",
      "Epoch 145/200\n",
      "2/1 [====================================] - 5s 3s/step - loss: 0.0715 - acc: 0.9822 - val_loss: 2.1270 - val_acc: 0.5000\n",
      "Epoch 146/200\n",
      "2/1 [====================================] - 5s 3s/step - loss: 0.1754 - acc: 0.9472 - val_loss: 2.1181 - val_acc: 0.5000\n",
      "Epoch 147/200\n",
      "2/1 [====================================] - 5s 3s/step - loss: 0.1431 - acc: 0.9589 - val_loss: 2.0887 - val_acc: 0.5000\n",
      "Epoch 148/200\n",
      "2/1 [====================================] - 5s 3s/step - loss: 0.0709 - acc: 0.9911 - val_loss: 2.0737 - val_acc: 0.5400\n",
      "Epoch 149/200\n",
      "2/1 [====================================] - 5s 3s/step - loss: 0.1179 - acc: 0.9589 - val_loss: 2.0513 - val_acc: 0.5200\n",
      "Epoch 150/200\n",
      "2/1 [====================================] - 5s 3s/step - loss: 0.0439 - acc: 0.9883 - val_loss: 2.0715 - val_acc: 0.5200\n",
      "Epoch 151/200\n",
      "2/1 [====================================] - 5s 3s/step - loss: 0.0969 - acc: 0.9678 - val_loss: 2.1013 - val_acc: 0.5000\n",
      "Epoch 152/200\n",
      "2/1 [====================================] - 5s 3s/step - loss: 0.0574 - acc: 0.9706 - val_loss: 2.1096 - val_acc: 0.5000\n",
      "Epoch 153/200\n",
      "2/1 [====================================] - 5s 3s/step - loss: 0.1551 - acc: 0.9472 - val_loss: 2.0703 - val_acc: 0.5000\n",
      "Epoch 154/200\n",
      "2/1 [====================================] - 5s 3s/step - loss: 0.0853 - acc: 0.9883 - val_loss: 2.0013 - val_acc: 0.5200\n",
      "Epoch 155/200\n",
      "2/1 [====================================] - 5s 3s/step - loss: 0.0954 - acc: 0.9644 - val_loss: 1.9416 - val_acc: 0.5200\n",
      "Epoch 156/200\n",
      "2/1 [====================================] - 5s 3s/step - loss: 0.1104 - acc: 0.9617 - val_loss: 1.9245 - val_acc: 0.5400\n",
      "Epoch 157/200\n",
      "2/1 [====================================] - 5s 3s/step - loss: 0.1602 - acc: 0.9411 - val_loss: 1.9467 - val_acc: 0.5200\n",
      "Epoch 158/200\n",
      "2/1 [====================================] - 5s 3s/step - loss: 0.1291 - acc: 0.9500 - val_loss: 1.9870 - val_acc: 0.5200\n",
      "Epoch 159/200\n",
      "2/1 [====================================] - 5s 3s/step - loss: 0.0844 - acc: 0.9472 - val_loss: 2.0450 - val_acc: 0.5400\n",
      "Epoch 160/200\n",
      "2/1 [====================================] - 6s 3s/step - loss: 0.0896 - acc: 0.9794 - val_loss: 2.1116 - val_acc: 0.5400\n",
      "Epoch 161/200\n",
      "2/1 [====================================] - 5s 3s/step - loss: 0.0986 - acc: 0.9472 - val_loss: 2.1625 - val_acc: 0.5200\n",
      "Epoch 162/200\n",
      "2/1 [====================================] - 5s 3s/step - loss: 0.0388 - acc: 0.9911 - val_loss: 2.1857 - val_acc: 0.5400\n",
      "Epoch 163/200\n",
      "2/1 [====================================] - 5s 3s/step - loss: 0.0888 - acc: 0.9678 - val_loss: 2.1722 - val_acc: 0.5400\n",
      "Epoch 164/200\n",
      "2/1 [====================================] - 5s 3s/step - loss: 0.0528 - acc: 0.9706 - val_loss: 2.1369 - val_acc: 0.5400\n",
      "Epoch 165/200\n",
      "2/1 [====================================] - 5s 3s/step - loss: 0.1129 - acc: 0.9617 - val_loss: 2.0844 - val_acc: 0.5600\n",
      "Epoch 166/200\n",
      "2/1 [====================================] - 5s 3s/step - loss: 0.0874 - acc: 0.9794 - val_loss: 2.0326 - val_acc: 0.5400\n",
      "Epoch 167/200\n",
      "2/1 [====================================] - 5s 3s/step - loss: 0.0618 - acc: 0.9911 - val_loss: 1.9995 - val_acc: 0.5200\n",
      "Epoch 168/200\n",
      "2/1 [====================================] - 5s 3s/step - loss: 0.0711 - acc: 0.9794 - val_loss: 1.9975 - val_acc: 0.5400\n",
      "Epoch 169/200\n",
      "2/1 [====================================] - 5s 3s/step - loss: 0.0807 - acc: 0.9644 - val_loss: 1.9981 - val_acc: 0.5200\n",
      "Epoch 170/200\n",
      "2/1 [====================================] - 5s 3s/step - loss: 0.0844 - acc: 0.9644 - val_loss: 1.9855 - val_acc: 0.5400\n",
      "Epoch 171/200\n",
      "2/1 [====================================] - 5s 3s/step - loss: 0.1073 - acc: 0.9706 - val_loss: 1.9975 - val_acc: 0.5200\n",
      "Epoch 172/200\n",
      "2/1 [====================================] - 5s 3s/step - loss: 0.0609 - acc: 0.9911 - val_loss: 2.0077 - val_acc: 0.5400\n",
      "Epoch 173/200\n",
      "2/1 [====================================] - 5s 3s/step - loss: 0.1975 - acc: 0.9233 - val_loss: 2.0152 - val_acc: 0.5200\n",
      "Epoch 174/200\n",
      "2/1 [====================================] - 5s 3s/step - loss: 0.0517 - acc: 0.9883 - val_loss: 2.0612 - val_acc: 0.5400\n",
      "Epoch 175/200\n",
      "2/1 [====================================] - 5s 3s/step - loss: 0.0862 - acc: 0.9822 - val_loss: 2.1417 - val_acc: 0.5200\n",
      "Epoch 176/200\n",
      "2/1 [====================================] - 5s 3s/step - loss: 0.1456 - acc: 0.9617 - val_loss: 2.2111 - val_acc: 0.5200\n",
      "Epoch 177/200\n",
      "2/1 [====================================] - 5s 3s/step - loss: 0.0567 - acc: 0.9822 - val_loss: 2.2383 - val_acc: 0.5200\n",
      "Epoch 178/200\n",
      "2/1 [====================================] - 5s 3s/step - loss: 0.0789 - acc: 0.9706 - val_loss: 2.1852 - val_acc: 0.5200\n",
      "Epoch 179/200\n",
      "2/1 [====================================] - 5s 3s/step - loss: 0.0885 - acc: 0.9767 - val_loss: 2.1423 - val_acc: 0.5200\n",
      "Epoch 180/200\n",
      "2/1 [====================================] - 6s 3s/step - loss: 0.1216 - acc: 0.9528 - val_loss: 2.1050 - val_acc: 0.5200\n",
      "Epoch 181/200\n",
      "2/1 [====================================] - 5s 3s/step - loss: 0.0886 - acc: 0.9706 - val_loss: 2.0875 - val_acc: 0.5000\n",
      "Epoch 182/200\n",
      "2/1 [====================================] - 5s 3s/step - loss: 0.0431 - acc: 1.0000 - val_loss: 2.0997 - val_acc: 0.5000\n",
      "Epoch 183/200\n",
      "2/1 [====================================] - 5s 3s/step - loss: 0.0336 - acc: 1.0000 - val_loss: 2.1025 - val_acc: 0.5200\n",
      "Epoch 184/200\n",
      "2/1 [====================================] - 5s 3s/step - loss: 0.1528 - acc: 0.9617 - val_loss: 2.0772 - val_acc: 0.5600\n",
      "Epoch 185/200\n",
      "2/1 [====================================] - 5s 3s/step - loss: 0.2121 - acc: 0.9150 - val_loss: 2.0482 - val_acc: 0.5200\n",
      "Epoch 186/200\n",
      "2/1 [====================================] - 5s 3s/step - loss: 0.0532 - acc: 0.9911 - val_loss: 2.0687 - val_acc: 0.5600\n",
      "Epoch 187/200\n",
      "2/1 [====================================] - 5s 3s/step - loss: 0.1058 - acc: 0.9733 - val_loss: 2.0992 - val_acc: 0.5400\n",
      "Epoch 188/200\n",
      "2/1 [====================================] - 5s 3s/step - loss: 0.0540 - acc: 0.9883 - val_loss: 2.1081 - val_acc: 0.5600\n",
      "Epoch 189/200\n",
      "2/1 [====================================] - 5s 3s/step - loss: 0.0592 - acc: 1.0000 - val_loss: 2.1001 - val_acc: 0.5600\n",
      "Epoch 190/200\n",
      "2/1 [====================================] - 5s 3s/step - loss: 0.1027 - acc: 0.9794 - val_loss: 2.0578 - val_acc: 0.5600\n",
      "Epoch 191/200\n",
      "2/1 [====================================] - 5s 3s/step - loss: 0.1829 - acc: 0.9383 - val_loss: 2.0087 - val_acc: 0.5600\n",
      "Epoch 192/200\n",
      "2/1 [====================================] - 5s 3s/step - loss: 0.1197 - acc: 0.9561 - val_loss: 1.9717 - val_acc: 0.5400\n",
      "Epoch 193/200\n",
      "2/1 [====================================] - 5s 3s/step - loss: 0.0361 - acc: 0.9883 - val_loss: 1.9520 - val_acc: 0.5600\n",
      "Epoch 194/200\n",
      "2/1 [====================================] - 5s 3s/step - loss: 0.0348 - acc: 0.9883 - val_loss: 1.9612 - val_acc: 0.6000\n",
      "Epoch 195/200\n",
      "2/1 [====================================] - 5s 3s/step - loss: 0.0771 - acc: 0.9650 - val_loss: 1.9817 - val_acc: 0.6200\n",
      "Epoch 196/200\n",
      "2/1 [====================================] - 5s 3s/step - loss: 0.1199 - acc: 0.9383 - val_loss: 1.9906 - val_acc: 0.6000\n",
      "Epoch 197/200\n",
      "2/1 [====================================] - 5s 3s/step - loss: 0.0435 - acc: 1.0000 - val_loss: 2.0012 - val_acc: 0.5200\n",
      "Epoch 198/200\n",
      "2/1 [====================================] - 5s 3s/step - loss: 0.0493 - acc: 0.9911 - val_loss: 2.0020 - val_acc: 0.5600\n",
      "Epoch 199/200\n",
      "2/1 [====================================] - 5s 3s/step - loss: 0.0657 - acc: 0.9650 - val_loss: 1.9970 - val_acc: 0.5400\n",
      "Epoch 200/200\n",
      "2/1 [====================================] - 6s 3s/step - loss: 0.0663 - acc: 0.9883 - val_loss: 1.9884 - val_acc: 0.5400\n"
     ]
    }
   ],
   "source": [
    "from keras.callbacks import ModelCheckpoint\n",
    "saved_weights_path = weight_path + '/sample.epoch_{epoch:02d}-valacc_{val_acc:.2f}.hdf5'\n",
    "mcp = ModelCheckpoint(saved_weights_path, monitor='val_acc', save_weights_only=True, mode='auto', period=20)\n",
    "call_backs = [mcp]\n",
    "epochs = 200\n",
    "h = vggm.fit(train_data, val_data, nb_epoch=epochs, batch_size = batch_size, callbacks=call_backs)"
   ]
  },
  {
   "cell_type": "code",
   "execution_count": 91,
   "metadata": {
    "collapsed": false
   },
   "outputs": [
    {
     "data": {
      "image/png": "[encoded data removed]",
      "text/plain": [
       "<matplotlib.figure.Figure at 0x7f84ed6e9e10>"
      ]
     },
     "metadata": {},
     "output_type": "display_data"
    }
   ],
   "source": [
    "import pandas as pd\n",
    "import numpy as np\n",
    "from matplotlib import pyplot as plt\n",
    "%matplotlib inline\n",
    "df = pd.DataFrame(h.history)\n",
    "df['epoch'] =df.index\n",
    "\n",
    "fig = plt.figure(1)\n",
    "ax = fig.add_subplot(111)\n",
    "\n",
    "ax.set_ylim(0,1.4)\n",
    "ax.set_title('Accuracy vs. Epochs')\n",
    "ax.set_xlabel('epochs')\n",
    "ax.set_ylabel('Accuracy')\n",
    "\n",
    "line_train, =ax.plot(np.array(df['epoch']), np.array(df['acc']), '.', color='red', markersize=8)\n",
    "#plt.plot(x=np.array(df['epoch']), y=np.array(df['acc']), style='o', ylim=(0,1.1), markerfacecolor=\"None\", markeredgecolor='red')\n",
    "line_val, = ax.plot(np.array(df['epoch']), np.array(df['val_acc']), 'o',  markerfacecolor=\"None\", markeredgecolor='blue')\n",
    "ax.plot(np.array(df['epoch']), np.ones(len(df)), 'black')\n",
    "ax.legend((line_train, line_val), ('Train Accuracy', 'Validation Accuracy'))\n",
    "fig.savefig(sub_path + '/sample_accuracy_vs_epochs.png')"
   ]
  },
  {
   "cell_type": "code",
   "execution_count": 105,
   "metadata": {
    "collapsed": false
   },
   "outputs": [
    {
     "data": {
      "text/plain": [
       "50"
      ]
     },
     "execution_count": 105,
     "metadata": {},
     "output_type": "execute_result"
    }
   ],
   "source": [
    "val_data.classes\n",
    "#val_data.__dict__\n",
    "val_data.samples"
   ]
  },
  {
   "cell_type": "code",
   "execution_count": 121,
   "metadata": {
    "collapsed": false
   },
   "outputs": [
    {
     "name": "stdout",
     "output_type": "stream",
     "text": [
      "Found 50 images belonging to 10 classes.\n"
     ]
    }
   ],
   "source": [
    "import vgg16; reload(vgg16)\n",
    "#vggm.model.save_weights(sub_path + '/sample_epochs200.h5')\n",
    "vggm = vgg16.Vgg16()\n",
    "batch_size = 60\n",
    "vggm.model.load_weights(sub_path + '/sample_epochs200.h5')\n",
    "from sklearn.metrics import confusion_matrix\n",
    "val_batches, val_predictions = vggm.test(val_path, batch_size)\n"
   ]
  },
  {
   "cell_type": "code",
   "execution_count": 125,
   "metadata": {
    "collapsed": false
   },
   "outputs": [
    {
     "name": "stdout",
     "output_type": "stream",
     "text": [
      "[[3 0 0 1 0 0 0 0 1 0]\n",
      " [2 3 0 0 0 0 0 0 0 0]\n",
      " [0 1 3 0 0 0 0 0 1 0]\n",
      " [0 1 0 1 0 0 0 0 3 0]\n",
      " [0 0 1 0 3 0 0 0 1 0]\n",
      " [0 0 0 0 0 5 0 0 0 0]\n",
      " [0 0 0 0 0 1 2 0 1 1]\n",
      " [0 1 0 0 0 0 0 3 1 0]\n",
      " [0 1 0 0 0 2 0 1 1 0]\n",
      " [2 0 0 0 0 0 0 0 0 3]]\n"
     ]
    }
   ],
   "source": [
    "val_preds = [np.argmax(k) for k in val_predictions]\n",
    "#print(val_predictions[0])\n",
    "#print(val_batches.classes)\n",
    "#print(val_preds)\n",
    "cnf_matrix = confusion_matrix(val_batches.classes, val_preds)\n",
    "print(cnf_matrix)\n",
    "test_batches, predictions = val_batches, val_predictions"
   ]
  },
  {
   "cell_type": "markdown",
   "metadata": {},
   "source": [
    "# Create Submission File"
   ]
  },
  {
   "cell_type": "code",
   "execution_count": null,
   "metadata": {
    "collapsed": true
   },
   "outputs": [],
   "source": [
    "def get_id(img_path):\n",
    "    fid = img_path.split(\"/\")[1].split(\".\")[0] #Get image ID\n",
    "    return fid\n",
    "\n",
    "ids = []\n",
    "dog_probs = []\n",
    "for img_path,pred in zip(test_batches.filenames, predictions):\n",
    "    fid = get_id(img_path)\n",
    "    dog_prob = pred[1]\n",
    "    ids.append(fid)\n",
    "    dog_probs.append(dog_prob)\n",
    "    \n",
    "df = pd.DataFrame({\"id\":ids, \"label\":dog_probs})\n",
    "#print(df)\n",
    "fn = \"./sub/train4_batchsize\" + str(batch_size) + \"_epochs\" + str(epochs) +\"_lr0.01.csv\"\n",
    "df.to_csv(fn, index=False)\n",
    "print(\"Write to \" + fn)\n",
    "print(\"DONE!\")\n",
    "from IPython.display import FileLink\n",
    "FileLink(fn)  "
   ]
  }
 ],
 "metadata": {
  "kernelspec": {
   "display_name": "Python [conda root]",
   "language": "python",
   "name": "conda-root-py"
  },
  "language_info": {
   "codemirror_mode": {
    "name": "ipython",
    "version": 2
   },
   "file_extension": ".py",
   "mimetype": "text/x-python",
   "name": "python",
   "nbconvert_exporter": "python",
   "pygments_lexer": "ipython2",
   "version": "2.7.12"
  }
 },
 "nbformat": 4,
 "nbformat_minor": 1
}
