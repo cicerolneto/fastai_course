{
 "cells": [
  {
   "cell_type": "markdown",
   "metadata": {},
   "source": [
    "# Basic Model"
   ]
  },
  {
   "cell_type": "code",
   "execution_count": 37,
   "metadata": {
    "collapsed": false
   },
   "outputs": [],
   "source": [
    "%pwd\n",
    "import pandas as pd\n",
    "import numpy as np\n",
    "from matplotlib import pyplot as plt\n",
    "import utils\n",
    "%matplotlib inline"
   ]
  },
  {
   "cell_type": "code",
   "execution_count": 38,
   "metadata": {
    "collapsed": true
   },
   "outputs": [],
   "source": [
    "base_path = '/home/ubuntu/data/statefarm/imags/' #imags/samples\n",
    "train_path = base_path + 'train'\n",
    "val_path = base_path + 'valid'\n",
    "test_path = base_path + 'test'\n",
    "weight_path = '/home/ubuntu/data/weights/statefarm/'\n",
    "sub_path = '/home/ubuntu/fastai_course/neilz/part1/sub/statefarm/'"
   ]
  },
  {
   "cell_type": "code",
   "execution_count": 39,
   "metadata": {
    "collapsed": false
   },
   "outputs": [
    {
     "data": {
      "text/plain": [
       "<module 'vgg16' from 'vgg16.pyc'>"
      ]
     },
     "execution_count": 39,
     "metadata": {},
     "output_type": "execute_result"
    }
   ],
   "source": [
    "import vgg16; reload(vgg16)"
   ]
  },
  {
   "cell_type": "markdown",
   "metadata": {},
   "source": [
    "# Apply Pre-Trained Convolution Layers"
   ]
  },
  {
   "cell_type": "code",
   "execution_count": 40,
   "metadata": {
    "collapsed": false
   },
   "outputs": [],
   "source": [
    "import utils\n",
    "mid_train_data = utils.load_array(weight_path + '/statefarm_conv_res')\n",
    "mid_val_data = utils.load_array(weight_path + '/statefarm_conv_val')\n",
    "mid_test_data = utils.load_array(weight_path + '/statefarm_conv_test')"
   ]
  },
  {
   "cell_type": "code",
   "execution_count": 41,
   "metadata": {
    "collapsed": false
   },
   "outputs": [
    {
     "name": "stdout",
     "output_type": "stream",
     "text": [
      "Found 17943 images belonging to 10 classes.\n",
      "Found 4481 images belonging to 10 classes.\n",
      "Found 79726 images belonging to 1 classes.\n"
     ]
    }
   ],
   "source": [
    "val_classes, train_classes, val_labels, train_labels, \\\n",
    "        val_filenames, train_filenames, test_filenames = utils.get_classes(base_path)"
   ]
  },
  {
   "cell_type": "code",
   "execution_count": 42,
   "metadata": {
    "collapsed": false
   },
   "outputs": [
    {
     "name": "stdout",
     "output_type": "stream",
     "text": [
      "(17943, 25088)\n"
     ]
    }
   ],
   "source": [
    "print(mid_train_data.shape)"
   ]
  },
  {
   "cell_type": "code",
   "execution_count": 43,
   "metadata": {
    "collapsed": false
   },
   "outputs": [
    {
     "name": "stdout",
     "output_type": "stream",
     "text": [
      "_________________________________________________________________\n",
      "Layer (type)                 Output Shape              Param #   \n",
      "=================================================================\n",
      "batch_normalization_3 (Batch (None, 25088)             100352    \n",
      "_________________________________________________________________\n",
      "dense_6 (Dense)              (None, 256)               6422784   \n",
      "_________________________________________________________________\n",
      "batch_normalization_4 (Batch (None, 256)               1024      \n",
      "_________________________________________________________________\n",
      "dropout_4 (Dropout)          (None, 256)               0         \n",
      "_________________________________________________________________\n",
      "dense_7 (Dense)              (None, 10)                2570      \n",
      "=================================================================\n",
      "Total params: 6,526,730\n",
      "Trainable params: 6,476,042\n",
      "Non-trainable params: 50,688\n",
      "_________________________________________________________________\n"
     ]
    }
   ],
   "source": [
    "#Construct a new model with just FCBs and using the convoluation results from Vgg16 as input\n",
    "#I want to overfit the train data first, so I use 2 dense layers total 4096*4096+4096 (bias) parameters without dropout\n",
    "from keras.models import Sequential\n",
    "from keras.layers.core import Flatten, Dense, Dropout, Lambda\n",
    "from keras.layers import BatchNormalization\n",
    "from keras.optimizers import SGD, RMSprop, Adam\n",
    "lr = 0.001\n",
    "statefarm_model = Sequential()\n",
    "statefarm_model.add(BatchNormalization(axis=1, input_shape=(25088,)))\n",
    "statefarm_model.add(Dense(256, activation='relu')) #, input_shape=(25088,)))\n",
    "statefarm_model.add(BatchNormalization(axis=1))\n",
    "statefarm_model.add(Dropout(0.5)) \n",
    "statefarm_model.add(Dense(10, activation='softmax'))\n",
    "statefarm_model.compile(optimizer=Adam(lr=lr), loss='categorical_crossentropy', metrics=['accuracy'])\n",
    "statefarm_model.summary()"
   ]
  },
  {
   "cell_type": "code",
   "execution_count": 41,
   "metadata": {
    "collapsed": false
   },
   "outputs": [
    {
     "name": "stdout",
     "output_type": "stream",
     "text": [
      "{'beta_1': 0.8999999761581421, 'epsilon': 1e-08, 'beta_2': 0.9990000128746033, 'lr': 9.999999747378752e-05, 'decay': 0.0}\n"
     ]
    }
   ],
   "source": [
    "from keras import backend as K\n",
    "K.set_value(statefarm_model.optimizer.lr, 0.0001)\n",
    "print(statefarm_model.optimizer.get_config())\n",
    "statefarm_model.compile(optimizer=Adam(lr=lr), loss='categorical_crossentropy', metrics=['accuracy'])"
   ]
  },
  {
   "cell_type": "code",
   "execution_count": 44,
   "metadata": {
    "collapsed": false,
    "scrolled": true
   },
   "outputs": [
    {
     "name": "stdout",
     "output_type": "stream",
     "text": [
      "Train on 17943 samples, validate on 4481 samples\n",
      "Epoch 1/10\n",
      "17943/17943 [==============================] - 3s 189us/step - loss: 0.2388 - acc: 0.9369 - val_loss: 0.0126 - val_acc: 0.9964\n",
      "Epoch 2/10\n",
      "17943/17943 [==============================] - 3s 181us/step - loss: 0.0114 - acc: 0.9985 - val_loss: 0.0063 - val_acc: 0.9975\n",
      "Epoch 3/10\n",
      "17943/17943 [==============================] - 3s 182us/step - loss: 0.0049 - acc: 0.9995 - val_loss: 0.0064 - val_acc: 0.9982\n",
      "Epoch 4/10\n",
      "17943/17943 [==============================] - 3s 178us/step - loss: 0.0027 - acc: 0.9999 - val_loss: 0.0048 - val_acc: 0.9984\n",
      "Epoch 5/10\n",
      "17943/17943 [==============================] - 3s 176us/step - loss: 0.0015 - acc: 0.9999 - val_loss: 0.0043 - val_acc: 0.9989\n",
      "Epoch 6/10\n",
      "17943/17943 [==============================] - 3s 183us/step - loss: 0.0016 - acc: 0.9998 - val_loss: 0.0047 - val_acc: 0.9987\n",
      "Epoch 7/10\n",
      "17943/17943 [==============================] - 3s 181us/step - loss: 0.0014 - acc: 0.9999 - val_loss: 0.0045 - val_acc: 0.9987\n",
      "Epoch 8/10\n",
      "17943/17943 [==============================] - 3s 182us/step - loss: 8.2490e-04 - acc: 1.0000 - val_loss: 0.0043 - val_acc: 0.9984\n",
      "Epoch 9/10\n",
      "17943/17943 [==============================] - 3s 178us/step - loss: 7.6066e-04 - acc: 0.9999 - val_loss: 0.0041 - val_acc: 0.9982\n",
      "Epoch 10/10\n",
      "17943/17943 [==============================] - 3s 178us/step - loss: 4.9348e-04 - acc: 1.0000 - val_loss: 0.0043 - val_acc: 0.9980\n"
     ]
    }
   ],
   "source": [
    "from keras.callbacks import ModelCheckpoint\n",
    "#Need create train batch and validation batch\n",
    "batch_size = 256\n",
    "\n",
    "saved_weights_path = weight_path + '/fcn_2bns_1layers_dropout_epoch_{epoch:02d}-valloss_{val_loss:.2f}.hdf5'\n",
    "mcp = ModelCheckpoint(saved_weights_path, monitor='val_loss', save_weights_only=True, mode='auto', period=1)\n",
    "call_backs = [mcp]\n",
    "epochs = 10\n",
    "h = statefarm_model.fit(mid_train_data, train_labels, epochs=epochs, validation_data=(mid_val_data, val_labels), batch_size=batch_size, shuffle=True, callbacks=call_backs)"
   ]
  },
  {
   "cell_type": "code",
   "execution_count": 8,
   "metadata": {
    "collapsed": false
   },
   "outputs": [
    {
     "name": "stdout",
     "output_type": "stream",
     "text": [
      "/home/ubuntu/data/weights/statefarm//fcn_epoch_200-valloss_2.30.hdf5\n"
     ]
    },
    {
     "ename": "NameError",
     "evalue": "name 'testm' is not defined",
     "output_type": "error",
     "traceback": [
      "\u001b[0;31m-----------------------------------------------------------\u001b[0m",
      "\u001b[0;31mNameError\u001b[0m                 Traceback (most recent call last)",
      "\u001b[0;32m<ipython-input-8-1a43d6966c4b>\u001b[0m in \u001b[0;36m<module>\u001b[0;34m()\u001b[0m\n\u001b[1;32m      3\u001b[0m \u001b[0mwp\u001b[0m \u001b[0;34m=\u001b[0m \u001b[0mweight_path\u001b[0m \u001b[0;34m+\u001b[0m \u001b[0;34m'/fcn_epoch_200-valloss_2.30.hdf5'\u001b[0m\u001b[0;34m\u001b[0m\u001b[0m\n\u001b[1;32m      4\u001b[0m \u001b[0;32mprint\u001b[0m\u001b[0;34m(\u001b[0m\u001b[0mwp\u001b[0m\u001b[0;34m)\u001b[0m\u001b[0;34m\u001b[0m\u001b[0m\n\u001b[0;32m----> 5\u001b[0;31m \u001b[0mtestm\u001b[0m\u001b[0;34m.\u001b[0m\u001b[0mload_weights\u001b[0m\u001b[0;34m(\u001b[0m\u001b[0mwp\u001b[0m\u001b[0;34m)\u001b[0m\u001b[0;34m\u001b[0m\u001b[0m\n\u001b[0m",
      "\u001b[0;31mNameError\u001b[0m: name 'testm' is not defined"
     ]
    }
   ],
   "source": [
    "import utils\n",
    "mid_train_data = utils.load_array(weight_path + '/statefarm_conv_res')\n",
    "wp = weight_path + '/fcn_2bns_1layers_dropout_epoch_10-valloss_0.01.hdf5'\n",
    "print(wp)\n",
    "statefarm_model.load_weights(wp)"
   ]
  },
  {
   "cell_type": "markdown",
   "metadata": {},
   "source": [
    "# Make Pre-Training Work"
   ]
  },
  {
   "cell_type": "code",
   "execution_count": 56,
   "metadata": {
    "collapsed": false
   },
   "outputs": [
    {
     "data": {
      "image/png": "[encoded data removed]",
      "text/plain": [
       "<matplotlib.figure.Figure at 0x7f88d98331d0>"
      ]
     },
     "metadata": {},
     "output_type": "display_data"
    }
   ],
   "source": [
    "import pandas as pd\n",
    "import numpy as np\n",
    "from matplotlib import pyplot as plt\n",
    "%matplotlib inline\n",
    "df = pd.DataFrame(h.history)\n",
    "df['epoch'] =df.index\n",
    "\n",
    "fig = plt.figure(1)\n",
    "ax = fig.add_subplot(111)\n",
    "\n",
    "ax.set_ylim(0.98,1.02)\n",
    "ax.set_title('Accuracy vs. Epochs')\n",
    "ax.set_xlabel('epochs')\n",
    "ax.set_ylabel('Accuracy')\n",
    "\n",
    "line_train, =ax.plot(np.array(df['epoch']), np.array(df['acc']), '.', color='red', markersize=8)\n",
    "#plt.plot(x=np.array(df['epoch']), y=np.array(df['acc']), style='o', ylim=(0,1.1), markerfacecolor=\"None\", markeredgecolor='red')\n",
    "line_val, = ax.plot(np.array(df['epoch']), np.array(df['val_acc']), 'o',  markersize=4, markeredgecolor='blue')\n",
    "ax.plot(np.array(df['epoch']), np.ones(len(df)), 'black')\n",
    "ax.legend((line_train, line_val), ('Train Accuracy', 'Validation Accuracy'))\n",
    "fig.savefig(sub_path + '/train_accuracy_vs_epochs10_base.png')\n"
   ]
  },
  {
   "cell_type": "code",
   "execution_count": 64,
   "metadata": {
    "collapsed": true
   },
   "outputs": [],
   "source": [
    "#1 BN, dropout\n",
    "preds_1bn_dropout = statefarm_model.predict(mid_test_data, batch_size = batch_size)"
   ]
  },
  {
   "cell_type": "code",
   "execution_count": 68,
   "metadata": {
    "collapsed": true
   },
   "outputs": [],
   "source": [
    "#2 2 BN, dropout\n",
    "preds_2bn_dropout = statefarm_model.predict(mid_test_data, batch_size = batch_size)"
   ]
  },
  {
   "cell_type": "code",
   "execution_count": 72,
   "metadata": {
    "collapsed": true
   },
   "outputs": [],
   "source": [
    "#3 No BN, dropout 20 epochs\n",
    "preds_0bn_dropout1 = statefarm_model.predict(mid_test_data, batch_size = batch_size)"
   ]
  },
  {
   "cell_type": "code",
   "execution_count": 74,
   "metadata": {
    "collapsed": true
   },
   "outputs": [],
   "source": [
    "#4 No BN, dropout 40 epochs\n",
    "preds_0bn_dropout2 = statefarm_model.predict(mid_test_data, batch_size = batch_size)"
   ]
  },
  {
   "cell_type": "code",
   "execution_count": 76,
   "metadata": {
    "collapsed": true
   },
   "outputs": [],
   "source": [
    "#5 No BN, dropout 100 epochs\n",
    "preds_0bn_dropout3 = statefarm_model.predict(mid_test_data, batch_size = batch_size)"
   ]
  },
  {
   "cell_type": "markdown",
   "metadata": {},
   "source": [
    "# Pseudo Labeling"
   ]
  },
  {
   "cell_type": "code",
   "execution_count": 45,
   "metadata": {
    "collapsed": true
   },
   "outputs": [],
   "source": [
    "test_labels = statefarm_model.predict(mid_test_data, batch_size = batch_size)"
   ]
  },
  {
   "cell_type": "code",
   "execution_count": 11,
   "metadata": {
    "collapsed": false
   },
   "outputs": [],
   "source": [
    "combo_labels = np.concatenate([train_labels, test_labels])\n",
    "combo_data = np.concatenate([mid_train_data, mid_test_data])"
   ]
  },
  {
   "cell_type": "code",
   "execution_count": 13,
   "metadata": {
    "collapsed": false
   },
   "outputs": [
    {
     "name": "stdout",
     "output_type": "stream",
     "text": [
      "(97669, 25088)\n"
     ]
    }
   ],
   "source": [
    "print(combo_data.shape)"
   ]
  },
  {
   "cell_type": "code",
   "execution_count": 14,
   "metadata": {
    "collapsed": false
   },
   "outputs": [
    {
     "name": "stdout",
     "output_type": "stream",
     "text": [
      "_________________________________________________________________\n",
      "Layer (type)                 Output Shape              Param #   \n",
      "=================================================================\n",
      "batch_normalization_3 (Batch (None, 25088)             100352    \n",
      "_________________________________________________________________\n",
      "dense_3 (Dense)              (None, 256)               6422784   \n",
      "_________________________________________________________________\n",
      "batch_normalization_4 (Batch (None, 256)               1024      \n",
      "_________________________________________________________________\n",
      "dropout_2 (Dropout)          (None, 256)               0         \n",
      "_________________________________________________________________\n",
      "dense_4 (Dense)              (None, 10)                2570      \n",
      "=================================================================\n",
      "Total params: 6,526,730\n",
      "Trainable params: 6,476,042\n",
      "Non-trainable params: 50,688\n",
      "_________________________________________________________________\n"
     ]
    }
   ],
   "source": [
    "#Construct a new model with just FCBs and using the convoluation results from Vgg16 as input\n",
    "#I want to overfit the train data first, so I use 2 dense layers total 4096*4096+4096 (bias) parameters without dropout\n",
    "from keras.models import Sequential\n",
    "from keras.layers.core import Flatten, Dense, Dropout, Lambda\n",
    "from keras.layers import BatchNormalization\n",
    "from keras.optimizers import SGD, RMSprop, Adam\n",
    "lr = 0.001\n",
    "statefarm_model_pseu = Sequential()\n",
    "statefarm_model_pseu.add(BatchNormalization(axis=1, input_shape=(25088,)))\n",
    "statefarm_model_pseu.add(Dense(256, activation='relu')) #, input_shape=(25088,)))\n",
    "statefarm_model_pseu.add(BatchNormalization(axis=1))\n",
    "statefarm_model_pseu.add(Dropout(0.5)) \n",
    "statefarm_model_pseu.add(Dense(10, activation='softmax'))\n",
    "statefarm_model_pseu.compile(optimizer=Adam(lr=lr), loss='categorical_crossentropy', metrics=['accuracy'])\n",
    "statefarm_model_pseu.summary()"
   ]
  },
  {
   "cell_type": "code",
   "execution_count": 15,
   "metadata": {
    "collapsed": false
   },
   "outputs": [
    {
     "name": "stdout",
     "output_type": "stream",
     "text": [
      "Train on 97669 samples, validate on 4481 samples\n",
      "Epoch 1/10\n",
      "97669/97669 [==============================] - 16s 164us/step - loss: 0.7321 - acc: 0.8329 - val_loss: 0.0280 - val_acc: 0.9958\n",
      "Epoch 2/10\n",
      "97669/97669 [==============================] - 16s 163us/step - loss: 0.5554 - acc: 0.8893 - val_loss: 0.0222 - val_acc: 0.9962\n",
      "Epoch 3/10\n",
      "97669/97669 [==============================] - 16s 164us/step - loss: 0.5244 - acc: 0.9052 - val_loss: 0.0201 - val_acc: 0.9955\n",
      "Epoch 4/10\n",
      "97669/97669 [==============================] - 16s 163us/step - loss: 0.5103 - acc: 0.9129 - val_loss: 0.0192 - val_acc: 0.9971\n",
      "Epoch 5/10\n",
      "97669/97669 [==============================] - 16s 163us/step - loss: 0.5010 - acc: 0.9184 - val_loss: 0.0185 - val_acc: 0.9962\n",
      "Epoch 6/10\n",
      "97669/97669 [==============================] - 16s 163us/step - loss: 0.4958 - acc: 0.9218 - val_loss: 0.0188 - val_acc: 0.9960\n",
      "Epoch 7/10\n",
      "97669/97669 [==============================] - 16s 163us/step - loss: 0.4915 - acc: 0.9246 - val_loss: 0.0180 - val_acc: 0.9960\n",
      "Epoch 8/10\n",
      "97669/97669 [==============================] - 16s 164us/step - loss: 0.4872 - acc: 0.9275 - val_loss: 0.0183 - val_acc: 0.9960\n",
      "Epoch 9/10\n",
      "97669/97669 [==============================] - 16s 163us/step - loss: 0.4850 - acc: 0.9290 - val_loss: 0.0189 - val_acc: 0.9953\n",
      "Epoch 10/10\n",
      "97669/97669 [==============================] - 16s 163us/step - loss: 0.4832 - acc: 0.9291 - val_loss: 0.0197 - val_acc: 0.9951\n"
     ]
    }
   ],
   "source": [
    "from keras.callbacks import ModelCheckpoint\n",
    "#Need create train batch and validation batch\n",
    "batch_size = 256\n",
    "\n",
    "saved_weights_path = weight_path + '/pseudo_2bns_1layers_epoch_{epoch:02d}-valloss_{val_loss:.2f}.hdf5'\n",
    "mcp = ModelCheckpoint(saved_weights_path, monitor='val_loss', save_weights_only=True, mode='auto', period=1)\n",
    "call_backs = [mcp]\n",
    "epochs = 10\n",
    "h = statefarm_model_pseu.fit(combo_data, combo_labels, epochs=epochs, validation_data=(mid_val_data, val_labels), batch_size=batch_size, shuffle=True, callbacks=call_backs)"
   ]
  },
  {
   "cell_type": "code",
   "execution_count": 16,
   "metadata": {
    "collapsed": true
   },
   "outputs": [],
   "source": [
    "predictions = statefarm_model.predict(mid_test_data, batch_size = batch_size)"
   ]
  },
  {
   "cell_type": "markdown",
   "metadata": {},
   "source": [
    "# Create Augmentated Images"
   ]
  },
  {
   "cell_type": "code",
   "execution_count": 22,
   "metadata": {
    "collapsed": false
   },
   "outputs": [],
   "source": [
    "import os\n",
    "from keras.preprocessing import image\n",
    "\n",
    "def mkdirp(dir):\n",
    "    if not os.path.exists(dir):\n",
    "        os.makedirs(dir)\n",
    "\n",
    "def save_img(img_data, prefix, out_path, img_name, is_scale):\n",
    "    dim_ordering = None # 'th'\n",
    "    img = image.array_to_img(img_data, dim_ordering, scale=is_scale)\n",
    "    fname = '{prefix}_{img_name}'.format(prefix= prefix, img_name=img_name)\n",
    "    #print(out_path)\n",
    "    #print(\"Transformed filename : %s\"%fname)\n",
    "    img.save(os.path.join(out_path, fname))\n",
    "    \n",
    "#gen= #shear_range=5, horizontal_shift=True, rotation_range = 10, shift = 0.1\n",
    "\n",
    "#base_path = train_path\n",
    "#train_path = base_path + '/train'\n",
    "\n",
    "\n",
    "def create_transformed_images(base_path, transform, gen):\n",
    "    print(\"Generating %s transforming images....\"%transform)\n",
    "    out_path = base_path + 'train_' + transform    \n",
    "    train_path = base_path + '/train'\n",
    "    mkdirp(out_path)\n",
    "    batches = gen.flow_from_directory(train_path, shuffle=False, batch_size=1)\n",
    "    #print('image shape: ')\n",
    "    #print(batches.image_shape)\n",
    "    #print('image dim_ordering: ')\n",
    "    counts = len(batches.filenames)\n",
    "    print('Total number of images: %d' %counts)\n",
    "    for idx in range(len(batches.filenames)):\n",
    "        if(idx >= 2000 and idx %2000 == 0):\n",
    "            print('Processed %d'%idx)\n",
    "        img = batches.filenames[idx]\n",
    "        cls = img.split(\"/\")[0]\n",
    "        fn = img.split(\"/\")[1]\n",
    "        dat = batches.next()\n",
    "        outp = out_path + '/' + cls\n",
    "        mkdirp(outp)\n",
    "        #print(len(dat))\n",
    "        #print(dat[0].shape)\n",
    "        #print(dat[1].shape)\n",
    "        save_img(dat[0][0], transform, outp, fn, is_scale=True)        \n",
    "    \n",
    "    print('Completed generating %s-ed images!'%transform)\n",
    "    "
   ]
  },
  {
   "cell_type": "code",
   "execution_count": 23,
   "metadata": {
    "collapsed": false
   },
   "outputs": [
    {
     "name": "stdout",
     "output_type": "stream",
     "text": [
      "Found 17943 images belonging to 10 classes.\n",
      "Total number of images: 17943\n",
      "Processed 2000\n",
      "Processed 4000\n",
      "Processed 6000\n",
      "Processed 8000\n",
      "Processed 10000\n",
      "Processed 12000\n",
      "Processed 14000\n",
      "Processed 16000\n",
      "Completed generating hshift-ed images!\n",
      "Found 17943 images belonging to 10 classes.\n",
      "Total number of images: 17943\n",
      "Processed 2000\n",
      "Processed 4000\n",
      "Processed 6000\n",
      "Processed 8000\n",
      "Processed 10000\n",
      "Processed 12000\n",
      "Processed 14000\n",
      "Processed 16000\n",
      "Completed generating wshift-ed images!\n",
      "Found 17943 images belonging to 10 classes.\n",
      "Total number of images: 17943\n",
      "Processed 2000\n",
      "Processed 4000\n",
      "Processed 6000\n",
      "Processed 8000\n",
      "Processed 10000\n",
      "Processed 12000\n",
      "Processed 14000\n",
      "Processed 16000\n",
      "Completed generating zoom-ed images!\n",
      "Found 17943 images belonging to 10 classes.\n",
      "Total number of images: 17943\n",
      "Processed 2000\n",
      "Processed 4000\n",
      "Processed 6000\n",
      "Processed 8000\n",
      "Processed 10000\n",
      "Processed 12000\n",
      "Processed 14000\n",
      "Processed 16000\n",
      "Completed generating rotation-ed images!\n",
      "Found 17943 images belonging to 10 classes.\n",
      "Total number of images: 17943\n",
      "Processed 2000\n",
      "Processed 4000\n",
      "Processed 6000\n",
      "Processed 8000\n",
      "Processed 10000\n",
      "Processed 12000\n",
      "Processed 14000\n",
      "Processed 16000\n",
      "Completed generating zcawhitening-ed images!\n",
      "Found 17943 images belonging to 10 classes.\n",
      "Total number of images: 17943\n",
      "Processed 2000\n",
      "Processed 4000\n",
      "Processed 6000\n",
      "Processed 8000\n",
      "Processed 10000\n",
      "Processed 12000\n",
      "Processed 14000\n",
      "Processed 16000\n",
      "Completed generating shear-ed images!\n"
     ]
    }
   ],
   "source": [
    "generators = {'zoom':image.ImageDataGenerator(zoom_range=0.2),\n",
    "             'shear':image.ImageDataGenerator(shear_range=5),\n",
    "              'wshift':image.ImageDataGenerator(width_shift_range=0.1),\n",
    "              'hshift':image.ImageDataGenerator(height_shift_range=0.1),\n",
    "              'rotation':image.ImageDataGenerator(rotation_range=5),\n",
    "              'zcawhitening': image.ImageDataGenerator(zca_whitening=True)\n",
    "             }\n",
    "\n",
    "for transform, gen in generators.items():\n",
    "    create_transformed_images(base_path, transform, gen)"
   ]
  },
  {
   "cell_type": "markdown",
   "metadata": {},
   "source": [
    "# Pre-train CNN layers with VGG16"
   ]
  },
  {
   "cell_type": "code",
   "execution_count": 24,
   "metadata": {
    "collapsed": false,
    "scrolled": true
   },
   "outputs": [
    {
     "name": "stderr",
     "output_type": "stream",
     "text": [
      "vgg16.py:100: UserWarning: Update your `Conv2D` call to the Keras 2 API: `Conv2D(64, (3, 3), activation=\"relu\")`\n",
      "  model.add(Conv2D(filters, 3, 3, activation='relu'))\n",
      "vgg16.py:100: UserWarning: Update your `Conv2D` call to the Keras 2 API: `Conv2D(128, (3, 3), activation=\"relu\")`\n",
      "  model.add(Conv2D(filters, 3, 3, activation='relu'))\n",
      "vgg16.py:100: UserWarning: Update your `Conv2D` call to the Keras 2 API: `Conv2D(256, (3, 3), activation=\"relu\")`\n",
      "  model.add(Conv2D(filters, 3, 3, activation='relu'))\n",
      "vgg16.py:100: UserWarning: Update your `Conv2D` call to the Keras 2 API: `Conv2D(512, (3, 3), activation=\"relu\")`\n",
      "  model.add(Conv2D(filters, 3, 3, activation='relu'))\n"
     ]
    },
    {
     "name": "stdout",
     "output_type": "stream",
     "text": [
      "_________________________________________________________________\n",
      "Layer (type)                 Output Shape              Param #   \n",
      "=================================================================\n",
      "lambda_1 (Lambda)            (None, 3, 224, 224)       0         \n",
      "_________________________________________________________________\n",
      "zero_padding2d_1 (ZeroPaddin (None, 3, 226, 226)       0         \n",
      "_________________________________________________________________\n",
      "conv2d_1 (Conv2D)            (None, 64, 224, 224)      1792      \n",
      "_________________________________________________________________\n",
      "zero_padding2d_2 (ZeroPaddin (None, 64, 226, 226)      0         \n",
      "_________________________________________________________________\n",
      "conv2d_2 (Conv2D)            (None, 64, 224, 224)      36928     \n",
      "_________________________________________________________________\n",
      "max_pooling2d_1 (MaxPooling2 (None, 64, 112, 112)      0         \n",
      "_________________________________________________________________\n",
      "zero_padding2d_3 (ZeroPaddin (None, 64, 114, 114)      0         \n",
      "_________________________________________________________________\n",
      "conv2d_3 (Conv2D)            (None, 128, 112, 112)     73856     \n",
      "_________________________________________________________________\n",
      "zero_padding2d_4 (ZeroPaddin (None, 128, 114, 114)     0         \n",
      "_________________________________________________________________\n",
      "conv2d_4 (Conv2D)            (None, 128, 112, 112)     147584    \n",
      "_________________________________________________________________\n",
      "max_pooling2d_2 (MaxPooling2 (None, 128, 56, 56)       0         \n",
      "_________________________________________________________________\n",
      "zero_padding2d_5 (ZeroPaddin (None, 128, 58, 58)       0         \n",
      "_________________________________________________________________\n",
      "conv2d_5 (Conv2D)            (None, 256, 56, 56)       295168    \n",
      "_________________________________________________________________\n",
      "zero_padding2d_6 (ZeroPaddin (None, 256, 58, 58)       0         \n",
      "_________________________________________________________________\n",
      "conv2d_6 (Conv2D)            (None, 256, 56, 56)       590080    \n",
      "_________________________________________________________________\n",
      "zero_padding2d_7 (ZeroPaddin (None, 256, 58, 58)       0         \n",
      "_________________________________________________________________\n",
      "conv2d_7 (Conv2D)            (None, 256, 56, 56)       590080    \n",
      "_________________________________________________________________\n",
      "max_pooling2d_3 (MaxPooling2 (None, 256, 28, 28)       0         \n",
      "_________________________________________________________________\n",
      "zero_padding2d_8 (ZeroPaddin (None, 256, 30, 30)       0         \n",
      "_________________________________________________________________\n",
      "conv2d_8 (Conv2D)            (None, 512, 28, 28)       1180160   \n",
      "_________________________________________________________________\n",
      "zero_padding2d_9 (ZeroPaddin (None, 512, 30, 30)       0         \n",
      "_________________________________________________________________\n",
      "conv2d_9 (Conv2D)            (None, 512, 28, 28)       2359808   \n",
      "_________________________________________________________________\n",
      "zero_padding2d_10 (ZeroPaddi (None, 512, 30, 30)       0         \n",
      "_________________________________________________________________\n",
      "conv2d_10 (Conv2D)           (None, 512, 28, 28)       2359808   \n",
      "_________________________________________________________________\n",
      "max_pooling2d_4 (MaxPooling2 (None, 512, 14, 14)       0         \n",
      "_________________________________________________________________\n",
      "zero_padding2d_11 (ZeroPaddi (None, 512, 16, 16)       0         \n",
      "_________________________________________________________________\n",
      "conv2d_11 (Conv2D)           (None, 512, 14, 14)       2359808   \n",
      "_________________________________________________________________\n",
      "zero_padding2d_12 (ZeroPaddi (None, 512, 16, 16)       0         \n",
      "_________________________________________________________________\n",
      "conv2d_12 (Conv2D)           (None, 512, 14, 14)       2359808   \n",
      "_________________________________________________________________\n",
      "zero_padding2d_13 (ZeroPaddi (None, 512, 16, 16)       0         \n",
      "_________________________________________________________________\n",
      "conv2d_13 (Conv2D)           (None, 512, 14, 14)       2359808   \n",
      "_________________________________________________________________\n",
      "max_pooling2d_5 (MaxPooling2 (None, 512, 7, 7)         0         \n",
      "_________________________________________________________________\n",
      "flatten_1 (Flatten)          (None, 25088)             0         \n",
      "=================================================================\n",
      "Total params: 14,714,688\n",
      "Trainable params: 14,714,688\n",
      "Non-trainable params: 0\n",
      "_________________________________________________________________\n"
     ]
    }
   ],
   "source": [
    "import vgg16; reload(vgg16)\n",
    "vggm = vgg16.Vgg16()\n",
    "#Remove dense layers, only keep convolution layers\n",
    "vggm.model.pop() #dense6\n",
    "vggm.model.pop() #dropout4\n",
    "vggm.model.pop() #dense5\n",
    "vggm.model.pop() #dropout3\n",
    "vggm.model.pop() #dense4\n",
    "vggm.compile() \n",
    "vggm.model.summary()\n"
   ]
  },
  {
   "cell_type": "code",
   "execution_count": 26,
   "metadata": {
    "collapsed": false
   },
   "outputs": [
    {
     "name": "stdout",
     "output_type": "stream",
     "text": [
      "Computing CNN output features for hshift\n",
      "Found 17943 images belonging to 10 classes.\n",
      "Computing CNN output features for wshift\n",
      "Found 17943 images belonging to 10 classes.\n",
      "Computing CNN output features for zoom\n",
      "Found 17943 images belonging to 10 classes.\n",
      "Computing CNN output features for rotation\n",
      "Found 17943 images belonging to 10 classes.\n",
      "Computing CNN output features for zcawhitening\n",
      "Found 17943 images belonging to 10 classes.\n",
      "Computing CNN output features for shear\n",
      "Found 17943 images belonging to 10 classes.\n"
     ]
    }
   ],
   "source": [
    "batch_size = 60\n",
    "for transform in generators.keys():\n",
    "    print(\"Computing CNN output features for %s\"%transform)\n",
    "    t_path = base_path +'/train_' + transform\n",
    "    t_batches, t_predictions = vggm.test(t_path, batch_size)\n",
    "    utils.save_array(weight_path + '/statefarm_' + transform, t_predictions)"
   ]
  },
  {
   "cell_type": "code",
   "execution_count": 28,
   "metadata": {
    "collapsed": false
   },
   "outputs": [
    {
     "name": "stdout",
     "output_type": "stream",
     "text": [
      "(17943, 25088)\n"
     ]
    }
   ],
   "source": []
  },
  {
   "cell_type": "markdown",
   "metadata": {},
   "source": [
    "# Apply Pre-Trained CNN to Augmented Images"
   ]
  },
  {
   "cell_type": "code",
   "execution_count": 30,
   "metadata": {
    "collapsed": false
   },
   "outputs": [],
   "source": [
    "import utils\n",
    "transformed_train_data = None\n",
    "for transform in generators.keys():\n",
    "    weight_p = weight_path + '/statefarm_' + transform\n",
    "    t = utils.load_array(weight_p)\n",
    "    if transformed_train_data is None:\n",
    "        transformed_train_data = t\n",
    "    else:\n",
    "        transformed_train_data = np.concatenate([transformed_train_data, t])\n",
    "\n",
    "transformed_train_data = np.concatenate([transformed_train_data, mid_train_data])    "
   ]
  },
  {
   "cell_type": "code",
   "execution_count": 31,
   "metadata": {
    "collapsed": false
   },
   "outputs": [
    {
     "name": "stdout",
     "output_type": "stream",
     "text": [
      "(125601, 25088)\n",
      "(125601, 10)\n"
     ]
    }
   ],
   "source": [
    "transformed_train_labels = np.concatenate([train_labels, train_labels,train_labels,train_labels,train_labels,train_labels, train_labels])\n",
    "print(transformed_train_data.shape)\n",
    "print(transformed_train_labels.shape)"
   ]
  },
  {
   "cell_type": "code",
   "execution_count": 32,
   "metadata": {
    "collapsed": false
   },
   "outputs": [
    {
     "name": "stdout",
     "output_type": "stream",
     "text": [
      "_________________________________________________________________\n",
      "Layer (type)                 Output Shape              Param #   \n",
      "=================================================================\n",
      "batch_normalization_1 (Batch (None, 25088)             100352    \n",
      "_________________________________________________________________\n",
      "dense_4 (Dense)              (None, 256)               6422784   \n",
      "_________________________________________________________________\n",
      "batch_normalization_2 (Batch (None, 256)               1024      \n",
      "_________________________________________________________________\n",
      "dropout_3 (Dropout)          (None, 256)               0         \n",
      "_________________________________________________________________\n",
      "dense_5 (Dense)              (None, 10)                2570      \n",
      "=================================================================\n",
      "Total params: 6,526,730\n",
      "Trainable params: 6,476,042\n",
      "Non-trainable params: 50,688\n",
      "_________________________________________________________________\n"
     ]
    }
   ],
   "source": [
    "#Construct a new model with just FCBs and using the convoluation results from Vgg16 as input\n",
    "#I want to overfit the train data first, so I use 2 dense layers total 4096*4096+4096 (bias) parameters without dropout\n",
    "from keras.models import Sequential\n",
    "from keras.layers.core import Flatten, Dense, Dropout, Lambda\n",
    "from keras.layers import BatchNormalization\n",
    "from keras.optimizers import SGD, RMSprop, Adam\n",
    "lr = 0.001\n",
    "statefarm_model_pseu = Sequential()\n",
    "statefarm_model_pseu.add(BatchNormalization(axis=1, input_shape=(25088,)))\n",
    "statefarm_model_pseu.add(Dense(256, activation='relu')) #, input_shape=(25088,)))\n",
    "statefarm_model_pseu.add(BatchNormalization(axis=1))\n",
    "statefarm_model_pseu.add(Dropout(0.5)) \n",
    "statefarm_model_pseu.add(Dense(10, activation='softmax'))\n",
    "statefarm_model_pseu.compile(optimizer=Adam(lr=lr), loss='categorical_crossentropy', metrics=['accuracy'])\n",
    "statefarm_model_pseu.summary()"
   ]
  },
  {
   "cell_type": "code",
   "execution_count": 33,
   "metadata": {
    "collapsed": false,
    "scrolled": true
   },
   "outputs": [
    {
     "name": "stdout",
     "output_type": "stream",
     "text": [
      "Train on 125601 samples, validate on 4481 samples\n",
      "Epoch 1/10\n",
      "125601/125601 [==============================] - 20s 161us/step - loss: 0.2897 - acc: 0.9121 - val_loss: 0.0090 - val_acc: 0.9975\n",
      "Epoch 2/10\n",
      "125601/125601 [==============================] - 20s 159us/step - loss: 0.1108 - acc: 0.9642 - val_loss: 0.0064 - val_acc: 0.9978\n",
      "Epoch 3/10\n",
      "125601/125601 [==============================] - 20s 159us/step - loss: 0.0766 - acc: 0.9744 - val_loss: 0.0061 - val_acc: 0.9984\n",
      "Epoch 4/10\n",
      "125601/125601 [==============================] - 20s 158us/step - loss: 0.0591 - acc: 0.9805 - val_loss: 0.0046 - val_acc: 0.9989\n",
      "Epoch 5/10\n",
      "125601/125601 [==============================] - 20s 158us/step - loss: 0.0451 - acc: 0.9854 - val_loss: 0.0058 - val_acc: 0.9984\n",
      "Epoch 6/10\n",
      "125601/125601 [==============================] - 20s 158us/step - loss: 0.0391 - acc: 0.9872 - val_loss: 0.0073 - val_acc: 0.9980\n",
      "Epoch 7/10\n",
      "125601/125601 [==============================] - 20s 158us/step - loss: 0.0328 - acc: 0.9892 - val_loss: 0.0070 - val_acc: 0.9973\n",
      "Epoch 8/10\n",
      "125601/125601 [==============================] - 20s 158us/step - loss: 0.0302 - acc: 0.9898 - val_loss: 0.0051 - val_acc: 0.9975\n",
      "Epoch 9/10\n",
      "125601/125601 [==============================] - 20s 157us/step - loss: 0.0269 - acc: 0.9912 - val_loss: 0.0054 - val_acc: 0.9984\n",
      "Epoch 10/10\n",
      "125601/125601 [==============================] - 20s 157us/step - loss: 0.0224 - acc: 0.9923 - val_loss: 0.0066 - val_acc: 0.9982\n"
     ]
    }
   ],
   "source": [
    "from keras.callbacks import ModelCheckpoint\n",
    "#Need create train batch and validation batch\n",
    "batch_size = 256\n",
    "\n",
    "saved_weights_path = weight_path + '/aug_2bns_1layers_epoch_{epoch:02d}-valloss_{val_loss:.2f}.hdf5'\n",
    "mcp = ModelCheckpoint(saved_weights_path, monitor='val_loss', save_weights_only=True, mode='auto', period=1)\n",
    "call_backs = [mcp]\n",
    "epochs = 10\n",
    "h = statefarm_model_pseu.fit(transformed_train_data, transformed_train_labels, epochs=epochs, validation_data=(mid_val_data, val_labels), batch_size=batch_size, shuffle=True, callbacks=call_backs)"
   ]
  },
  {
   "cell_type": "code",
   "execution_count": 34,
   "metadata": {
    "collapsed": true
   },
   "outputs": [],
   "source": [
    "predictions = statefarm_model_pseu.predict(mid_test_data, batch_size = batch_size)"
   ]
  },
  {
   "cell_type": "code",
   "execution_count": null,
   "metadata": {
    "collapsed": true
   },
   "outputs": [],
   "source": [
    "# Augmented + Pseudo Labels"
   ]
  },
  {
   "cell_type": "code",
   "execution_count": 47,
   "metadata": {
    "collapsed": false
   },
   "outputs": [
    {
     "name": "stdout",
     "output_type": "stream",
     "text": [
      "(79726, 10)\n"
     ]
    }
   ],
   "source": [
    "print(test_labels.shape)\n",
    "combo_aug_pseudo_labels = np.concatenate([transformed_train_labels, test_labels])\n",
    "combo_aug_pseudo_data = np.concatenate([transformed_train_data, mid_test_data])"
   ]
  },
  {
   "cell_type": "code",
   "execution_count": 48,
   "metadata": {
    "collapsed": false,
    "scrolled": true
   },
   "outputs": [
    {
     "name": "stdout",
     "output_type": "stream",
     "text": [
      "Train on 205327 samples, validate on 4481 samples\n",
      "Epoch 1/10\n",
      "205327/205327 [==============================] - 32s 158us/step - loss: 0.3385 - acc: 0.9237 - val_loss: 0.0108 - val_acc: 0.9973\n",
      "Epoch 2/10\n",
      "205327/205327 [==============================] - 32s 157us/step - loss: 0.2777 - acc: 0.9433 - val_loss: 0.0094 - val_acc: 0.9975\n",
      "Epoch 3/10\n",
      "205327/205327 [==============================] - 32s 158us/step - loss: 0.2643 - acc: 0.9491 - val_loss: 0.0076 - val_acc: 0.9978\n",
      "Epoch 4/10\n",
      "205327/205327 [==============================] - 32s 158us/step - loss: 0.2582 - acc: 0.9522 - val_loss: 0.0079 - val_acc: 0.9975\n",
      "Epoch 5/10\n",
      "205327/205327 [==============================] - 33s 159us/step - loss: 0.2529 - acc: 0.9543 - val_loss: 0.0072 - val_acc: 0.9980\n",
      "Epoch 6/10\n",
      "205327/205327 [==============================] - 33s 158us/step - loss: 0.2484 - acc: 0.9568 - val_loss: 0.0068 - val_acc: 0.9982\n",
      "Epoch 7/10\n",
      "205327/205327 [==============================] - 37s 179us/step - loss: 0.2451 - acc: 0.9590 - val_loss: 0.0072 - val_acc: 0.9975\n",
      "Epoch 8/10\n",
      "205327/205327 [==============================] - 32s 158us/step - loss: 0.2416 - acc: 0.9601 - val_loss: 0.0073 - val_acc: 0.9978\n",
      "Epoch 9/10\n",
      "205327/205327 [==============================] - 32s 157us/step - loss: 0.2402 - acc: 0.9609 - val_loss: 0.0069 - val_acc: 0.9980\n",
      "Epoch 10/10\n",
      "205327/205327 [==============================] - 32s 157us/step - loss: 0.2368 - acc: 0.9633 - val_loss: 0.0074 - val_acc: 0.9980\n"
     ]
    }
   ],
   "source": [
    "from keras.callbacks import ModelCheckpoint\n",
    "#Need create train batch and validation batch\n",
    "batch_size = 256\n",
    "\n",
    "saved_weights_path = weight_path + '/aug_pseudo_2bns_1layers_epoch_{epoch:02d}-valloss_{val_loss:.2f}.hdf5'\n",
    "mcp = ModelCheckpoint(saved_weights_path, monitor='val_loss', save_weights_only=True, mode='auto', period=1)\n",
    "call_backs = [mcp]\n",
    "epochs = 10\n",
    "h = statefarm_model_pseu.fit(combo_aug_pseudo_data, combo_aug_pseudo_labels, epochs=epochs, validation_data=(mid_val_data, val_labels), batch_size=batch_size, shuffle=True, callbacks=call_backs)"
   ]
  },
  {
   "cell_type": "markdown",
   "metadata": {},
   "source": [
    "# Ensemble"
   ]
  },
  {
   "cell_type": "code",
   "execution_count": 96,
   "metadata": {
    "collapsed": false
   },
   "outputs": [
    {
     "name": "stdout",
     "output_type": "stream",
     "text": [
      "[[1 2 3]\n",
      " [4 5 6]]\n",
      "[[8 2 5]\n",
      " [2 5 6]]\n",
      "[[ 4.5  2.   4. ]\n",
      " [ 3.   5.   6. ]]\n"
     ]
    }
   ],
   "source": [
    "a = np.array([[1,2,3],[4,5,6]])\n",
    "b = np.array([[8,2,5],[2,5,6]])\n",
    "print(a)\n",
    "print(b)\n",
    "avg =(a + b)/2.0\n",
    "print(avg)\n",
    "\n",
    "predictions = (preds_1bn_dropout+preds_2bn_dropout+preds_0bn_dropout1+preds_0bn_dropout2+preds_0bn_dropout3)/5"
   ]
  },
  {
   "cell_type": "code",
   "execution_count": 55,
   "metadata": {
    "collapsed": false
   },
   "outputs": [],
   "source": [
    "wp = weight_path + '/'\n",
    "ws = ['aug_pseudo_2bns_1layers_epoch_10-valloss_0.01.hdf5', \n",
    "     'aug_2bns_1layers_epoch_10-valloss_0.01.hdf5', 'pseudo_2bns_1layers_epoch_10-valloss_0.02.hdf5',]\n",
    "\n",
    "from keras.models import Sequential\n",
    "from keras.layers.core import Flatten, Dense, Dropout, Lambda\n",
    "from keras.layers import BatchNormalization\n",
    "from keras.optimizers import SGD, RMSprop, Adam\n",
    "lr = 0.001\n",
    "testm = Sequential()\n",
    "testm.add(BatchNormalization(axis=1, input_shape=(25088,)))\n",
    "testm.add(Dense(256, activation='relu')) #, input_shape=(25088,)))\n",
    "testm.add(BatchNormalization(axis=1))\n",
    "testm.add(Dropout(0.5)) \n",
    "testm.add(Dense(10, activation='softmax'))\n",
    "testm.compile(optimizer=Adam(lr=lr), loss='categorical_crossentropy', metrics=['accuracy'])\n",
    "#testm.summary()\n",
    "\n",
    "predictions = None\n",
    "for w in ws:\n",
    "    testm.load_weights(wp + w)\n",
    "    preds = testm.predict(mid_test_data, batch_size = batch_size)\n",
    "    if predictions is None:\n",
    "        predictions = preds\n",
    "    else:\n",
    "        predictions = predictions + preds\n",
    "\n",
    "predictions = predictions/len(ws)"
   ]
  },
  {
   "cell_type": "code",
   "execution_count": 57,
   "metadata": {
    "collapsed": false
   },
   "outputs": [
    {
     "data": {
      "text/plain": [
       "3"
      ]
     },
     "execution_count": 57,
     "metadata": {},
     "output_type": "execute_result"
    }
   ],
   "source": []
  },
  {
   "cell_type": "code",
   "execution_count": 49,
   "metadata": {
    "collapsed": true
   },
   "outputs": [],
   "source": [
    "predictions = statefarm_model_pseu.predict(mid_test_data, batch_size = batch_size)"
   ]
  },
  {
   "cell_type": "markdown",
   "metadata": {},
   "source": [
    "# Create Submission File"
   ]
  },
  {
   "cell_type": "code",
   "execution_count": 56,
   "metadata": {
    "collapsed": false
   },
   "outputs": [
    {
     "name": "stdout",
     "output_type": "stream",
     "text": [
      "Write to ./sub/statefarm/ensemble_aug_pseu_batchsize_256_epochs10_.csv\n",
      "DONE!\n"
     ]
    },
    {
     "data": {
      "text/html": [
       "<a href='./sub/statefarm/ensemble_aug_pseu_batchsize_256_epochs10_.csv' target='_blank'>./sub/statefarm/ensemble_aug_pseu_batchsize_256_epochs10_.csv</a><br>"
      ],
      "text/plain": [
       "/home/ubuntu/fastai_course/neilz/part1/sub/statefarm/ensemble_aug_pseu_batchsize_256_epochs10_.csv"
      ]
     },
     "execution_count": 56,
     "metadata": {},
     "output_type": "execute_result"
    }
   ],
   "source": [
    "def do_clip(arr, mx): \n",
    "    return np.clip(arr, (1-mx)/9, mx)\n",
    "\n",
    "def get_id(img_path):\n",
    "    fid = img_path.split(\"/\")[1] #Get image ID\n",
    "    return fid\n",
    "\n",
    "s = ['c0', 'c1', 'c2', 'c3', 'c4', 'c5', 'c6', 'c7', 'c8', 'c9'] #train_data.class_indices.keys()\n",
    "s.sort()\n",
    "df = pd.DataFrame(predictions, columns=s)\n",
    "for c in s:\n",
    "    df[c] = do_clip(df[c], 0.93)\n",
    "df['img'] = test_filenames #test_batches.filenames\n",
    "df['img'] = df.apply(lambda r: get_id(r['img']), axis=1)\n",
    "cols = cols = ['img'] + s\n",
    "df = df[cols]\n",
    "#print(df)\n",
    "fn = \"./sub/statefarm/ensemble_aug_pseu_batchsize_\" + str(batch_size) + \"_epochs\" + str(epochs) +\"_.csv\"\n",
    "df.to_csv(fn, index=False)\n",
    "print(\"Write to \" + fn)\n",
    "print(\"DONE!\")\n",
    "from IPython.display import FileLink\n",
    "FileLink(fn)  "
   ]
  },
  {
   "cell_type": "code",
   "execution_count": null,
   "metadata": {
    "collapsed": true
   },
   "outputs": [],
   "source": []
  }
 ],
 "metadata": {
  "anaconda-cloud": {},
  "kernelspec": {
   "display_name": "Python [conda root]",
   "language": "python",
   "name": "conda-root-py"
  },
  "language_info": {
   "codemirror_mode": {
    "name": "ipython",
    "version": 2
   },
   "file_extension": ".py",
   "mimetype": "text/x-python",
   "name": "python",
   "nbconvert_exporter": "python",
   "pygments_lexer": "ipython2",
   "version": "2.7.12"
  }
 },
 "nbformat": 4,
 "nbformat_minor": 1
}
