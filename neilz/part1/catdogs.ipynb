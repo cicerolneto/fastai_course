{
 "cells": [
  {
   "cell_type": "code",
   "execution_count": 1,
   "metadata": {
    "collapsed": true
   },
   "outputs": [],
   "source": [
    "%matplotlib inline"
   ]
  },
  {
   "cell_type": "code",
   "execution_count": 2,
   "metadata": {
    "collapsed": true
   },
   "outputs": [],
   "source": [
    "from __future__ import division,print_function\n",
    "\n",
    "import os, json\n",
    "from glob import glob\n",
    "import numpy as np\n",
    "np.set_printoptions(precision=4, linewidth=100)\n",
    "from matplotlib import pyplot as plt\n",
    "import pandas as pd\n",
    "import numpy as np"
   ]
  },
  {
   "cell_type": "code",
   "execution_count": 3,
   "metadata": {
    "collapsed": false
   },
   "outputs": [
    {
     "name": "stderr",
     "output_type": "stream",
     "text": [
      "WARNING (theano.sandbox.cuda): The cuda backend is deprecated and will be removed in the next release (v0.10).  Please switch to the gpuarray backend. You can get more information about how to switch at this URL:\n",
      " https://github.com/Theano/Theano/wiki/Converting-to-the-new-gpu-back-end%28gpuarray%29\n",
      "\n",
      "Using gpu device 0: Tesla K80 (CNMeM is disabled, cuDNN 5103)\n",
      "Using Theano backend.\n"
     ]
    }
   ],
   "source": [
    "import utils; reload(utils)\n",
    "from utils import plots"
   ]
  },
  {
   "cell_type": "code",
   "execution_count": 16,
   "metadata": {
    "collapsed": true
   },
   "outputs": [],
   "source": [
    "import vgg16; reload(vgg16)\n",
    "from vgg16 import Vgg16"
   ]
  },
  {
   "cell_type": "code",
   "execution_count": 17,
   "metadata": {
    "collapsed": false
   },
   "outputs": [
    {
     "name": "stdout",
     "output_type": "stream",
     "text": [
      "\u001b[0m\u001b[01;34manaconda2\u001b[0m/  \u001b[01;34mdata\u001b[0m/  \u001b[01;34mdownloads\u001b[0m/  \u001b[01;34mfastai_course\u001b[0m/\r\n"
     ]
    }
   ],
   "source": [
    "%ls ../../../"
   ]
  },
  {
   "cell_type": "code",
   "execution_count": 23,
   "metadata": {
    "collapsed": true
   },
   "outputs": [],
   "source": [
    "#path = \"../../../data/dogscats/\"\n",
    "path = \"../../../data/dogscats/sample/\"\n",
    "result_path = \"../../../data/dogscats/results/\"\n",
    "# As large as you can, but no larger than 64 is recommended. \n",
    "# If you have an older or cheaper GPU, you'll run out of memory, so will have to decrease this.\n",
    "batch_size=64\n",
    "epochs = 10\n"
   ]
  },
  {
   "cell_type": "code",
   "execution_count": 24,
   "metadata": {
    "collapsed": false
   },
   "outputs": [
    {
     "name": "stdout",
     "output_type": "stream",
     "text": [
      "Found 20 images belonging to 2 classes.\n",
      "Found 20 images belonging to 2 classes.\n",
      "{'cats': 0, 'dogs': 1}\n",
      "{'cats': 0, 'dogs': 1}\n",
      "2\n"
     ]
    }
   ],
   "source": [
    "vgg = Vgg16()\n",
    "# Grab a few images at a time for training and validation.\n",
    "# NB: They must be in subdirectories named based on their category\n",
    "batches = vgg.get_batches(path+'train', batch_size=batch_size)\n",
    "val_batches = vgg.get_batches(path+'valid', batch_size=batch_size*2)\n",
    "print(batches.class_indices)\n",
    "print(val_batches.class_indices)\n",
    "print(batches.num_classes)"
   ]
  },
  {
   "cell_type": "code",
   "execution_count": 25,
   "metadata": {
    "collapsed": false
   },
   "outputs": [],
   "source": [
    "vgg.finetune(batches)\n",
    "#vgg.model.summary()"
   ]
  },
  {
   "cell_type": "code",
   "execution_count": 26,
   "metadata": {
    "collapsed": false
   },
   "outputs": [
    {
     "name": "stdout",
     "output_type": "stream",
     "text": [
      "Epoch 1/10\n",
      "1/0 [================================================================================================] - 3s 3s/step - loss: 2.0785 - acc: 0.3500 - val_loss: 0.6080 - val_acc: 0.6000\n",
      "Epoch 2/10\n",
      "1/0 [================================================================================================] - 3s 3s/step - loss: 1.1218 - acc: 0.7000 - val_loss: 0.4084 - val_acc: 0.8000\n",
      "Epoch 3/10\n",
      "1/0 [================================================================================================] - 3s 3s/step - loss: 0.7234 - acc: 0.8500 - val_loss: 0.3633 - val_acc: 0.8000\n",
      "Epoch 4/10\n",
      "1/0 [================================================================================================] - 3s 3s/step - loss: 0.3745 - acc: 0.8500 - val_loss: 0.3030 - val_acc: 0.8500\n",
      "Epoch 5/10\n",
      "1/0 [================================================================================================] - 3s 3s/step - loss: 0.1999 - acc: 0.9500 - val_loss: 0.2316 - val_acc: 0.8500\n",
      "Epoch 6/10\n",
      "1/0 [================================================================================================] - 3s 3s/step - loss: 0.0349 - acc: 1.0000 - val_loss: 0.1726 - val_acc: 0.9500\n",
      "Epoch 7/10\n",
      "1/0 [================================================================================================] - 3s 3s/step - loss: 0.1214 - acc: 0.9500 - val_loss: 0.1195 - val_acc: 0.9500\n",
      "Epoch 8/10\n",
      "1/0 [================================================================================================] - 3s 3s/step - loss: 0.0385 - acc: 1.0000 - val_loss: 0.0800 - val_acc: 0.9500\n",
      "Epoch 9/10\n",
      "1/0 [================================================================================================] - 3s 3s/step - loss: 0.0059 - acc: 1.0000 - val_loss: 0.0547 - val_acc: 1.0000\n",
      "Epoch 10/10\n",
      "1/0 [================================================================================================] - 3s 3s/step - loss: 0.0230 - acc: 1.0000 - val_loss: 0.0370 - val_acc: 1.0000\n"
     ]
    }
   ],
   "source": [
    "#vgg.finetune(batches)\n",
    "from keras.callbacks import ModelCheckpoint\n",
    "saved_weights_path = path + '/weights/sample.epoch_{epoch:02d}-valloss_{val_loss:.2f}.hdf5'\n",
    "mcp = ModelCheckpoint(saved_weights_path, monitor='val_loss', save_weights_only=True, mode='auto', period=1)\n",
    "call_backs = [mcp]\n",
    "h = vgg.fit(batches, val_batches, nb_epoch=epochs, batch_size = batch_size, callbacks=call_backs)"
   ]
  },
  {
   "cell_type": "code",
   "execution_count": 36,
   "metadata": {
    "collapsed": false
   },
   "outputs": [
    {
     "data": {
      "text/plain": [
       "<matplotlib.axes._subplots.AxesSubplot at 0x7fce0afd97d0>"
      ]
     },
     "execution_count": 36,
     "metadata": {},
     "output_type": "execute_result"
    },
    {
     "data": {
      "image/png": "[encoded data removed]",
      "text/plain": [
       "<matplotlib.figure.Figure at 0x7fce0ad7eed0>"
      ]
     },
     "metadata": {},
     "output_type": "display_data"
    }
   ],
   "source": [
    "#print(dir(h))\n",
    "import pandas as pd\n",
    "df = pd.DataFrame(h.history)\n",
    "df['epoch'] =df.index\n",
    "df.plot(x='epoch', y=['loss', 'val_loss'], style='*-')"
   ]
  },
  {
   "cell_type": "code",
   "execution_count": 76,
   "metadata": {
    "collapsed": false
   },
   "outputs": [],
   "source": [
    "vgg.model.save_weights(result_path + '/temp.h5')"
   ]
  },
  {
   "cell_type": "code",
   "execution_count": 89,
   "metadata": {
    "collapsed": false
   },
   "outputs": [],
   "source": [
    "from keras import backend as K\n",
    "K.set_value(vgg.model.optimizer.lr, 0.01) # (default =0.001)"
   ]
  },
  {
   "cell_type": "code",
   "execution_count": 90,
   "metadata": {
    "collapsed": false
   },
   "outputs": [
    {
     "data": {
      "text/plain": [
       "{'beta_1': 0.8999999761581421,\n",
       " 'beta_2': 0.9990000128746033,\n",
       " 'decay': 0.0,\n",
       " 'epsilon': 1e-08,\n",
       " 'lr': 0.009999999776482582}"
      ]
     },
     "execution_count": 90,
     "metadata": {},
     "output_type": "execute_result"
    }
   ],
   "source": [
    "vgg.model.optimizer.get_config()"
   ]
  },
  {
   "cell_type": "code",
   "execution_count": 99,
   "metadata": {
    "collapsed": false
   },
   "outputs": [
    {
     "name": "stdout",
     "output_type": "stream",
     "text": [
      "Found 23000 images belonging to 2 classes.\n",
      "Epoch 1/5\n",
      "23000/23000 [==============================] - 623s - loss: 0.3319 - acc: 0.9119 - val_loss: 0.0889 - val_acc: 0.9740\n",
      "Epoch 2/5\n",
      "23000/23000 [==============================] - 622s - loss: 0.2836 - acc: 0.9197 - val_loss: 0.0831 - val_acc: 0.9740\n",
      "Epoch 3/5\n",
      "23000/23000 [==============================] - 621s - loss: 0.2668 - acc: 0.9226 - val_loss: 0.0587 - val_acc: 0.9795\n",
      "Epoch 4/5\n",
      "23000/23000 [==============================] - 621s - loss: 0.2640 - acc: 0.9236 - val_loss: 0.0598 - val_acc: 0.9795\n",
      "Epoch 5/5\n",
      "23000/23000 [==============================] - 622s - loss: 0.2765 - acc: 0.9198 - val_loss: 0.0767 - val_acc: 0.9815\n"
     ]
    }
   ],
   "source": [
    "#Adding transformations\n",
    "epochs = 5\n",
    "from keras.preprocessing import image\n",
    "train_transformed = vgg.get_batches(path+\"train\", batch_size=batch_size, gen=image.ImageDataGenerator(shear_range=0.1,rotation_range=5,vertical_flip=True,width_shift_range=0.02, height_shift_range=0.02 ))\n",
    "vgg.fit(train_transformed, val_batches, nb_epoch=epochs)"
   ]
  },
  {
   "cell_type": "code",
   "execution_count": 80,
   "metadata": {
    "collapsed": false
   },
   "outputs": [
    {
     "name": "stdout",
     "output_type": "stream",
     "text": [
      "Found 23000 images belonging to 2 classes.\n",
      "Epoch 1/1\n",
      "23000/23000 [==============================] - 611s - loss: 0.1641 - acc: 0.9642 - val_loss: 0.0499 - val_acc: 0.9850\n"
     ]
    }
   ],
   "source": [
    "train_transformed = vgg.get_batches(path+\"train\", batch_size=batch_size, gen=image.ImageDataGenerator(rotation_range=5))\n",
    "vgg.fit(train_transformed, val_batches, nb_epoch=epochs)"
   ]
  },
  {
   "cell_type": "code",
   "execution_count": 83,
   "metadata": {
    "collapsed": false
   },
   "outputs": [
    {
     "name": "stdout",
     "output_type": "stream",
     "text": [
      "Found 23000 images belonging to 2 classes.\n",
      "Epoch 1/1\n",
      "23000/23000 [==============================] - 613s - loss: 0.4193 - acc: 0.9169 - val_loss: 0.0855 - val_acc: 0.9805\n"
     ]
    }
   ],
   "source": [
    "train_transformed = vgg.get_batches(path+\"train\", batch_size=batch_size, gen=image.ImageDataGenerator(vertical_flip=True))\n",
    "vgg.fit(train_transformed, val_batches, nb_epoch=epochs)"
   ]
  },
  {
   "cell_type": "code",
   "execution_count": 86,
   "metadata": {
    "collapsed": false
   },
   "outputs": [
    {
     "name": "stdout",
     "output_type": "stream",
     "text": [
      "Found 23000 images belonging to 2 classes.\n",
      "Epoch 1/1\n",
      "23000/23000 [==============================] - 611s - loss: 0.1130 - acc: 0.9745 - val_loss: 0.0831 - val_acc: 0.9790\n"
     ]
    }
   ],
   "source": [
    "train_transformed = vgg.get_batches(path+\"train\", batch_size=batch_size, gen=image.ImageDataGenerator(width_shift_range=0.1, height_shift_range=0.1))\n",
    "vgg.fit(train_transformed, val_batches, nb_epoch=epochs)"
   ]
  },
  {
   "cell_type": "markdown",
   "metadata": {},
   "source": [
    "# ---------------------------------------------------------"
   ]
  },
  {
   "cell_type": "code",
   "execution_count": 18,
   "metadata": {
    "collapsed": false
   },
   "outputs": [
    {
     "name": "stdout",
     "output_type": "stream",
     "text": [
      "Found 12500 images belonging to 1 classes.\n"
     ]
    }
   ],
   "source": [
    "test_batches, predictions = vgg.test(path+'test', batch_size)"
   ]
  },
  {
   "cell_type": "code",
   "execution_count": 77,
   "metadata": {
    "collapsed": false
   },
   "outputs": [
    {
     "name": "stdout",
     "output_type": "stream",
     "text": [
      "['fakeclass/9292.jpg', 'fakeclass/12026.jpg', 'fakeclass/9688.jpg', 'fakeclass/4392.jpg', 'fakeclass/779.jpg', 'fakeclass/2768.jpg', 'fakeclass/2399.jpg', 'fakeclass/12225.jpg', 'fakeclass/10947.jpg', 'fakeclass/1780.jpg']\n",
      "(12500, 2)\n"
     ]
    }
   ],
   "source": [
    "#print(test_batches.filenames[0:10])\n",
    "#print(predictions.shape)"
   ]
  },
  {
   "cell_type": "code",
   "execution_count": 19,
   "metadata": {
    "collapsed": false
   },
   "outputs": [
    {
     "name": "stdout",
     "output_type": "stream",
     "text": [
      "Write to ./sub/train4_batchsize90_epochs1_lr0.01.csv\n",
      "DONE!\n"
     ]
    },
    {
     "data": {
      "text/html": [
       "<a href='./sub/train4_batchsize90_epochs1_lr0.01.csv' target='_blank'>./sub/train4_batchsize90_epochs1_lr0.01.csv</a><br>"
      ],
      "text/plain": [
       "/home/ubuntu/nbs/ml/sub/train4_batchsize90_epochs1_lr0.01.csv"
      ]
     },
     "execution_count": 19,
     "metadata": {},
     "output_type": "execute_result"
    }
   ],
   "source": [
    "#Return image ID from its name\n",
    "def get_id(img_path):\n",
    "    fid = img_path.split(\"/\")[1].split(\".\")[0] #Get image ID\n",
    "    return fid\n",
    "\n",
    "ids = []\n",
    "dog_probs = []\n",
    "for img_path,pred in zip(test_batches.filenames, predictions):\n",
    "    fid = get_id(img_path)\n",
    "    dog_prob = pred[1]\n",
    "    ids.append(fid)\n",
    "    dog_probs.append(dog_prob)\n",
    "    \n",
    "df = pd.DataFrame({\"id\":ids, \"label\":dog_probs})\n",
    "#print(df)\n",
    "fn = \"./sub/train4_batchsize\" + str(batch_size) + \"_epochs\" + str(epochs) +\"_lr0.01.csv\"\n",
    "df.to_csv(fn, index=False)\n",
    "print(\"Write to \" + fn)\n",
    "print(\"DONE!\")\n",
    "from IPython.display import FileLink\n",
    "FileLink(fn)  "
   ]
  },
  {
   "cell_type": "markdown",
   "metadata": {},
   "source": [
    "# Create augmented images"
   ]
  },
  {
   "cell_type": "code",
   "execution_count": 11,
   "metadata": {
    "collapsed": false
   },
   "outputs": [
    {
     "name": "stdout",
     "output_type": "stream",
     "text": [
      "Found 23000 images belonging to 2 classes.\n",
      "image shape: \n",
      "(3, 256, 256)\n",
      "image dim_ordering: \n",
      "th\n",
      "Total number of images: 23000\n",
      "Processed 2000\n",
      "Processed 4000\n",
      "Processed 6000\n",
      "Processed 8000\n",
      "Processed 10000\n",
      "Processed 12000\n",
      "Processed 14000\n",
      "Processed 16000\n",
      "Processed 18000\n",
      "Processed 20000\n",
      "Processed 22000\n",
      "Completed generating zoom-ed images!\n"
     ]
    }
   ],
   "source": [
    "import os\n",
    "from keras.preprocessing import image\n",
    "\n",
    "dim_ordering = 'th'\n",
    "def mkdirp(dir):\n",
    "    if not os.path.exists(dir):\n",
    "        os.makedirs(dir)\n",
    "\n",
    "def save_img(img_data, prefix, out_path, img_name, is_scale):\n",
    "    img = image.array_to_img(img_data, dim_ordering, scale=is_scale)\n",
    "    fname = '{prefix}_{img_name}'.format(prefix= prefix, img_name=img_name)\n",
    "    #print(out_path)\n",
    "    #print(fname)\n",
    "    img.save(os.path.join(out_path, fname))\n",
    "    \n",
    "transform = 'zoom'\n",
    "gen=image.ImageDataGenerator(zoom_range=0.2) #shear_range=5, horizontal_shift=True, rotation_range = 10, shift = 0.1\n",
    "\n",
    "base_path = \"data/dogscats/\"\n",
    "train_path = base_path + '/train'\n",
    "\n",
    "out_path = base_path + 'train_' + transform\n",
    "mkdirp(out_path)\n",
    "batches = gen.flow_from_directory(train_path, shuffle=False, batch_size=1)\n",
    "print('image shape: ')\n",
    "print(batches.image_shape)\n",
    "print('image dim_ordering: ')\n",
    "print(batches.dim_ordering)\n",
    "counts = len(batches.filenames)\n",
    "print('Total number of images: %d' %counts)\n",
    "for idx in range(len(batches.filenames)):\n",
    "    if(idx >= 2000 and idx %2000 == 0):\n",
    "        print('Processed %d'%idx)\n",
    "    img = batches.filenames[idx]\n",
    "    cls = img.split(\"/\")[0]\n",
    "    fn = img.split(\"/\")[1]\n",
    "    dat = batches.next()\n",
    "    outp = out_path + '/' + cls\n",
    "    mkdirp(outp)\n",
    "    #print(len(dat))\n",
    "    #print(dat[0].shape)\n",
    "    #print(dat[1].shape)\n",
    "    save_img(dat[0][0], transform, outp, fn, is_scale=True)\n",
    "    \n",
    "print('Completed generating %s-ed images!'%transform)    \n",
    "    \n",
    "    \n",
    "        \n",
    "\n",
    "    "
   ]
  },
  {
   "cell_type": "code",
   "execution_count": null,
   "metadata": {
    "collapsed": true
   },
   "outputs": [],
   "source": [
    "# Training History\n",
    "Train Session 1:\n",
    "1. Base line train: re-pull code from github, re-wrote the code to run the deep learning, used default batch_size = 64, epochs =1\n",
    "    Epoch 1/1\n",
    "23000/23000 [==============================] - 612s - loss: 0.1197 - acc: 0.9684 - val_loss: 0.0665 - val_acc: 0.9830\n",
    "Test score: 0.17580, filename: batchsize64_epochs1_base.csv\n",
    "\n",
    "2. Trained based on the base line model, added shear_range = 0.1\n",
    "Epoch 1/1\n",
    "23000/23000 [==============================] - 613s - loss: 0.1014 - acc: 0.9756 - val_loss: 0.0667 - val_acc: 0.9810\n",
    "Test score: 0.16436, filename: batchsize64_epochs1_base_shear.csv    \n",
    "\n",
    "3. base + shear + rotate (30)\n",
    "Epoch 1/1\n",
    "23000/23000 [==============================] - 611s - loss: 0.1641 - acc: 0.9642 - val_loss: 0.0499 - val_acc: 0.9850\n",
    "Test score: 0.17411, filename: batchsize64_epochs1_base_shear_rotate.csv  \n",
    "\n",
    "4. base + shear + rotate + vertical flip\n",
    "23000/23000 [==============================] - 613s - loss: 0.4193 - acc: 0.9169 - val_loss: 0.0855 - val_acc: 0.9805\n",
    "Test score: 0.16267, filename: batchsize64_epochs1_base_shear_rotate_flip.csv  \n",
    "\n",
    "5. base + shear + rotate + flip + shift (width+height:0.1)\n",
    "23000/23000 [==============================] - 611s - loss: 0.1130 - acc: 0.9745 - val_loss: 0.0831 - val_acc: 0.9790\n",
    "Test score: 0.17426, filename: batchsize64_epochs1_base_shear_rotate_flip_shift.csv  \n",
    "\n",
    "6. changed batch_size = 90, retrain the raw images based on the model from step 1-5\n",
    "23000/23000 [==============================] - 613s - loss: 0.0936 - acc: 0.9794 - val_loss: 0.0754 - val_acc: 0.9825\n",
    "Test score: 0.19362, filename: batchsize90_epochs1_base_shear_rotate_flip_shift.csv\n",
    "\n",
    "Train Session 2:        \n",
    "1. batch_size = 90, epochs = 1, start afresh\n",
    "23000/23000 [==============================] - 620s - loss: 0.1285 - acc: 0.9656 - val_loss: 0.0559 - val_acc: 0.9830\n",
    "Test score: 0.13399, filename: train2_batchsize90_epochs1.csv\n",
    "\n",
    "2. batch_size = 90, epochs = 5, added transformations       \n",
    "train_transformed = vgg.get_batches(path+\"train\", batch_size=batch_size, gen=image.ImageDataGenerator(shear_range=0.1,rotation_range=5,vertical_flip=True,width_shift_range=0.02, height_shift_range=0.02 ))\n",
    "\n",
    "Epoch 1/5\n",
    "23000/23000 [==============================] - 623s - loss: 0.3319 - acc: 0.9119 - val_loss: 0.0889 - val_acc: 0.9740\n",
    "Epoch 2/5\n",
    "23000/23000 [==============================] - 622s - loss: 0.2836 - acc: 0.9197 - val_loss: 0.0831 - val_acc: 0.9740\n",
    "Epoch 3/5\n",
    "23000/23000 [==============================] - 621s - loss: 0.2668 - acc: 0.9226 - val_loss: 0.0587 - val_acc: 0.9795\n",
    "Epoch 4/5\n",
    "23000/23000 [==============================] - 621s - loss: 0.2640 - acc: 0.9236 - val_loss: 0.0598 - val_acc: 0.9795\n",
    "Epoch 5/5\n",
    "23000/23000 [==============================] - 622s - loss: 0.2765 - acc: 0.9198 - val_loss: 0.0767 - val_acc: 0.9815\n",
    "In [80]:\n",
    "Test score: 0.14027, filename:train2_batchsize90_epochs5_all_transforms.csv\n",
    "\n",
    "\n",
    "Train Session 3: Train on each transformation separately and ensemble (with base case) with average\n",
    "batch_size = 90, epochs = 1\n",
    "\n",
    "1. train_flip\n",
    "23000/23000 [==============================] - 800s - loss: 0.1288 - acc: 0.9647 - val_loss: 0.0525 - val_acc: 0.9840\n",
    "\n",
    "Test score: 0.13822, filename: train3_batchsize90_epochs1_flip.csv\n",
    "\n",
    "2. train_shift\n",
    "23000/23000 [==============================] - 801s - loss: 0.1409 - acc: 0.9608 - val_loss: 0.0813 - val_acc: 0.9775\n",
    "Test score: 0.16133, filename:train3_batchsize90_epochs1_shift.csv\n",
    "\n",
    "3. train_rotate\n",
    "23000/23000 [==============================] - 799s - loss: 0.1397 - acc: 0.9603 - val_loss: 0.0623 - val_acc: 0.9795\n",
    "Test score: 0.13268, filename: train3_batchsize90_epochs1_rotate.csv\n",
    "\n",
    "4. train_shear\n",
    "23000/23000 [==============================] - 798s - loss: 0.5209 - acc: 0.8065 - val_loss: 0.0681 - val_acc: 0.9780\n",
    "Test score: 0.11434, filename: train3_batchsize90_epochs1_shear.csv\n",
    "\n",
    "5. train_zoom\n",
    "23000/23000 [==============================] - 800s - loss: 0.1560 - acc: 0.9545 - val_loss: 0.0574 - val_acc: 0.9815\n",
    "Test score: 0.11701, filename: train3_batchsize90_epochs1_zoom.csv\n",
    "\n",
    "6. ensemble: average the predictions from all above\n",
    "Test score: 0.10128, filename: ensemble_session1_3.csv\n",
    "\n",
    "7. train_all: use raw and all transformed images for training\n",
    "138000/138000 [==============================] - 4357s - loss: 0.1812 - acc: 0.9448 - val_loss: 0.0671 - val_acc: 0.9790\n",
    "Test score: 0.15428, filename: train3_batchsize90_epochs1_all.csv\n",
    "\n",
    "8. make 2nd to last layer trainable\n",
    "23000/23000 [==============================] - 778s - loss: 0.1282 - acc: 0.9638 - val_loss: 0.0527 - val_acc: 0.9805\n",
    "Test score: 0.11644 filename: train3_batchsize90_epochs1_morelayer.csv\n",
    "\n",
    "9. make 2nd to last layer trainable + all data\n",
    "138000/138000 [==============================] - 4358s - loss: 0.1796 - acc: 0.9443 - val_loss: 0.0565 - val_acc: 0.9820\n",
    "\n",
    "Test score: 0.13980,  filename: train3_batchsize90_epochs1_morelayer_all.csv\n",
    "\n",
    "Train Session 4:\n",
    "1. train with raw images, batch_size = 90, epochs =1 once\n",
    "2. change learn rate to 0.01, train twice\n",
    "23000/23000 [==============================] - 783s - loss: 0.1242 - acc: 0.9680 - val_loss: 0.0552 - val_acc: 0.9845\n",
    "23000/23000 [==============================] - 783s - loss: 0.1215 - acc: 0.9670 - val_loss: 0.0462 - val_acc: 0.9870\n",
    "Test score: 0.13962, filename: train4_batchsize90_epochs1_lr0.01.csv\n",
    "with winsorization: [0.02, 0.98], I got test score = 0.07491.\n",
    "\n"
   ]
  }
 ],
 "metadata": {
  "anaconda-cloud": {},
  "kernelspec": {
   "display_name": "Python [conda root]",
   "language": "python",
   "name": "conda-root-py"
  },
  "language_info": {
   "codemirror_mode": {
    "name": "ipython",
    "version": 2
   },
   "file_extension": ".py",
   "mimetype": "text/x-python",
   "name": "python",
   "nbconvert_exporter": "python",
   "pygments_lexer": "ipython2",
   "version": "2.7.12"
  }
 },
 "nbformat": 4,
 "nbformat_minor": 1
}
