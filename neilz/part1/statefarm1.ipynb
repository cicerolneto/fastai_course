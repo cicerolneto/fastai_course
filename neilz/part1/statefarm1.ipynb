{
 "cells": [
  {
   "cell_type": "markdown",
   "metadata": {},
   "source": [
    "# Prepare Data"
   ]
  },
  {
   "cell_type": "code",
   "execution_count": 3,
   "metadata": {
    "collapsed": false
   },
   "outputs": [
    {
     "name": "stdout",
     "output_type": "stream",
     "text": [
      "[Errno 2] No such file or directory: '../../../data/statefarm'\n",
      "/home/ubuntu/data/statefarm\n",
      "driver_imgs_list.csv  \u001b[0m\u001b[01;34mimags\u001b[0m/  \u001b[01;31mimgs.zip\u001b[0m  sample_submission.csv\r\n"
     ]
    }
   ],
   "source": [
    "%pwd\n",
    "%cd ../../../data/statefarm\n",
    "%pwd"
   ]
  },
  {
   "cell_type": "code",
   "execution_count": 6,
   "metadata": {
    "collapsed": false
   },
   "outputs": [
    {
     "name": "stdout",
     "output_type": "stream",
     "text": [
      "driver_imgs_list.csv  \u001b[0m\u001b[01;34mimags\u001b[0m/  \u001b[01;31mimgs.zip\u001b[0m  sample_submission.csv\n",
      "/home/ubuntu/data/statefarm/imags\n"
     ]
    }
   ],
   "source": [
    "%ls\n",
    "%cd imags"
   ]
  },
  {
   "cell_type": "code",
   "execution_count": 21,
   "metadata": {
    "collapsed": false
   },
   "outputs": [
    {
     "name": "stdout",
     "output_type": "stream",
     "text": [
      "79726\r\n"
     ]
    }
   ],
   "source": [
    "#Number of test images\n",
    "%ls test | wc -l"
   ]
  },
  {
   "cell_type": "code",
   "execution_count": 103,
   "metadata": {
    "collapsed": false
   },
   "outputs": [
    {
     "name": "stdout",
     "output_type": "stream",
     "text": [
      "1992\n",
      "1814\n",
      "1854\n",
      "1877\n",
      "1861\n",
      "1850\n",
      "1860\n",
      "1602\n",
      "1529\n",
      "1704\n",
      "17943\n"
     ]
    }
   ],
   "source": [
    "!for g in `ls train/ | sort`; do ls train/$g | wc -l; done;\n",
    "%ls train/*/* | wc -l"
   ]
  },
  {
   "cell_type": "code",
   "execution_count": 5,
   "metadata": {
    "collapsed": true
   },
   "outputs": [],
   "source": [
    "import pandas as pd\n",
    "import numpy as np"
   ]
  },
  {
   "cell_type": "code",
   "execution_count": 46,
   "metadata": {
    "collapsed": false
   },
   "outputs": [
    {
     "name": "stdout",
     "output_type": "stream",
     "text": [
      "/home/ubuntu/data/statefarm/imags\n",
      "22424\n",
      "  subject classname            img\n",
      "0    p002        c0  img_44733.jpg\n",
      "1    p002        c0  img_72999.jpg\n",
      "2    p002        c0  img_25094.jpg\n",
      "3    p002        c0  img_69092.jpg\n",
      "4    p002        c0  img_92629.jpg\n"
     ]
    },
    {
     "data": {
      "text/plain": [
       "c0    2489\n",
       "c3    2346\n",
       "c4    2326\n",
       "c6    2325\n",
       "c2    2317\n",
       "c5    2312\n",
       "c1    2267\n",
       "c9    2129\n",
       "c7    2002\n",
       "c8    1911\n",
       "Name: classname, dtype: int64"
      ]
     },
     "execution_count": 46,
     "metadata": {},
     "output_type": "execute_result"
    }
   ],
   "source": [
    "!pwd\n",
    "base = \"../\"\n",
    "test_path = base + \"/imags/test/\"\n",
    "train_path = base + \"/imags/train/\"\n",
    "driverimgs_df = pd.read_csv(base + '/driver_imgs_list.csv')\n",
    "print(len(driverimgs_df))\n",
    "print(driverimgs_df.head())\n",
    "driverimgs_df = driverimgs_df.sort_values(by=['classname'])\n",
    "driverimgs_df['classname'].value_counts()"
   ]
  },
  {
   "cell_type": "markdown",
   "metadata": {},
   "source": [
    "## Create Validation Data Set"
   ]
  },
  {
   "cell_type": "code",
   "execution_count": 47,
   "metadata": {
    "collapsed": false
   },
   "outputs": [
    {
     "name": "stdout",
     "output_type": "stream",
     "text": [
      "test  train\r\n"
     ]
    }
   ],
   "source": [
    "!ls\n",
    "!mkdir validation"
   ]
  },
  {
   "cell_type": "code",
   "execution_count": 85,
   "metadata": {
    "collapsed": false
   },
   "outputs": [
    {
     "name": "stdout",
     "output_type": "stream",
     "text": [
      "\u001b[0m\u001b[01;34mtest\u001b[0m/  \u001b[01;34mtrain\u001b[0m/  \u001b[01;34mvalidation\u001b[0m/\n",
      "['c0' 'c1' 'c2' 'c3' 'c4' 'c5' 'c6' 'c7' 'c8' 'c9']\n",
      "class: c0\n",
      "['img_79760.jpg', 'img_99785.jpg', 'img_87263.jpg']\n",
      "class: c1\n",
      "['img_2333.jpg', 'img_80383.jpg', 'img_85280.jpg']\n",
      "class: c2\n",
      "['img_7006.jpg', 'img_60073.jpg', 'img_83970.jpg']\n",
      "class: c3\n",
      "['img_39207.jpg', 'img_81493.jpg', 'img_12960.jpg']\n",
      "class: c4\n",
      "['img_37714.jpg', 'img_42976.jpg', 'img_50868.jpg']\n",
      "class: c5\n",
      "['img_53722.jpg', 'img_47014.jpg', 'img_100871.jpg']\n",
      "class: c6\n",
      "['img_4846.jpg', 'img_78546.jpg', 'img_23402.jpg']\n",
      "class: c7\n",
      "['img_87111.jpg', 'img_48335.jpg', 'img_17889.jpg']\n",
      "class: c8\n",
      "['img_90873.jpg', 'img_73411.jpg', 'img_47941.jpg']\n",
      "class: c9\n",
      "['img_34635.jpg', 'img_101370.jpg', 'img_31053.jpg']\n"
     ]
    }
   ],
   "source": [
    "%ls\n",
    "val_path = base + \"/imags/validation/\"\n",
    "val_size = 0.2 #20%\n",
    "import glob\n",
    "import os\n",
    "from random import shuffle\n",
    "\n",
    "classes = np.sort(os.listdir(train_path))\n",
    "print(classes)\n",
    "#files = glob.glob(train_path + '/c0/*.jpg')\n",
    "#np.random.choice(files, 5) # random sampling\n",
    "#shuffle(files) #in-place shuffle, return None\n",
    "files = [glob.glob(train_path + c + '/*.jpg') for c in classes]\n",
    "for idx, fl in enumerate(files):\n",
    "    print('class: %s'% classes[idx])\n",
    "    val_class_path = val_path + '/' + classes[idx]\n",
    "    if not os.path.exists(val_class_path):\n",
    "        os.makedirs(val_class_path)\n",
    "        \n",
    "    class_path = train_path + classes[idx]\n",
    "    shuffle(fl)\n",
    "    #print(fl[:3])\n",
    "    cutoff = int(val_size * len(fl))\n",
    "    val_set = fl[:cutoff]\n",
    "    fns = [os.path.basename(f) for f in val_set]\n",
    "    print(fns[:3])\n",
    "    [os.rename(class_path + '/' + f, val_class_path + '/' + f) for f in fns]"
   ]
  },
  {
   "cell_type": "code",
   "execution_count": 107,
   "metadata": {
    "collapsed": false
   },
   "outputs": [
    {
     "name": "stdout",
     "output_type": "stream",
     "text": [
      "/home/ubuntu/data/statefarm/imags\n",
      "497\n",
      "453\n",
      "463\n",
      "469\n",
      "465\n",
      "462\n",
      "465\n",
      "400\n",
      "382\n",
      "425\n",
      "4481\n"
     ]
    }
   ],
   "source": [
    "!pwd\n",
    "!for g in `ls validation/ | sort`; do ls validation/$g | wc -l; done;\n",
    "%ls validation/*/* | wc -l"
   ]
  },
  {
   "cell_type": "markdown",
   "metadata": {},
   "source": [
    "## Create Sample Data Structure"
   ]
  },
  {
   "cell_type": "code",
   "execution_count": null,
   "metadata": {
    "collapsed": true
   },
   "outputs": [],
   "source": []
  }
 ],
 "metadata": {
  "anaconda-cloud": {},
  "kernelspec": {
   "display_name": "Python [conda root]",
   "language": "python",
   "name": "conda-root-py"
  },
  "language_info": {
   "codemirror_mode": {
    "name": "ipython",
    "version": 2
   },
   "file_extension": ".py",
   "mimetype": "text/x-python",
   "name": "python",
   "nbconvert_exporter": "python",
   "pygments_lexer": "ipython2",
   "version": "2.7.12"
  }
 },
 "nbformat": 4,
 "nbformat_minor": 1
}
