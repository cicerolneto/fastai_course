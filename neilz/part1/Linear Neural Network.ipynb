{
 "cells": [
  {
   "cell_type": "code",
   "execution_count": 1,
   "metadata": {
    "collapsed": false
   },
   "outputs": [],
   "source": [
    "%matplotlib inline\n",
    "from __future__ import division, print_function\n",
    "import numpy as np\n",
    "import pandas as pd\n",
    "import numpy.random as random\n",
    "import matplotlib.pyplot as plt"
   ]
  },
  {
   "cell_type": "code",
   "execution_count": 2,
   "metadata": {
    "collapsed": false
   },
   "outputs": [
    {
     "name": "stderr",
     "output_type": "stream",
     "text": [
      "Using Theano backend.\n",
      "WARNING (theano.sandbox.cuda): The cuda backend is deprecated and will be removed in the next release (v0.10).  Please switch to the gpuarray backend. You can get more information about how to switch at this URL:\n",
      " https://github.com/Theano/Theano/wiki/Converting-to-the-new-gpu-back-end%28gpuarray%29\n",
      "\n",
      "Using gpu device 0: Tesla K80 (CNMeM is disabled, cuDNN 5103)\n"
     ]
    },
    {
     "name": "stdout",
     "output_type": "stream",
     "text": [
      "2.0.9\n"
     ]
    }
   ],
   "source": [
    "import keras\n",
    "print(keras.__version__)\n",
    "from keras import backend as K\n",
    "from keras.models import Sequential\n",
    "from keras.layers import Dense, Activation"
   ]
  },
  {
   "cell_type": "code",
   "execution_count": 17,
   "metadata": {
    "collapsed": false
   },
   "outputs": [],
   "source": [
    "a = 5\n",
    "b = 3\n",
    "x = random.random(30) * 5 #random x values [0, 5)\n",
    "y = a*x + b #+ random.uniform()/100.0 # y is linear in x with some noise in [0, 1/100)"
   ]
  },
  {
   "cell_type": "code",
   "execution_count": 18,
   "metadata": {
    "collapsed": false
   },
   "outputs": [
    {
     "name": "stdout",
     "output_type": "stream",
     "text": [
      "[ 1.36938038  0.38204473  3.91504071  2.09942905  2.51723514  3.71122665\n",
      "  0.17180946  3.56825782  3.30540857  1.07545761  4.99722686  3.38878615\n",
      "  4.73316368  4.73523115  0.33814757  1.76255473  3.70490914  4.38163027\n",
      "  3.97005196  1.99266954  3.41968606  3.15806888  0.56576403  2.66791821\n",
      "  0.86894257  1.05884585  3.43557965  0.24584161  4.89542729  0.29544262]\n",
      "[  9.84690189   4.91022365  22.57520356  13.49714524  15.58617572\n",
      "  21.55613326   3.85904729  20.84128909  19.52704285   8.37728807\n",
      "  27.98613429  19.94393073  26.66581838  26.67615573   4.69073785\n",
      "  11.81277364  21.52454572  24.90815136  22.85025982  12.96334768\n",
      "  20.09843029  18.7903444    5.82882013  16.33959103   7.34471285\n",
      "   8.29422926  20.17789827   4.22920807  27.47713645   4.4772131 ]\n"
     ]
    },
    {
     "data": {
      "image/png": "[encoded data removed]",
      "text/plain": [
       "<matplotlib.figure.Figure at 0x7f41d3a67750>"
      ]
     },
     "metadata": {},
     "output_type": "display_data"
    }
   ],
   "source": [
    "plt.plot(x,y, 'bo')\n",
    "print(x)\n",
    "print(y)"
   ]
  },
  {
   "cell_type": "code",
   "execution_count": 22,
   "metadata": {
    "collapsed": false
   },
   "outputs": [
    {
     "name": "stdout",
     "output_type": "stream",
     "text": [
      "_________________________________________________________________\n",
      "Layer (type)                 Output Shape              Param #   \n",
      "=================================================================\n",
      "dense_4 (Dense)              (None, 1)                 2         \n",
      "=================================================================\n",
      "Total params: 2\n",
      "Trainable params: 2\n",
      "Non-trainable params: 0\n",
      "_________________________________________________________________\n"
     ]
    }
   ],
   "source": [
    "linearModel = Sequential()\n",
    "#Dense default parameters: activation=None, use_bias=True, kernel_initializer='glorot_uniform', bias_initializer='zeros'\n",
    "linearModel.add(Dense(1, input_shape=(1,), kernel_initializer='ones')) \n",
    "#Default SGD parameters: keras.optimizers.SGD(lr=0.01, momentum=0.0, decay=0.0, nesterov=False)\n",
    "#SGD converges much much faster than rmsprop when deal with linear neural network\n",
    "linearModel.compile(optimizer='sgd', loss='mse',metrics=['accuracy'])\n",
    "linearModel.summary()"
   ]
  },
  {
   "cell_type": "code",
   "execution_count": 23,
   "metadata": {
    "collapsed": false
   },
   "outputs": [
    {
     "name": "stdout",
     "output_type": "stream",
     "text": [
      "Epoch 1/100\n",
      "30/30 [==============================] - 0s 1ms/step - loss: 22.6453 - acc: 0.0000e+00\n",
      "Epoch 2/100\n",
      "30/30 [==============================] - 0s 991us/step - loss: 0.6261 - acc: 0.0000e+00\n",
      "Epoch 3/100\n",
      "30/30 [==============================] - 0s 1ms/step - loss: 0.4572 - acc: 0.0000e+00\n",
      "Epoch 4/100\n",
      "30/30 [==============================] - 0s 993us/step - loss: 0.3300 - acc: 0.0000e+00\n",
      "Epoch 5/100\n",
      "30/30 [==============================] - 0s 994us/step - loss: 0.2386 - acc: 0.0000e+00\n",
      "Epoch 6/100\n",
      "30/30 [==============================] - 0s 1ms/step - loss: 0.1767 - acc: 0.0000e+00\n",
      "Epoch 7/100\n",
      "30/30 [==============================] - 0s 1ms/step - loss: 0.1284 - acc: 0.0000e+00\n",
      "Epoch 8/100\n",
      "30/30 [==============================] - 0s 1ms/step - loss: 0.0966 - acc: 0.0000e+00\n",
      "Epoch 9/100\n",
      "30/30 [==============================] - 0s 1ms/step - loss: 0.0698 - acc: 0.0000e+00\n",
      "Epoch 10/100\n",
      "30/30 [==============================] - 0s 1ms/step - loss: 0.0500 - acc: 0.0000e+00\n",
      "Epoch 11/100\n",
      "30/30 [==============================] - 0s 1ms/step - loss: 0.0376 - acc: 0.0000e+00\n",
      "Epoch 12/100\n",
      "30/30 [==============================] - 0s 1ms/step - loss: 0.0271 - acc: 0.0000e+00\n",
      "Epoch 13/100\n",
      "30/30 [==============================] - 0s 1ms/step - loss: 0.0196 - acc: 0.0000e+00\n",
      "Epoch 14/100\n",
      "30/30 [==============================] - 0s 996us/step - loss: 0.0145 - acc: 0.0000e+00\n",
      "Epoch 15/100\n",
      "30/30 [==============================] - 0s 1ms/step - loss: 0.0107 - acc: 0.0000e+00\n",
      "Epoch 16/100\n",
      "30/30 [==============================] - 0s 1ms/step - loss: 0.0079 - acc: 0.0000e+00\n",
      "Epoch 17/100\n",
      "30/30 [==============================] - 0s 1ms/step - loss: 0.0056 - acc: 0.0000e+00\n",
      "Epoch 18/100\n",
      "30/30 [==============================] - 0s 1ms/step - loss: 0.0041 - acc: 0.0000e+00\n",
      "Epoch 19/100\n",
      "30/30 [==============================] - 0s 992us/step - loss: 0.0032 - acc: 0.0000e+00\n",
      "Epoch 20/100\n",
      "30/30 [==============================] - 0s 1ms/step - loss: 0.0022 - acc: 0.0000e+00\n",
      "Epoch 21/100\n",
      "30/30 [==============================] - 0s 1ms/step - loss: 0.0016 - acc: 0.0000e+00\n",
      "Epoch 22/100\n",
      "30/30 [==============================] - 0s 1ms/step - loss: 0.0012 - acc: 0.0000e+00\n",
      "Epoch 23/100\n",
      "30/30 [==============================] - 0s 997us/step - loss: 8.7438e-04 - acc: 0.0000e+00\n",
      "Epoch 24/100\n",
      "30/30 [==============================] - 0s 1ms/step - loss: 6.4954e-04 - acc: 0.0000e+00\n",
      "Epoch 25/100\n",
      "30/30 [==============================] - 0s 1ms/step - loss: 4.8345e-04 - acc: 0.0000e+00\n",
      "Epoch 26/100\n",
      "30/30 [==============================] - 0s 1ms/step - loss: 3.5237e-04 - acc: 0.0000e+00\n",
      "Epoch 27/100\n",
      "30/30 [==============================] - 0s 999us/step - loss: 2.5778e-04 - acc: 0.0000e+00\n",
      "Epoch 28/100\n",
      "30/30 [==============================] - 0s 1ms/step - loss: 1.8869e-04 - acc: 0.0000e+00\n",
      "Epoch 29/100\n",
      "30/30 [==============================] - 0s 1ms/step - loss: 1.4061e-04 - acc: 0.0000e+00\n",
      "Epoch 30/100\n",
      "30/30 [==============================] - 0s 997us/step - loss: 1.0354e-04 - acc: 0.0000e+00\n",
      "Epoch 31/100\n",
      "30/30 [==============================] - 0s 1ms/step - loss: 7.4190e-05 - acc: 0.0000e+00\n",
      "Epoch 32/100\n",
      "30/30 [==============================] - 0s 1ms/step - loss: 5.4126e-05 - acc: 0.0000e+00\n",
      "Epoch 33/100\n",
      "30/30 [==============================] - 0s 1ms/step - loss: 4.1185e-05 - acc: 0.0000e+00\n",
      "Epoch 34/100\n",
      "30/30 [==============================] - 0s 1ms/step - loss: 2.9378e-05 - acc: 0.0000e+00\n",
      "Epoch 35/100\n",
      "30/30 [==============================] - 0s 1ms/step - loss: 2.1786e-05 - acc: 0.0000e+00\n",
      "Epoch 36/100\n",
      "30/30 [==============================] - 0s 1ms/step - loss: 1.5864e-05 - acc: 0.0000e+00\n",
      "Epoch 37/100\n",
      "30/30 [==============================] - 0s 1ms/step - loss: 1.1466e-05 - acc: 0.0000e+00\n",
      "Epoch 38/100\n",
      "30/30 [==============================] - 0s 999us/step - loss: 8.2933e-06 - acc: 0.0000e+00\n",
      "Epoch 39/100\n",
      "30/30 [==============================] - 0s 993us/step - loss: 6.0938e-06 - acc: 0.0000e+00\n",
      "Epoch 40/100\n",
      "30/30 [==============================] - 0s 1ms/step - loss: 4.5431e-06 - acc: 0.0000e+00\n",
      "Epoch 41/100\n",
      "30/30 [==============================] - 0s 993us/step - loss: 3.3050e-06 - acc: 0.0000e+00\n",
      "Epoch 42/100\n",
      "30/30 [==============================] - 0s 976us/step - loss: 2.3941e-06 - acc: 0.0000e+00\n",
      "Epoch 43/100\n",
      "30/30 [==============================] - 0s 989us/step - loss: 1.7328e-06 - acc: 0.0000e+00\n",
      "Epoch 44/100\n",
      "30/30 [==============================] - 0s 984us/step - loss: 1.3035e-06 - acc: 0.0000e+00\n",
      "Epoch 45/100\n",
      "30/30 [==============================] - 0s 1000us/step - loss: 9.6731e-07 - acc: 0.0000e+00\n",
      "Epoch 46/100\n",
      "30/30 [==============================] - 0s 988us/step - loss: 6.9059e-07 - acc: 0.0000e+00\n",
      "Epoch 47/100\n",
      "30/30 [==============================] - 0s 997us/step - loss: 5.1727e-07 - acc: 0.0000e+00\n",
      "Epoch 48/100\n",
      "30/30 [==============================] - 0s 998us/step - loss: 3.8043e-07 - acc: 0.0000e+00\n",
      "Epoch 49/100\n",
      "30/30 [==============================] - 0s 1ms/step - loss: 2.6308e-07 - acc: 0.0000e+00\n",
      "Epoch 50/100\n",
      "30/30 [==============================] - 0s 991us/step - loss: 2.0683e-07 - acc: 0.0000e+00\n",
      "Epoch 51/100\n",
      "30/30 [==============================] - 0s 983us/step - loss: 1.4955e-07 - acc: 0.0000e+00\n",
      "Epoch 52/100\n",
      "30/30 [==============================] - 0s 1ms/step - loss: 1.1237e-07 - acc: 0.0000e+00\n",
      "Epoch 53/100\n",
      "30/30 [==============================] - 0s 996us/step - loss: 7.9759e-08 - acc: 0.0000e+00\n",
      "Epoch 54/100\n",
      "30/30 [==============================] - 0s 984us/step - loss: 5.8612e-08 - acc: 0.0000e+00\n",
      "Epoch 55/100\n",
      "30/30 [==============================] - 0s 988us/step - loss: 4.2874e-08 - acc: 0.0000e+00\n",
      "Epoch 56/100\n",
      "30/30 [==============================] - 0s 997us/step - loss: 3.2297e-08 - acc: 0.0000e+00\n",
      "Epoch 57/100\n",
      "30/30 [==============================] - 0s 994us/step - loss: 2.3022e-08 - acc: 0.0000e+00\n",
      "Epoch 58/100\n",
      "30/30 [==============================] - 0s 975us/step - loss: 1.7662e-08 - acc: 0.0000e+00\n",
      "Epoch 59/100\n",
      "30/30 [==============================] - 0s 1ms/step - loss: 1.2812e-08 - acc: 0.0000e+00\n",
      "Epoch 60/100\n",
      "30/30 [==============================] - 0s 985us/step - loss: 9.3987e-09 - acc: 0.0000e+00\n",
      "Epoch 61/100\n",
      "30/30 [==============================] - 0s 994us/step - loss: 7.1807e-09 - acc: 0.0000e+00\n",
      "Epoch 62/100\n",
      "30/30 [==============================] - 0s 988us/step - loss: 5.1578e-09 - acc: 0.0000e+00\n",
      "Epoch 63/100\n",
      "30/30 [==============================] - 0s 982us/step - loss: 3.8047e-09 - acc: 0.0000e+00\n",
      "Epoch 64/100\n",
      "30/30 [==============================] - 0s 992us/step - loss: 2.7705e-09 - acc: 0.0000e+00\n",
      "Epoch 65/100\n",
      "30/30 [==============================] - 0s 983us/step - loss: 1.9605e-09 - acc: 0.0000e+00\n",
      "Epoch 66/100\n",
      "30/30 [==============================] - 0s 987us/step - loss: 1.4992e-09 - acc: 0.0000e+00\n",
      "Epoch 67/100\n",
      "30/30 [==============================] - 0s 990us/step - loss: 1.1029e-09 - acc: 0.0000e+00\n",
      "Epoch 68/100\n",
      "30/30 [==============================] - 0s 1ms/step - loss: 7.7880e-10 - acc: 0.0000e+00\n",
      "Epoch 69/100\n",
      "30/30 [==============================] - 0s 997us/step - loss: 5.8050e-10 - acc: 0.0000e+00\n",
      "Epoch 70/100\n",
      "30/30 [==============================] - 0s 988us/step - loss: 4.1575e-10 - acc: 0.0000e+00\n",
      "Epoch 71/100\n",
      "30/30 [==============================] - 0s 994us/step - loss: 3.0638e-10 - acc: 0.0000e+00\n",
      "Epoch 72/100\n",
      "30/30 [==============================] - 0s 1ms/step - loss: 2.0899e-10 - acc: 0.0000e+00\n",
      "Epoch 73/100\n",
      "30/30 [==============================] - 0s 993us/step - loss: 1.5631e-10 - acc: 0.0000e+00\n",
      "Epoch 74/100\n",
      "30/30 [==============================] - 0s 987us/step - loss: 1.0907e-10 - acc: 0.0000e+00\n",
      "Epoch 75/100\n",
      "30/30 [==============================] - 0s 1ms/step - loss: 8.3577e-11 - acc: 0.0000e+00\n",
      "Epoch 76/100\n",
      "30/30 [==============================] - 0s 999us/step - loss: 5.8928e-11 - acc: 0.0000e+00\n",
      "Epoch 77/100\n",
      "30/30 [==============================] - 0s 996us/step - loss: 3.8729e-11 - acc: 0.0000e+00\n",
      "Epoch 78/100\n",
      "30/30 [==============================] - 0s 989us/step - loss: 2.3495e-11 - acc: 0.0000e+00\n",
      "Epoch 79/100\n",
      "30/30 [==============================] - 0s 1ms/step - loss: 1.5168e-11 - acc: 0.0000e+00\n",
      "Epoch 80/100\n",
      "30/30 [==============================] - 0s 998us/step - loss: 1.2991e-11 - acc: 0.0000e+00\n",
      "Epoch 81/100\n",
      "30/30 [==============================] - 0s 991us/step - loss: 1.2379e-11 - acc: 0.0000e+00\n",
      "Epoch 82/100\n",
      "30/30 [==============================] - 0s 1ms/step - loss: 1.2379e-11 - acc: 0.0000e+00\n",
      "Epoch 83/100\n",
      "30/30 [==============================] - 0s 1ms/step - loss: 1.2379e-11 - acc: 0.0000e+00\n",
      "Epoch 84/100\n",
      "30/30 [==============================] - 0s 1ms/step - loss: 1.2379e-11 - acc: 0.0000e+00\n",
      "Epoch 85/100\n",
      "30/30 [==============================] - 0s 971us/step - loss: 1.2379e-11 - acc: 0.0000e+00\n",
      "Epoch 86/100\n",
      "30/30 [==============================] - 0s 994us/step - loss: 1.2379e-11 - acc: 0.0000e+00\n",
      "Epoch 87/100\n",
      "30/30 [==============================] - 0s 998us/step - loss: 1.2379e-11 - acc: 0.0000e+00\n",
      "Epoch 88/100\n",
      "30/30 [==============================] - 0s 989us/step - loss: 1.2379e-11 - acc: 0.0000e+00\n",
      "Epoch 89/100\n",
      "30/30 [==============================] - 0s 987us/step - loss: 1.2379e-11 - acc: 0.0000e+00\n",
      "Epoch 90/100\n",
      "30/30 [==============================] - 0s 988us/step - loss: 1.2379e-11 - acc: 0.0000e+00\n",
      "Epoch 91/100\n",
      "30/30 [==============================] - 0s 981us/step - loss: 1.2379e-11 - acc: 0.0000e+00\n",
      "Epoch 92/100\n",
      "30/30 [==============================] - 0s 994us/step - loss: 1.2379e-11 - acc: 0.0000e+00\n",
      "Epoch 93/100\n",
      "30/30 [==============================] - 0s 1000us/step - loss: 1.2379e-11 - acc: 0.0000e+00\n",
      "Epoch 94/100\n",
      "30/30 [==============================] - 0s 991us/step - loss: 1.2379e-11 - acc: 0.0000e+00\n",
      "Epoch 95/100\n",
      "30/30 [==============================] - 0s 997us/step - loss: 1.2379e-11 - acc: 0.0000e+00\n",
      "Epoch 96/100\n",
      "30/30 [==============================] - 0s 986us/step - loss: 1.2379e-11 - acc: 0.0000e+00\n",
      "Epoch 97/100\n",
      "30/30 [==============================] - 0s 972us/step - loss: 1.2379e-11 - acc: 0.0000e+00\n",
      "Epoch 98/100\n",
      "30/30 [==============================] - 0s 983us/step - loss: 1.2379e-11 - acc: 0.0000e+00\n",
      "Epoch 99/100\n",
      "30/30 [==============================] - 0s 992us/step - loss: 1.2379e-11 - acc: 0.0000e+00\n",
      "Epoch 100/100\n",
      "30/30 [==============================] - 0s 983us/step - loss: 1.2379e-11 - acc: 0.0000e+00\n"
     ]
    },
    {
     "data": {
      "text/plain": [
       "<keras.callbacks.History at 0x7f41d28f3250>"
      ]
     },
     "execution_count": 23,
     "metadata": {},
     "output_type": "execute_result"
    }
   ],
   "source": [
    "linearModel.fit(x,y, batch_size=1, epochs=100) #Default: shuffle=True"
   ]
  },
  {
   "cell_type": "code",
   "execution_count": 13,
   "metadata": {
    "collapsed": false
   },
   "outputs": [
    {
     "name": "stdout",
     "output_type": "stream",
     "text": [
      "\r",
      "1/1 [==============================] - 0s 1ms/step\n"
     ]
    },
    {
     "data": {
      "text/plain": [
       "[3.637978807091713e-12, 0.0]"
      ]
     },
     "execution_count": 13,
     "metadata": {},
     "output_type": "execute_result"
    }
   ],
   "source": [
    "linearModel.evaluate(x,y)"
   ]
  },
  {
   "cell_type": "code",
   "execution_count": 21,
   "metadata": {
    "collapsed": false
   },
   "outputs": [
    {
     "data": {
      "text/plain": [
       "[array([[ 5.00000143]], dtype=float32), array([ 2.9999938], dtype=float32)]"
      ]
     },
     "execution_count": 21,
     "metadata": {},
     "output_type": "execute_result"
    }
   ],
   "source": [
    "linearModel.get_weights()"
   ]
  },
  {
   "cell_type": "code",
   "execution_count": 114,
   "metadata": {
    "collapsed": false
   },
   "outputs": [
    {
     "name": "stdout",
     "output_type": "stream",
     "text": [
      "t = [18  5 14  9 10  0 17 14]\n"
     ]
    },
    {
     "data": {
      "text/plain": [
       "array([[ 93.00907898],\n",
       "       [ 28.00906754],\n",
       "       [ 73.00907898],\n",
       "       [ 48.00907135],\n",
       "       [ 53.00907516],\n",
       "       [  3.00905991],\n",
       "       [ 88.00907898],\n",
       "       [ 73.00907898]], dtype=float32)"
      ]
     },
     "execution_count": 114,
     "metadata": {},
     "output_type": "execute_result"
    }
   ],
   "source": [
    "t = random.randint(0,20,8)\n",
    "print('t = %s'%t)\n",
    "linearModel.predict(t)"
   ]
  },
  {
   "cell_type": "code",
   "execution_count": 132,
   "metadata": {
    "collapsed": false
   },
   "outputs": [
    {
     "data": {
      "text/plain": [
       "{'_flattened_layers': [<keras.layers.core.Dense at 0x7f3fdc7dbe10>],\n",
       " '_output_mask_cache': {'139912258949456_139913702890320': None},\n",
       " '_output_shape_cache': {},\n",
       " '_output_tensor_cache': {},\n",
       " 'built': True,\n",
       " 'container_nodes': {'dense_13_ib-0', 'dense_input_13_ib-0'},\n",
       " 'inbound_nodes': [<keras.engine.topology.Node at 0x7f3fdc7e9b50>],\n",
       " 'input_layers': [<keras.engine.topology.InputLayer at 0x7f3fdc7e90d0>],\n",
       " 'input_layers_node_indices': [0],\n",
       " 'input_layers_tensor_indices': [0],\n",
       " 'input_names': ['dense_input_13'],\n",
       " 'inputs': [dense_input_13],\n",
       " 'layers': [<keras.layers.core.Dense at 0x7f3fdc7dbe10>],\n",
       " 'loss': 'mse',\n",
       " 'loss_weights': None,\n",
       " 'metrics': ['accuracy'],\n",
       " 'metrics_names': ['loss', 'acc'],\n",
       " 'metrics_tensors': [mean],\n",
       " 'model': <keras.engine.training.Model at 0x7f3fdc7dbfd0>,\n",
       " 'name': 'sequential_15',\n",
       " 'nodes_by_depth': {0: [<keras.engine.topology.Node at 0x7f3fdc7e9a90>],\n",
       "  1: [<keras.engine.topology.Node at 0x7f3fdc7e9290>]},\n",
       " 'optimizer': <keras.optimizers.SGD at 0x7f3fdc782bd0>,\n",
       " 'outbound_nodes': [],\n",
       " 'output_layers': [<keras.layers.core.Dense at 0x7f3fdc7dbe10>],\n",
       " 'output_layers_node_indices': [0],\n",
       " 'output_layers_tensor_indices': [0],\n",
       " 'output_names': ['dense_13'],\n",
       " 'outputs': [Elemwise{add,no_inplace}.0],\n",
       " 'sample_weight_mode': None,\n",
       " 'stop_training': False,\n",
       " 'supports_masking': False,\n",
       " 'trainable': True}"
      ]
     },
     "execution_count": 132,
     "metadata": {},
     "output_type": "execute_result"
    }
   ],
   "source": [
    "linearModel.__dict__\n",
    "dir(linearModel)"
   ]
  },
  {
   "cell_type": "code",
   "execution_count": 201,
   "metadata": {
    "collapsed": false
   },
   "outputs": [
    {
     "name": "stdout",
     "output_type": "stream",
     "text": [
      "1.1.0\n"
     ]
    }
   ],
   "source": [
    "import keras\n",
    "print(keras.__version__)"
   ]
  },
  {
   "cell_type": "code",
   "execution_count": 150,
   "metadata": {
    "collapsed": false
   },
   "outputs": [
    {
     "data": {
      "text/plain": [
       "'<keras.models.Sequential object at 0x7f3fdc7dbd90>'"
      ]
     },
     "execution_count": 150,
     "metadata": {},
     "output_type": "execute_result"
    }
   ],
   "source": [
    "repr(linearModel)"
   ]
  },
  {
   "cell_type": "code",
   "execution_count": 191,
   "metadata": {
    "collapsed": false
   },
   "outputs": [
    {
     "data": {
      "text/plain": [
       "2"
      ]
     },
     "execution_count": 191,
     "metadata": {},
     "output_type": "execute_result"
    }
   ],
   "source": [
    "import inspect\n",
    "len(inspect.getsourcelines(Sequential))"
   ]
  },
  {
   "cell_type": "code",
   "execution_count": null,
   "metadata": {
    "collapsed": true
   },
   "outputs": [],
   "source": []
  }
 ],
 "metadata": {
  "anaconda-cloud": {},
  "kernelspec": {
   "display_name": "Python [conda root]",
   "language": "python",
   "name": "conda-root-py"
  },
  "language_info": {
   "codemirror_mode": {
    "name": "ipython",
    "version": 2
   },
   "file_extension": ".py",
   "mimetype": "text/x-python",
   "name": "python",
   "nbconvert_exporter": "python",
   "pygments_lexer": "ipython2",
   "version": "2.7.12"
  }
 },
 "nbformat": 4,
 "nbformat_minor": 1
}
