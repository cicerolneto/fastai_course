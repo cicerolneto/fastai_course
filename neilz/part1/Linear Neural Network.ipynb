{
 "cells": [
  {
   "cell_type": "code",
   "execution_count": 1,
   "metadata": {
    "collapsed": false
   },
   "outputs": [],
   "source": [
    "%matplotlib inline\n",
    "from __future__ import division, print_function\n",
    "import numpy as np\n",
    "import pandas as pd\n",
    "import numpy.random as random\n",
    "import matplotlib.pyplot as plt"
   ]
  },
  {
   "cell_type": "code",
   "execution_count": 2,
   "metadata": {
    "collapsed": false
   },
   "outputs": [
    {
     "name": "stderr",
     "output_type": "stream",
     "text": [
      "Using Theano backend.\n",
      "WARNING (theano.sandbox.cuda): The cuda backend is deprecated and will be removed in the next release (v0.10).  Please switch to the gpuarray backend. You can get more information about how to switch at this URL:\n",
      " https://github.com/Theano/Theano/wiki/Converting-to-the-new-gpu-back-end%28gpuarray%29\n",
      "\n",
      "Using gpu device 0: Tesla K80 (CNMeM is disabled, cuDNN 5103)\n"
     ]
    },
    {
     "name": "stdout",
     "output_type": "stream",
     "text": [
      "2.0.9\n"
     ]
    }
   ],
   "source": [
    "import keras\n",
    "print(keras.__version__)\n",
    "from keras import backend as K\n",
    "from keras.models import Sequential\n",
    "from keras.layers import Dense, Activation"
   ]
  },
  {
   "cell_type": "code",
   "execution_count": 3,
   "metadata": {
    "collapsed": false
   },
   "outputs": [],
   "source": [
    "a = 5\n",
    "b = 3\n",
    "x = random.random(30) * 5 #random x values [0, 5)\n",
    "y = a*x + b #+ random.uniform()/100.0 # y is linear in x with some noise in [0, 1/100)"
   ]
  },
  {
   "cell_type": "code",
   "execution_count": 4,
   "metadata": {
    "collapsed": false
   },
   "outputs": [
    {
     "name": "stdout",
     "output_type": "stream",
     "text": [
      "[ 4.92008636  2.4686718   3.97162232  3.71500808  4.06626262  2.40085569\n",
      "  2.64287343  2.70484245  2.68703147  4.22473378  1.82119886  0.98761114\n",
      "  2.99143637  3.05834445  0.89625472  1.8034209   3.5142698   0.4309301\n",
      "  4.70485786  3.91647021  1.65096001  3.331138    4.32511218  2.49344136\n",
      "  3.77773945  4.3379465   4.02368549  4.15887968  2.92446249  1.21655446]\n",
      "[ 27.6004318   15.343359    22.85811159  21.57504039  23.33131312\n",
      "  15.00427844  16.21436715  16.52421223  16.43515737  24.12366889\n",
      "  12.10599429   7.93805571  17.95718186  18.29172225   7.4812736\n",
      "  12.01710448  20.57134898   5.15465048  26.52428929  22.58235107\n",
      "  11.25480007  19.65569     24.62556089  15.46720678  21.88869727\n",
      "  24.68973252  23.11842745  23.79439839  17.62231243   9.08277231]\n"
     ]
    },
    {
     "data": {
      "image/png": "[encoded data removed]",
      "text/plain": [
       "<matplotlib.figure.Figure at 0x7f578b23d410>"
      ]
     },
     "metadata": {},
     "output_type": "display_data"
    }
   ],
   "source": [
    "plt.plot(x,y, 'bo')\n",
    "print(x)\n",
    "print(y)"
   ]
  },
  {
   "cell_type": "code",
   "execution_count": 35,
   "metadata": {
    "collapsed": false
   },
   "outputs": [
    {
     "name": "stdout",
     "output_type": "stream",
     "text": [
      "_________________________________________________________________\n",
      "Layer (type)                 Output Shape              Param #   \n",
      "=================================================================\n",
      "dense_10 (Dense)             (None, 1)                 2         \n",
      "=================================================================\n",
      "Total params: 2\n",
      "Trainable params: 2\n",
      "Non-trainable params: 0\n",
      "_________________________________________________________________\n"
     ]
    }
   ],
   "source": [
    "linearModel = Sequential()\n",
    "#Dense default parameters: activation=None, use_bias=True, kernel_initializer='glorot_uniform', bias_initializer='zeros'\n",
    "linearModel.add(Dense(1, input_shape=(1,), kernel_initializer='ones')) \n",
    "#Default SGD parameters: keras.optimizers.SGD(lr=0.01, momentum=0.0, decay=0.0, nesterov=False)\n",
    "#SGD converges much much faster than rmsprop when deal with linear neural network\n",
    "linearModel.compile(optimizer='sgd', loss='mse',metrics=['accuracy'])\n",
    "linearModel.summary()"
   ]
  },
  {
   "cell_type": "code",
   "execution_count": 36,
   "metadata": {
    "collapsed": false
   },
   "outputs": [
    {
     "name": "stdout",
     "output_type": "stream",
     "text": [
      "Epoch 1/10\n",
      "30/30 [==============================] - 0s 920us/step - loss: 23.2101 - acc: 0.0000e+00\n",
      "Epoch 2/10\n",
      "30/30 [==============================] - 0s 917us/step - loss: 0.4081 - acc: 0.0000e+00\n",
      "Epoch 3/10\n",
      "30/30 [==============================] - 0s 919us/step - loss: 0.3510 - acc: 0.0000e+00\n",
      "Epoch 4/10\n",
      "30/30 [==============================] - 0s 911us/step - loss: 0.3017 - acc: 0.0000e+00\n",
      "Epoch 5/10\n",
      "30/30 [==============================] - 0s 901us/step - loss: 0.2593 - acc: 0.0000e+00\n",
      "Epoch 6/10\n",
      "30/30 [==============================] - 0s 901us/step - loss: 0.2229 - acc: 0.0000e+00\n",
      "Epoch 7/10\n",
      "30/30 [==============================] - 0s 906us/step - loss: 0.1916 - acc: 0.0000e+00\n",
      "Epoch 8/10\n",
      "30/30 [==============================] - 0s 909us/step - loss: 0.1647 - acc: 0.0000e+00\n",
      "Epoch 9/10\n",
      "30/30 [==============================] - 0s 932us/step - loss: 0.1416 - acc: 0.0000e+00\n",
      "Epoch 10/10\n",
      "30/30 [==============================] - 0s 921us/step - loss: 0.1217 - acc: 0.0000e+00\n"
     ]
    },
    {
     "data": {
      "text/plain": [
       "<keras.callbacks.History at 0x7f577fc8e750>"
      ]
     },
     "execution_count": 36,
     "metadata": {},
     "output_type": "execute_result"
    }
   ],
   "source": [
    "linearModel.fit(x,y, batch_size=1, epochs=10, shuffle=False) #Default: shuffle=True"
   ]
  },
  {
   "cell_type": "code",
   "execution_count": 13,
   "metadata": {
    "collapsed": false
   },
   "outputs": [
    {
     "name": "stdout",
     "output_type": "stream",
     "text": [
      "\r",
      "1/1 [==============================] - 0s 1ms/step\n"
     ]
    },
    {
     "data": {
      "text/plain": [
       "[3.637978807091713e-12, 0.0]"
      ]
     },
     "execution_count": 13,
     "metadata": {},
     "output_type": "execute_result"
    }
   ],
   "source": [
    "linearModel.evaluate(x,y)"
   ]
  },
  {
   "cell_type": "code",
   "execution_count": 37,
   "metadata": {
    "collapsed": false
   },
   "outputs": [
    {
     "data": {
      "text/plain": [
       "[array([[ 5.25220108]], dtype=float32), array([ 2.12495971], dtype=float32)]"
      ]
     },
     "execution_count": 37,
     "metadata": {},
     "output_type": "execute_result"
    }
   ],
   "source": [
    "linearModel.get_weights()"
   ]
  },
  {
   "cell_type": "code",
   "execution_count": 114,
   "metadata": {
    "collapsed": false
   },
   "outputs": [
    {
     "name": "stdout",
     "output_type": "stream",
     "text": [
      "t = [18  5 14  9 10  0 17 14]\n"
     ]
    },
    {
     "data": {
      "text/plain": [
       "array([[ 93.00907898],\n",
       "       [ 28.00906754],\n",
       "       [ 73.00907898],\n",
       "       [ 48.00907135],\n",
       "       [ 53.00907516],\n",
       "       [  3.00905991],\n",
       "       [ 88.00907898],\n",
       "       [ 73.00907898]], dtype=float32)"
      ]
     },
     "execution_count": 114,
     "metadata": {},
     "output_type": "execute_result"
    }
   ],
   "source": [
    "t = random.randint(0,20,8)\n",
    "print('t = %s'%t)\n",
    "linearModel.predict(t)"
   ]
  },
  {
   "cell_type": "code",
   "execution_count": 132,
   "metadata": {
    "collapsed": false
   },
   "outputs": [
    {
     "data": {
      "text/plain": [
       "{'_flattened_layers': [<keras.layers.core.Dense at 0x7f3fdc7dbe10>],\n",
       " '_output_mask_cache': {'139912258949456_139913702890320': None},\n",
       " '_output_shape_cache': {},\n",
       " '_output_tensor_cache': {},\n",
       " 'built': True,\n",
       " 'container_nodes': {'dense_13_ib-0', 'dense_input_13_ib-0'},\n",
       " 'inbound_nodes': [<keras.engine.topology.Node at 0x7f3fdc7e9b50>],\n",
       " 'input_layers': [<keras.engine.topology.InputLayer at 0x7f3fdc7e90d0>],\n",
       " 'input_layers_node_indices': [0],\n",
       " 'input_layers_tensor_indices': [0],\n",
       " 'input_names': ['dense_input_13'],\n",
       " 'inputs': [dense_input_13],\n",
       " 'layers': [<keras.layers.core.Dense at 0x7f3fdc7dbe10>],\n",
       " 'loss': 'mse',\n",
       " 'loss_weights': None,\n",
       " 'metrics': ['accuracy'],\n",
       " 'metrics_names': ['loss', 'acc'],\n",
       " 'metrics_tensors': [mean],\n",
       " 'model': <keras.engine.training.Model at 0x7f3fdc7dbfd0>,\n",
       " 'name': 'sequential_15',\n",
       " 'nodes_by_depth': {0: [<keras.engine.topology.Node at 0x7f3fdc7e9a90>],\n",
       "  1: [<keras.engine.topology.Node at 0x7f3fdc7e9290>]},\n",
       " 'optimizer': <keras.optimizers.SGD at 0x7f3fdc782bd0>,\n",
       " 'outbound_nodes': [],\n",
       " 'output_layers': [<keras.layers.core.Dense at 0x7f3fdc7dbe10>],\n",
       " 'output_layers_node_indices': [0],\n",
       " 'output_layers_tensor_indices': [0],\n",
       " 'output_names': ['dense_13'],\n",
       " 'outputs': [Elemwise{add,no_inplace}.0],\n",
       " 'sample_weight_mode': None,\n",
       " 'stop_training': False,\n",
       " 'supports_masking': False,\n",
       " 'trainable': True}"
      ]
     },
     "execution_count": 132,
     "metadata": {},
     "output_type": "execute_result"
    }
   ],
   "source": [
    "linearModel.__dict__\n",
    "dir(linearModel)"
   ]
  },
  {
   "cell_type": "code",
   "execution_count": 201,
   "metadata": {
    "collapsed": false
   },
   "outputs": [
    {
     "name": "stdout",
     "output_type": "stream",
     "text": [
      "1.1.0\n"
     ]
    }
   ],
   "source": [
    "import keras\n",
    "print(keras.__version__)"
   ]
  },
  {
   "cell_type": "code",
   "execution_count": 150,
   "metadata": {
    "collapsed": false
   },
   "outputs": [
    {
     "data": {
      "text/plain": [
       "'<keras.models.Sequential object at 0x7f3fdc7dbd90>'"
      ]
     },
     "execution_count": 150,
     "metadata": {},
     "output_type": "execute_result"
    }
   ],
   "source": [
    "repr(linearModel)"
   ]
  },
  {
   "cell_type": "code",
   "execution_count": 191,
   "metadata": {
    "collapsed": false
   },
   "outputs": [
    {
     "data": {
      "text/plain": [
       "2"
      ]
     },
     "execution_count": 191,
     "metadata": {},
     "output_type": "execute_result"
    }
   ],
   "source": [
    "import inspect\n",
    "len(inspect.getsourcelines(Sequential))"
   ]
  }
 ],
 "metadata": {
  "anaconda-cloud": {},
  "kernelspec": {
   "display_name": "Python [conda root]",
   "language": "python",
   "name": "conda-root-py"
  },
  "language_info": {
   "codemirror_mode": {
    "name": "ipython",
    "version": 2
   },
   "file_extension": ".py",
   "mimetype": "text/x-python",
   "name": "python",
   "nbconvert_exporter": "python",
   "pygments_lexer": "ipython2",
   "version": "2.7.12"
  }
 },
 "nbformat": 4,
 "nbformat_minor": 1
}
