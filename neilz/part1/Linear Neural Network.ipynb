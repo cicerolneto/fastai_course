{
 "cells": [
  {
   "cell_type": "code",
   "execution_count": 1,
   "metadata": {
    "collapsed": false
   },
   "outputs": [],
   "source": [
    "%matplotlib inline\n",
    "from __future__ import division, print_function\n",
    "import numpy as np\n",
    "import pandas as pd\n",
    "import numpy.random as random\n",
    "import matplotlib.pyplot as plt"
   ]
  },
  {
   "cell_type": "code",
   "execution_count": 2,
   "metadata": {
    "collapsed": false
   },
   "outputs": [
    {
     "name": "stderr",
     "output_type": "stream",
     "text": [
      "Using Theano backend.\n",
      "WARNING (theano.sandbox.cuda): The cuda backend is deprecated and will be removed in the next release (v0.10).  Please switch to the gpuarray backend. You can get more information about how to switch at this URL:\n",
      " https://github.com/Theano/Theano/wiki/Converting-to-the-new-gpu-back-end%28gpuarray%29\n",
      "\n",
      "Using gpu device 0: Tesla K80 (CNMeM is disabled, cuDNN 5103)\n"
     ]
    },
    {
     "name": "stdout",
     "output_type": "stream",
     "text": [
      "2.1.1\n"
     ]
    }
   ],
   "source": [
    "import keras\n",
    "print(keras.__version__)\n",
    "from keras import backend as K\n",
    "from keras.models import Sequential\n",
    "from keras.layers import Dense, Activation"
   ]
  },
  {
   "cell_type": "code",
   "execution_count": 3,
   "metadata": {
    "collapsed": false
   },
   "outputs": [],
   "source": [
    "a = 5\n",
    "b = 3\n",
    "x = random.random(30) * 5 #random x values [0, 5)\n",
    "y = a*x + b #+ random.uniform()/100.0 # y is linear in x with some noise in [0, 1/100)"
   ]
  },
  {
   "cell_type": "code",
   "execution_count": 4,
   "metadata": {
    "collapsed": false
   },
   "outputs": [
    {
     "name": "stdout",
     "output_type": "stream",
     "text": [
      "[ 3.87584396  4.10705968  3.56618621  0.02865584  0.13606919  1.988565\n",
      "  1.39077516  2.88520323  4.58949589  2.26516593  3.16453913  0.5915769\n",
      "  2.85724576  3.49082681  2.44241109  4.31302762  4.34756142  3.99191654\n",
      "  1.9217016   2.98569093  2.11894703  0.90011158  1.3571682   0.85239028\n",
      "  1.6687187   2.71546058  4.50895729  3.91536482  0.39662108  0.31225721]\n",
      "[ 22.37921978  23.53529841  20.83093106   3.14327921   3.68034596\n",
      "  12.94282502   9.95387581  17.42601613  25.94747946  14.32582967\n",
      "  18.82269563   5.95788448  17.28622878  20.45413403  15.21205545\n",
      "  24.56513809  24.7378071   22.95958268  12.60850801  17.92845464\n",
      "  13.59473516   7.50055789   9.78584101   7.2619514   11.34359351\n",
      "  16.57730289  25.54478643  22.57682409   4.98310542   4.56128604]\n"
     ]
    },
    {
     "data": {
      "image/png": "[encoded data removed]",
      "text/plain": [
       "<matplotlib.figure.Figure at 0x7f20d83713d0>"
      ]
     },
     "metadata": {},
     "output_type": "display_data"
    }
   ],
   "source": [
    "plt.plot(x,y, 'bo')\n",
    "print(x)\n",
    "print(y)"
   ]
  },
  {
   "cell_type": "code",
   "execution_count": 5,
   "metadata": {
    "collapsed": false
   },
   "outputs": [
    {
     "name": "stdout",
     "output_type": "stream",
     "text": [
      "_________________________________________________________________\n",
      "Layer (type)                 Output Shape              Param #   \n",
      "=================================================================\n",
      "dense_1 (Dense)              (None, 1)                 2         \n",
      "=================================================================\n",
      "Total params: 2\n",
      "Trainable params: 2\n",
      "Non-trainable params: 0\n",
      "_________________________________________________________________\n"
     ]
    }
   ],
   "source": [
    "linearModel = Sequential()\n",
    "#Dense default parameters: activation=None, use_bias=True, kernel_initializer='glorot_uniform', bias_initializer='zeros'\n",
    "linearModel.add(Dense(1, input_shape=(1,), kernel_initializer='ones')) \n",
    "#Default SGD parameters: keras.optimizers.SGD(lr=0.01, momentum=0.0, decay=0.0, nesterov=False)\n",
    "#SGD converges much much faster than rmsprop when deal with linear neural network\n",
    "linearModel.compile(optimizer='sgd', loss='mse',metrics=['accuracy'])\n",
    "linearModel.summary()"
   ]
  },
  {
   "cell_type": "code",
   "execution_count": 12,
   "metadata": {
    "collapsed": false
   },
   "outputs": [
    {
     "name": "stdout",
     "output_type": "stream",
     "text": [
      "Epoch 1/30\n",
      "30/30 [==============================] - 0s 935us/step - loss: 7.0638e-06 - acc: 0.0000e+00\n",
      "Epoch 2/30\n",
      "30/30 [==============================] - 0s 921us/step - loss: 5.3415e-06 - acc: 0.0000e+00\n",
      "Epoch 3/30\n",
      "30/30 [==============================] - 0s 914us/step - loss: 4.0360e-06 - acc: 0.0000e+00\n",
      "Epoch 4/30\n",
      "30/30 [==============================] - 0s 916us/step - loss: 3.0508e-06 - acc: 0.0000e+00\n",
      "Epoch 5/30\n",
      "30/30 [==============================] - 0s 912us/step - loss: 2.3055e-06 - acc: 0.0000e+00\n",
      "Epoch 6/30\n",
      "30/30 [==============================] - 0s 914us/step - loss: 1.7423e-06 - acc: 0.0000e+00\n",
      "Epoch 7/30\n",
      "30/30 [==============================] - 0s 911us/step - loss: 1.3167e-06 - acc: 0.0000e+00\n",
      "Epoch 8/30\n",
      "30/30 [==============================] - 0s 915us/step - loss: 9.9522e-07 - acc: 0.0000e+00\n",
      "Epoch 9/30\n",
      "30/30 [==============================] - 0s 918us/step - loss: 7.5238e-07 - acc: 0.0000e+00\n",
      "Epoch 10/30\n",
      "30/30 [==============================] - 0s 939us/step - loss: 5.6834e-07 - acc: 0.0000e+00\n",
      "Epoch 11/30\n",
      "30/30 [==============================] - 0s 959us/step - loss: 4.2923e-07 - acc: 0.0000e+00\n",
      "Epoch 12/30\n",
      "30/30 [==============================] - 0s 940us/step - loss: 3.2419e-07 - acc: 0.0000e+00\n",
      "Epoch 13/30\n",
      "30/30 [==============================] - 0s 975us/step - loss: 2.4498e-07 - acc: 0.0000e+00\n",
      "Epoch 14/30\n",
      "30/30 [==============================] - 0s 951us/step - loss: 1.8513e-07 - acc: 0.0000e+00\n",
      "Epoch 15/30\n",
      "30/30 [==============================] - 0s 948us/step - loss: 1.3977e-07 - acc: 0.0000e+00\n",
      "Epoch 16/30\n",
      "30/30 [==============================] - 0s 958us/step - loss: 1.0565e-07 - acc: 0.0000e+00\n",
      "Epoch 17/30\n",
      "30/30 [==============================] - 0s 943us/step - loss: 7.9919e-08 - acc: 0.0000e+00\n",
      "Epoch 18/30\n",
      "30/30 [==============================] - 0s 967us/step - loss: 6.0507e-08 - acc: 0.0000e+00\n",
      "Epoch 19/30\n",
      "30/30 [==============================] - 0s 947us/step - loss: 4.5682e-08 - acc: 0.0000e+00\n",
      "Epoch 20/30\n",
      "30/30 [==============================] - 0s 930us/step - loss: 3.4582e-08 - acc: 0.0000e+00\n",
      "Epoch 21/30\n",
      "30/30 [==============================] - 0s 940us/step - loss: 2.6094e-08 - acc: 0.0000e+00\n",
      "Epoch 22/30\n",
      "30/30 [==============================] - 0s 942us/step - loss: 1.9680e-08 - acc: 0.0000e+00\n",
      "Epoch 23/30\n",
      "30/30 [==============================] - 0s 949us/step - loss: 1.4882e-08 - acc: 0.0000e+00\n",
      "Epoch 24/30\n",
      "30/30 [==============================] - 0s 929us/step - loss: 1.1234e-08 - acc: 0.0000e+00\n",
      "Epoch 25/30\n",
      "30/30 [==============================] - 0s 947us/step - loss: 8.4082e-09 - acc: 0.0000e+00\n",
      "Epoch 26/30\n",
      "30/30 [==============================] - 0s 953us/step - loss: 6.3386e-09 - acc: 0.0000e+00\n",
      "Epoch 27/30\n",
      "30/30 [==============================] - 0s 953us/step - loss: 4.7833e-09 - acc: 0.0000e+00\n",
      "Epoch 28/30\n",
      "30/30 [==============================] - 0s 948us/step - loss: 3.6193e-09 - acc: 0.0000e+00\n",
      "Epoch 29/30\n",
      "30/30 [==============================] - 0s 953us/step - loss: 2.7013e-09 - acc: 0.0000e+00\n",
      "Epoch 30/30\n",
      "30/30 [==============================] - 0s 925us/step - loss: 2.0543e-09 - acc: 0.0000e+00\n"
     ]
    },
    {
     "data": {
      "text/plain": [
       "<keras.callbacks.History at 0x7f20c6d24290>"
      ]
     },
     "execution_count": 12,
     "metadata": {},
     "output_type": "execute_result"
    }
   ],
   "source": [
    "linearModel.fit(x,y, batch_size=1, epochs=30, shuffle=False) #Default: shuffle=True"
   ]
  },
  {
   "cell_type": "code",
   "execution_count": 13,
   "metadata": {
    "collapsed": false
   },
   "outputs": [
    {
     "name": "stdout",
     "output_type": "stream",
     "text": [
      "\r",
      "30/30 [==============================] - 0s 41us/step\n"
     ]
    },
    {
     "data": {
      "text/plain": [
       "[1.6468466590424669e-09, 0.0]"
      ]
     },
     "execution_count": 13,
     "metadata": {},
     "output_type": "execute_result"
    }
   ],
   "source": [
    "linearModel.evaluate(x,y)"
   ]
  },
  {
   "cell_type": "code",
   "execution_count": 14,
   "metadata": {
    "collapsed": false
   },
   "outputs": [
    {
     "data": {
      "text/plain": [
       "[array([[ 5.00002527]], dtype=float32), array([ 2.9999187], dtype=float32)]"
      ]
     },
     "execution_count": 14,
     "metadata": {},
     "output_type": "execute_result"
    }
   ],
   "source": [
    "linearModel.get_weights()"
   ]
  },
  {
   "cell_type": "code",
   "execution_count": 9,
   "metadata": {
    "collapsed": false
   },
   "outputs": [
    {
     "name": "stdout",
     "output_type": "stream",
     "text": [
      "t = [ 2  4 15  4  0  4  1 10]\n"
     ]
    },
    {
     "data": {
      "text/plain": [
       "array([[ 12.84523964],\n",
       "       [ 23.1114006 ],\n",
       "       [ 79.57528687],\n",
       "       [ 23.1114006 ],\n",
       "       [  2.57907844],\n",
       "       [ 23.1114006 ],\n",
       "       [  7.71215916],\n",
       "       [ 53.90988159]], dtype=float32)"
      ]
     },
     "execution_count": 9,
     "metadata": {},
     "output_type": "execute_result"
    }
   ],
   "source": [
    "t = random.randint(0,20,8)\n",
    "print('t = %s'%t)\n",
    "linearModel.predict(t)"
   ]
  },
  {
   "cell_type": "code",
   "execution_count": 132,
   "metadata": {
    "collapsed": false
   },
   "outputs": [
    {
     "data": {
      "text/plain": [
       "{'_flattened_layers': [<keras.layers.core.Dense at 0x7f3fdc7dbe10>],\n",
       " '_output_mask_cache': {'139912258949456_139913702890320': None},\n",
       " '_output_shape_cache': {},\n",
       " '_output_tensor_cache': {},\n",
       " 'built': True,\n",
       " 'container_nodes': {'dense_13_ib-0', 'dense_input_13_ib-0'},\n",
       " 'inbound_nodes': [<keras.engine.topology.Node at 0x7f3fdc7e9b50>],\n",
       " 'input_layers': [<keras.engine.topology.InputLayer at 0x7f3fdc7e90d0>],\n",
       " 'input_layers_node_indices': [0],\n",
       " 'input_layers_tensor_indices': [0],\n",
       " 'input_names': ['dense_input_13'],\n",
       " 'inputs': [dense_input_13],\n",
       " 'layers': [<keras.layers.core.Dense at 0x7f3fdc7dbe10>],\n",
       " 'loss': 'mse',\n",
       " 'loss_weights': None,\n",
       " 'metrics': ['accuracy'],\n",
       " 'metrics_names': ['loss', 'acc'],\n",
       " 'metrics_tensors': [mean],\n",
       " 'model': <keras.engine.training.Model at 0x7f3fdc7dbfd0>,\n",
       " 'name': 'sequential_15',\n",
       " 'nodes_by_depth': {0: [<keras.engine.topology.Node at 0x7f3fdc7e9a90>],\n",
       "  1: [<keras.engine.topology.Node at 0x7f3fdc7e9290>]},\n",
       " 'optimizer': <keras.optimizers.SGD at 0x7f3fdc782bd0>,\n",
       " 'outbound_nodes': [],\n",
       " 'output_layers': [<keras.layers.core.Dense at 0x7f3fdc7dbe10>],\n",
       " 'output_layers_node_indices': [0],\n",
       " 'output_layers_tensor_indices': [0],\n",
       " 'output_names': ['dense_13'],\n",
       " 'outputs': [Elemwise{add,no_inplace}.0],\n",
       " 'sample_weight_mode': None,\n",
       " 'stop_training': False,\n",
       " 'supports_masking': False,\n",
       " 'trainable': True}"
      ]
     },
     "execution_count": 132,
     "metadata": {},
     "output_type": "execute_result"
    }
   ],
   "source": [
    "linearModel.__dict__\n",
    "dir(linearModel)"
   ]
  },
  {
   "cell_type": "code",
   "execution_count": 201,
   "metadata": {
    "collapsed": false
   },
   "outputs": [
    {
     "name": "stdout",
     "output_type": "stream",
     "text": [
      "1.1.0\n"
     ]
    }
   ],
   "source": [
    "import keras\n",
    "print(keras.__version__)"
   ]
  },
  {
   "cell_type": "code",
   "execution_count": 150,
   "metadata": {
    "collapsed": false
   },
   "outputs": [
    {
     "data": {
      "text/plain": [
       "'<keras.models.Sequential object at 0x7f3fdc7dbd90>'"
      ]
     },
     "execution_count": 150,
     "metadata": {},
     "output_type": "execute_result"
    }
   ],
   "source": [
    "repr(linearModel)"
   ]
  },
  {
   "cell_type": "code",
   "execution_count": 191,
   "metadata": {
    "collapsed": false
   },
   "outputs": [
    {
     "data": {
      "text/plain": [
       "2"
      ]
     },
     "execution_count": 191,
     "metadata": {},
     "output_type": "execute_result"
    }
   ],
   "source": [
    "import inspect\n",
    "len(inspect.getsourcelines(Sequential))"
   ]
  }
 ],
 "metadata": {
  "anaconda-cloud": {},
  "kernelspec": {
   "display_name": "Python [conda root]",
   "language": "python",
   "name": "conda-root-py"
  },
  "language_info": {
   "codemirror_mode": {
    "name": "ipython",
    "version": 2
   },
   "file_extension": ".py",
   "mimetype": "text/x-python",
   "name": "python",
   "nbconvert_exporter": "python",
   "pygments_lexer": "ipython2",
   "version": "2.7.12"
  }
 },
 "nbformat": 4,
 "nbformat_minor": 1
}
